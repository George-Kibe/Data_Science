{
 "cells": [
  {
   "cell_type": "markdown",
   "metadata": {
    "colab_type": "text",
    "id": "k52b0R_HjaKt"
   },
   "source": [
    "# Clean Coding with PEP8\n",
    "© Explore Data Science Academy"
   ]
  },
  {
   "cell_type": "markdown",
   "metadata": {},
   "source": [
    "## Learning Objectives\n",
    "In this train you will learn how to:\n",
    "\n",
    "- Write clean code following PEP-8 guidelines\n",
    "- Correctly implement indentation and follow the recommended format used for comments\n",
    "- Write docstrings in an appropriate format and utilise PEP-8 naming conventions for variable names\n",
    "\n",
    "\n",
    "## Outline\n",
    "This train is structured as follows:\n",
    "- An introduction into PEP-8 guidelines for writing clean code\n",
    "- Guidelines used for imports, indentation and code layout\n",
    "- Format used for inserting comments and docstrings in code\n",
    "- Recommendation for naming conventions and the use of whitespace in expressions and statements "
   ]
  },
  {
   "cell_type": "code",
   "execution_count": 1,
   "metadata": {},
   "outputs": [
    {
     "data": {
      "image/jpeg": "[encoded data removed]",
      "text/html": [
       "\n",
       "        <iframe\n",
       "            width=\"940\"\n",
       "            height=\"500\"\n",
       "            src=\"https://www.youtube.com/embed/IPGfRvUtES4\"\n",
       "            frameborder=\"0\"\n",
       "            allowfullscreen\n",
       "            \n",
       "        ></iframe>\n",
       "        "
      ],
      "text/plain": [
       "<IPython.lib.display.YouTubeVideo at 0x7f30588fce50>"
      ]
     },
     "execution_count": 1,
     "metadata": {},
     "output_type": "execute_result"
    }
   ],
   "source": [
    "from IPython.display import YouTubeVideo\n",
    "YouTubeVideo('IPGfRvUtES4', width=940, height=500)"
   ]
  },
  {
   "cell_type": "markdown",
   "metadata": {},
   "source": [
    "## Introduction\n",
    "\n",
    "Now that you are writing code, ideas and guidelines about how to style your code are worthwhile to know. Writing code is not just about writing random words and hoping they will compile, the format and style of those words matter. The same way you would have a hard time reading an essay that is badly punctuated is the same as attempting to read badly formatted code. To achieve high readability in our code we will look at Python Enhancement Proposal (PEP) for assistance, specifically PEP-8.\n",
    "\n",
    "When someone wants to implement a change to the Python language, they would have to write a *Python Enhancement Proposal(PEP)*. One of the oldest PEP's is PEP-8, which is just simply a set of rules that are used to determine how we should format our code for better readability and neatness. These factors are important in projects where there are people in different departments working on the same piece of code; clean code allows better communication and efficiency in a team. \n",
    "\n",
    "Below is an image which can be referenced as a *PEP-8 Cheat Sheet*, in this train we will further expand on each of the items. "
   ]
  },
  {
   "cell_type": "code",
   "execution_count": 1,
   "metadata": {},
   "outputs": [
    {
     "data": {
      "text/html": [
       "<img src=\"https://github.com/Explore-AI/Pictures/blob/master/PEP_8_Guide.jpg?raw=true\"/>"
      ],
      "text/plain": [
       "<IPython.core.display.Image object>"
      ]
     },
     "execution_count": 1,
     "metadata": {},
     "output_type": "execute_result"
    }
   ],
   "source": [
    "from IPython.display import Image\n",
    "from IPython.core.display import HTML \n",
    "Image(url= \"https://github.com/Explore-AI/Pictures/blob/master/PEP_8_Guide.jpg?raw=true\")"
   ]
  },
  {
   "cell_type": "markdown",
   "metadata": {},
   "source": [
    "## Imports\n",
    "\n",
    "Importing libraries and/or modules is a common practice when working with Python for data science. The first order of business when writing your script is to ensure that you always import libraries at the start of your script. \n",
    "\n",
    "Imports must be placed at the top of the document just after any initial comments, docstring and global modules or constants. [1]. When importing more than one library, each library must be imported on a single line. "
   ]
  },
  {
   "cell_type": "markdown",
   "metadata": {},
   "source": [
    "* **Good Imports**\n",
    "\n",
    "The following are examples of some good practices to follow when importing libraries."
   ]
  },
  {
   "cell_type": "code",
   "execution_count": 2,
   "metadata": {
    "collapsed": true
   },
   "outputs": [],
   "source": [
    "# An example of a good import (1)\n",
    "from sklearn.linear_model import LinearRegression\n",
    "\n",
    "# Another example of good imports (2)\n",
    "import numpy as np\n",
    "import pandas as pd"
   ]
  },
  {
   "cell_type": "markdown",
   "metadata": {},
   "source": [
    " * **Bad Imports**\n",
    "\n",
    "The following are bad import practices that should be avoided when compiling your code. Wildcard imports (2) are not suitable because there can be two modules within a library that contain the same name but have different functions; one may be built into Python3 and the other may be a third party extension. [1] In addition, it makes it difficult to identify which module has lead to a bug in your code. "
   ]
  },
  {
   "cell_type": "code",
   "execution_count": 3,
   "metadata": {
    "collapsed": true
   },
   "outputs": [],
   "source": [
    "# An example of bad imports (1)\n",
    "import numpy as np, pandas as pd, os, sys\n",
    "\n",
    "# Another example of bad imports (2)\n",
    "from sklearn.linear_model import *"
   ]
  },
  {
   "cell_type": "markdown",
   "metadata": {},
   "source": [
    "## Indentation\n",
    "\n",
    "Python, unlike Java and C++, does not use braces in its syntax and instead uses indents. It is noteworthy that indents are better than using spaces, this is due to the consistency of tabs which are less error-prone than spaces when writing blocks of code. In Python a single indent is equivalent to 4 white spaces and sometimes one can use 3 or even 5 spaces by mistake hence indents using the Tab button (windows) is important. Ideally, a line of code in programming should not be longer than 80 characters if it is then you need to drop it to the next line.\n",
    "\n",
    "All of this will become clear in the next few examples."
   ]
  },
  {
   "cell_type": "markdown",
   "metadata": {},
   "source": [
    "* **Good Indents**\n",
    "\n",
    "The following example uses tabs to make the spaces between the code blocks. "
   ]
  },
  {
   "cell_type": "code",
   "execution_count": 4,
   "metadata": {
    "collapsed": true
   },
   "outputs": [],
   "source": [
    "# An example of indentation that is easily distinguishable\n",
    "def explore(student):\n",
    "    if student != 'Wisani': # 4 white spaces used\n",
    "        return student      # 8 white spaces used\n",
    "    else:\n",
    "        return '{} was at EDSA in 2019'.format(student)"
   ]
  },
  {
   "cell_type": "markdown",
   "metadata": {},
   "source": [
    "* **Bad Indents**\n",
    "\n",
    "The following example is where tabs were used together with white spaces. Python 3 does not allow this and it will result in an error, it is better to remain consistent and maintain the use tabs throughout."
   ]
  },
  {
   "cell_type": "code",
   "execution_count": 6,
   "metadata": {},
   "outputs": [
    {
     "ename": "IndentationError",
     "evalue": "unindent does not match any outer indentation level (<tokenize>, line 5)",
     "output_type": "error",
     "traceback": [
      "\u001b[1;36m  File \u001b[1;32m\"<tokenize>\"\u001b[1;36m, line \u001b[1;32m5\u001b[0m\n\u001b[1;33m    else:                  # 4 white spaces used\u001b[0m\n\u001b[1;37m    ^\u001b[0m\n\u001b[1;31mIndentationError\u001b[0m\u001b[1;31m:\u001b[0m unindent does not match any outer indentation level\n"
     ]
    }
   ],
   "source": [
    "# indents that distinguish lines of code from each other\n",
    "def explore(student):\n",
    "   if student != 'Wisani': # 3 white spaces used\n",
    "      return student       # 6 white spaces used\n",
    "    else:                  # 4 white spaces used\n",
    "        return '{} was at EDSA in 2019'.format(student)"
   ]
  },
  {
   "cell_type": "markdown",
   "metadata": {},
   "source": [
    "## Code layout \n",
    "\n",
    "Your code layout plays a major role in determining how readable your code is, below are key guidelines that will help you write code that is readable, neat and follows PEP-8. These guidelines include the use of blank lines and maintaining a maximum line length. "
   ]
  },
  {
   "cell_type": "markdown",
   "metadata": {},
   "source": [
    "### Blank lines \n",
    "\n",
    "The use of blank lines can greatly improve the readability of your code. Code that is bundled up together can be difficult and tiresome to read. Similarly, the inclusion of too many blank lines in your code makes it look very scattered, causing unnecessary scrolling. Below are key guidelines on how to effectively use blank lines in your code."
   ]
  },
  {
   "cell_type": "markdown",
   "metadata": {},
   "source": [
    "Top-level functions and classes should be surrounded by two blank lines. Top-level functions and classes should be fairly self-contained and functions should be handled separately. It, therefore, makes sense to add additional blank lines to separate each function and class making each distinguishable when looking at your code: "
   ]
  },
  {
   "cell_type": "code",
   "execution_count": 7,
   "metadata": {
    "collapsed": true
   },
   "outputs": [],
   "source": [
    "class ClassOne:\n",
    "    pass\n",
    "\n",
    "\n",
    "class ClassTwo:\n",
    "    pass\n",
    "\n",
    "\n",
    "def top_function():\n",
    "    return None"
   ]
  },
  {
   "cell_type": "markdown",
   "metadata": {},
   "source": [
    "On the other hand method definitions inside classes should be surrounded with a single blank line.Inside a class, functions are all related to one another. A good practice in this case is to leave a single line between them: "
   ]
  },
  {
   "cell_type": "code",
   "execution_count": 8,
   "metadata": {
    "collapsed": true
   },
   "outputs": [],
   "source": [
    "class ClassOne:\n",
    "    def method_one(self):\n",
    "        return None\n",
    "\n",
    "    def method_two(self):\n",
    "        return None"
   ]
  },
  {
   "cell_type": "markdown",
   "metadata": {},
   "source": [
    "### Maximum line length \n",
    "\n",
    "\n",
    "PEP 8 suggests lines should be limited to 79 characters while docstrings/comments characters are limited to 72. Historically, this guideline stems from the limited capacity of older computers as they were only able to fit 79 characters on a single line in a window terminal. Maintaining a line length of 79 characters allows you to have multiple files open next to one another while avoiding line wrapping.The PEP-8 guidelines are not fixed, some teams prefer a 99-character limit.\n",
    "\n",
    "The preferred way of wrapping long lines is by using Python's implied line continuation inside parentheses, brackets and braces. Long lines can be broken over multiple lines by wrapping expressions in parentheses. These should be used in preference to using a backslash for line continuation. An example is provided below:"
   ]
  },
  {
   "cell_type": "raw",
   "metadata": {},
   "source": [
    "with open('/path/to/the/file/you/would/like/to/read') as first_file, \\\n",
    "     open('/path/to/some/file/you/want/to/write/to', 'w') as  second_file:\n",
    "    second_file.write(first_file.read())"
   ]
  },
  {
   "cell_type": "markdown",
   "metadata": {},
   "source": [
    "## Comments \n",
    "\n",
    "Comments allow the reader of the code to follow along and see what the author was intending to convey. This can be helpful when people change projects and new people have to work on projects they know nothing about.\n",
    "\n",
    "Generally there are two types of comments which are inline and block comments. Unlike languages such as C++ and Java, Python does not have well defined block and inline comments. Both variants in python use the hash , noted as \"#\", for comments. The intended use of comments is to explain: Assumptions made in that line of code, include important details in a line of code that you're trying to solve with your code.  \n",
    "\n",
    "A rule of thumb to keep in mind is: *Code tells you how, comments should tell you why*"
   ]
  },
  {
   "cell_type": "code",
   "execution_count": 1,
   "metadata": {
    "collapsed": true
   },
   "outputs": [],
   "source": [
    "# This is an example of a block comment\n",
    "values = ['walk barefoot', 'Be ridiculously optimistic', 'EXPLORE with gumption', 'Choose growth'] # This is an inline comment\n",
    "sprint = ['build an awesome Predict', 'accountable to the team']  # This is an inline comment"
   ]
  },
  {
   "cell_type": "markdown",
   "metadata": {},
   "source": [
    "## Docstrings\n",
    "\n",
    "Good code requires Object Oriented Programming (OOP) which requires methods, classes and functions to have docstrings.  Documentation strings, or docstrings as they are commonly referred to are strings enclosed in double (\"\"\") or single (''') quotation marks that appear on the first line of any function, class, method, or module. Docstrings are used to explain and document a specific block of code. They fall part of the PEP-257 convention but are important for writing clean code.\n",
    "\n",
    "For more detailed examples of docstrings you can visit the PEP-257 website. [2]"
   ]
  },
  {
   "cell_type": "code",
   "execution_count": 10,
   "metadata": {
    "collapsed": true
   },
   "outputs": [],
   "source": [
    "# one line docstring\n",
    "\"\"\"This is a one line docstring\"\"\"\n",
    "# example\n",
    "def spray():\n",
    "    \"\"\"Prints 'Hello World' three times.\"\"\"\n",
    "    print('Hello World\\n' * 3)\n",
    "\n",
    "# multiple line docstring\n",
    "\"\"\"Return a string\n",
    "\n",
    "Some variables - some descriptions\n",
    "\"\"\"\n",
    "# example\n",
    "def sum(a, b):\n",
    "    \"\"\"Calculates the sum of the two given integers.\n",
    "    \n",
    "    Parameters\n",
    "    ----------\n",
    "    a: integer\n",
    "        The first value\n",
    "    b: integer\n",
    "        The second value\n",
    "    \n",
    "    Returns\n",
    "    -------\n",
    "    c: float\n",
    "        The result of the mathematical expression of a + b\n",
    "    \"\"\"\n",
    "    c = a + b\n",
    "    return c"
   ]
  },
  {
   "cell_type": "markdown",
   "metadata": {},
   "source": [
    "## Naming conventions\n",
    "\n",
    "Consistent naming styles are used to keep the code clean and readable. There are few styles that are available, but in this course, we will only look at the following style. A more detailed guide on this exists in the PEP-8 documentation (link provided in appendix).\n",
    "\n",
    "lowercase : variables\n",
    "\n",
    "UPPERCASE : Constants\n",
    "\n",
    "camelCase : rarely used in python\n",
    "\n",
    "CapitalisedWords : Classes\n",
    "\n",
    "underscore (_) for spaces"
   ]
  },
  {
   "cell_type": "code",
   "execution_count": 3,
   "metadata": {
    "collapsed": true
   },
   "outputs": [],
   "source": [
    "# lowercase (variable names)\n",
    "value = 2\n",
    "name = 'ridha'\n",
    "\n",
    "# lowercase_underscores (good for function names)\n",
    "def gross_wages():\n",
    "    wages = 17000\n",
    "\n",
    "# UPPERCASE (good for constants)\n",
    "PI = 3.14\n",
    "GRAVITY = 9.8\n",
    "\n",
    "# UPPERCASE_UNDERSCORES (also good for constants)\n",
    "SPEED_OF_LIGHT = 300000\n",
    "COUNTRY_CODE = 'ZAR'\n",
    "\n",
    "# camelCase (predominantly used in Java and C++)\n",
    "intSpeed = 9\n",
    "strName = 'Siyanda'\n",
    "\n",
    "# CapitalisedWords (good for naming classes)\n",
    "class ClassName:\n",
    "    MyDog = 'Rufus!'\n",
    "\n",
    "# Capitalised_Words (Please Try To Avoid This, It's Ugly)\n",
    "Identity_Document = 'YES'\n",
    "First_Name = 'Wesley'"
   ]
  },
  {
   "cell_type": "markdown",
   "metadata": {},
   "source": [
    "## Whitespace \n",
    "\n",
    "As much as whitespace in code aides in readability, misuse of white space can make code look untidy and difficult to follow. We will look at basics to help you avoid ruining a good piece of code by giving it too much space"
   ]
  },
  {
   "cell_type": "markdown",
   "metadata": {},
   "source": [
    "```python\n",
    "# An example of the use good white space\n",
    "email(df_train[4:25], {student: 64})\n",
    "jam = (6,)\n",
    "butter(2)\n",
    "\n",
    "# An example of the use bad white space\n",
    "email( df_train [ 4 : 25 ] , { student : 64 } )\n",
    "jam = (6, )\n",
    "butter (2)\n",
    "```"
   ]
  },
  {
   "cell_type": "markdown",
   "metadata": {},
   "source": [
    "## Exercise\n",
    "\n",
    "Let us now try to play with a few lines of code and test what we have learned so far. It is advised that you go through each section of the trains and complete it as PEP8 will play an important role in your task as a Data Scientist at EDSA and/or elsewhere. If you struggle to do the exercise, you can seek the assistance of a supervisor or ask a friend to help _unblock_ you."
   ]
  },
  {
   "cell_type": "code",
   "execution_count": null,
   "metadata": {
    "collapsed": true
   },
   "outputs": [],
   "source": [
    "# Exercise 1\n",
    "def FingTHEminus_OfThe_variables( arg1,b) :\n",
    "    \"\"\"The docstring for this function is too long and does not follow PEP8 conventions. Long docstrings should be over multiple lines and not exceed 72 characters.\n",
    "    \"\"\"\n",
    "    variable_Name= arg1 #THE arg1 value is assigned to...\n",
    "                         #...the value variable_Name   \n",
    "    \n",
    "    ''' Return answer'''\n",
    "    return variable_Name+b"
   ]
  },
  {
   "cell_type": "code",
   "execution_count": null,
   "metadata": {
    "collapsed": true
   },
   "outputs": [],
   "source": [
    "# fixed version (1)"
   ]
  },
  {
   "cell_type": "markdown",
   "metadata": {},
   "source": [
    "You can also directly access the docstring of PEP8 (or any python package) directly in jupyter notebook by using help(package_name). You can also use `package_name?` in jupyter for any python package or function in order to access a pop-out window containing its docstring. Uncomment the lines below to see this in action."
   ]
  },
  {
   "cell_type": "code",
   "execution_count": null,
   "metadata": {
    "collapsed": true
   },
   "outputs": [],
   "source": [
    "# help(pep8)"
   ]
  },
  {
   "cell_type": "code",
   "execution_count": null,
   "metadata": {
    "collapsed": true
   },
   "outputs": [],
   "source": [
    "# help(unittest)"
   ]
  },
  {
   "cell_type": "markdown",
   "metadata": {},
   "source": [
    "## Conclusion\n",
    "By now we should have a good idea of the basics of writing clean code. We have looked at how to indent, write comments, docstrings, variable names and white space usage. All of this should serve as a starting point for you to write the best code possible with high standards. At EXPLORE Data Science Academy you should aim to go and explore more and learn even more on your own.\n",
    "\n",
    "PEP contains documentation on more interesting and insightful rules you should have a look at their website in the link(s) provided in the Appendix. "
   ]
  },
  {
   "cell_type": "markdown",
   "metadata": {},
   "source": [
    "## Appendix "
   ]
  },
  {
   "cell_type": "markdown",
   "metadata": {},
   "source": [
    "- [PEP8](https://pep8.org/) \n",
    "\n",
    "- [PEP8 in Python](https://www.python.org/dev/peps/pep-0008/)\n",
    "\n",
    "- [ Python code layout](https://realpython.com/python-pep8/#code-layout)\n",
    "\n",
    "- [Unittest](https://docs.python.org/3/library/unittest.html)"
   ]
  }
 ],
 "metadata": {
  "colab": {
   "name": "12_kmeans_clustering.ipynb",
   "provenance": []
  },
  "kernelspec": {
   "display_name": "Python 3 (ipykernel)",
   "language": "python",
   "name": "python3"
  },
  "language_info": {
   "codemirror_mode": {
    "name": "ipython",
    "version": 3
   },
   "file_extension": ".py",
   "mimetype": "text/x-python",
   "name": "python",
   "nbconvert_exporter": "python",
   "pygments_lexer": "ipython3",
   "version": "3.10.9"
  }
 },
 "nbformat": 4,
 "nbformat_minor": 4
}
