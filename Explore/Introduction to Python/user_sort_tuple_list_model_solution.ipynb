{
 "cells": [
  {
   "cell_type": "markdown",
   "metadata": {},
   "source": [
    "# Sort Lists of Tuples"
   ]
  },
  {
   "cell_type": "markdown",
   "metadata": {},
   "source": [
    "## Honour Code"
   ]
  },
  {
   "cell_type": "markdown",
   "metadata": {},
   "source": [
    "I **YOUR NAME, YOUR SURNAME**, confirm - by submitting this document - that the solutions in this notebook are a result of my own work and that I abide by the EDSA honour code (https://drive.google.com/file/d/1QDCjGZJ8-FmJE3bZdIQNwnJyQKPhHZBn/view?usp=sharing).  \n",
    "\n",
    "Non-compliance with the honour code constitutes a material breach of contract."
   ]
  },
  {
   "cell_type": "markdown",
   "metadata": {},
   "source": [
    "## Challenge\n",
    "Given a list of non-empty tuples, return a list sorted in increasing order by the last element in each tuple.<br>\n",
    "e.g. [(1, 7), (1, 3), (3, 4, 5), (2, 2)] yields<br>\n",
    "`[(2, 2), (1, 3), (3, 4, 5), (1, 7)]`<br>\n",
    "\n",
    "\n",
    "**Hint**: If you are stuck, you can use a [custom Key Function]\n",
    "\n",
    "(https://wiki.python.org/moin/HowTo/Sorting#Key_Functions) to extract the last element form each tuple. "
   ]
  },
  {
   "cell_type": "code",
   "execution_count": null,
   "metadata": {},
   "outputs": [],
   "source": [
    "### START FUNCTION\n",
    "def sort_last(tuples):    \n",
    "    sort_last = sorted(tuples, key=lambda x: x[-1])\n",
    "    return sort_last\n",
    "### END FUNCTION"
   ]
  },
  {
   "cell_type": "code",
   "execution_count": null,
   "metadata": {},
   "outputs": [],
   "source": [
    "sort_last([(1, 7), (1, 3), (3, 4, 5), (2, 2)])"
   ]
  },
  {
   "cell_type": "markdown",
   "metadata": {},
   "source": [
    "_**Expected Outputs**_ \n",
    "```python\n",
    "sort_last([(1, 7), (1, 3), (3, 4, 5), (2, 2)]) == [(2, 2), (1, 3), (3, 4, 5), (1, 7)]\n",
    "sort_last([(3, 1, 9), (2, 6), (5, 7, 1)]) == [(5, 7, 1), (2, 6), (3, 1, 9)] \n",
    "sort_last([(4, 2), (1, 0, 9), (2, 7), (1, 1, 0), (2, 4, 8)]) == [(1, 1, 0), (4, 2), (2, 7), (2, 4, 8), (1, 0, 9)]\n",
    "sort_last([(51, 13), (71, 29), (55, 91, 9, 1), (23, 101, 0), (41,5)]) == [(23, 101, 0), (55, 91, 9, 1), (41, 5), (51, 13), (71, 29)]\n",
    "sort_last([(39, -10, 2, 0), (57, -9)]) == [(57, -9), (39, -10, 2, 0)]\n",
    "```"
   ]
  },
  {
   "cell_type": "markdown",
   "metadata": {},
   "source": [
    "## References"
   ]
  },
  {
   "cell_type": "markdown",
   "metadata": {},
   "source": [
    "This tutorial was created using the wonderful Google Python Developers course, and has been modified under the Creative Common's licence 2.5\n",
    "\n",
    "Copyright 2010 Google Inc. Licensed under the Apache License, Version 2.0 http://www.apache.org/licenses/LICENSE-2.0\n",
    "\n",
    "Google's Python Class http://code.google.com/edu/languages/google-python-class/"
   ]
  }
 ],
 "metadata": {
  "kernelspec": {
   "display_name": "Python 3",
   "language": "python",
   "name": "python3"
  },
  "language_info": {
   "codemirror_mode": {
    "name": "ipython",
    "version": 3
   },
   "file_extension": ".py",
   "mimetype": "text/x-python",
   "name": "python",
   "nbconvert_exporter": "python",
   "pygments_lexer": "ipython3",
   "version": "3.8.8"
  }
 },
 "nbformat": 4,
 "nbformat_minor": 4
}
