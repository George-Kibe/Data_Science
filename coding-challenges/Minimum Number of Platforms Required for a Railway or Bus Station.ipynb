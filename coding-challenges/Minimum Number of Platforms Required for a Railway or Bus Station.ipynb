{
 "cells": [
  {
   "cell_type": "markdown",
   "id": "c8f343a5",
   "metadata": {},
   "source": [
    "## Minimum Number of Platforms Required for a Railway or Bus Station\n",
    "Given the arrival and departure times of all trains that reach a railway station, the task is to find the minimum number of platforms required for the railway station so that no train waits. We are given two arrays that represent the arrival and departure times of trains that stop.\n",
    "\n",
    "### Examples: \n",
    "```\n",
    "Input: arr[] = {9:00, 9:40, 9:50, 11:00, 15:00, 18:00}, dep[] = {9:10, 12:00, 11:20, 11:30, 19:00, 20:00} \n",
    "Output: 3 \n",
    "Explanation: There are at-most three trains at a time (time between 9:40 to 12:00)\n",
    "\n",
    "Input: arr[] = {9:00, 9:40}, dep[] = {9:10, 12:00} \n",
    "Output: 1 \n",
    "Explanation: Only one platform is needed. \n",
    "\n",
    "```\n",
    "### Illustration:\n",
    "\n",
    "Follow the steps mentioned below:\n",
    "\n",
    "Run two nested loops from start to end.\n",
    "For every iteration of the outer loop, find the count of intervals that intersect with the current interval except itself.\n",
    "- Update the answer with the maximum count of overlap in each iteration of the outer loop.\n",
    "- Print the answer.\n",
    "- Below is the implementation of the above approach:"
   ]
  },
  {
   "cell_type": "code",
   "execution_count": 2,
   "id": "805f9cc5",
   "metadata": {},
   "outputs": [
    {
     "name": "stdout",
     "output_type": "stream",
     "text": [
      "2\n"
     ]
    }
   ],
   "source": [
    "# https://www.geeksforgeeks.org/minimum-number-platforms-required-railwaybus-station/\n",
    "# Program to find minimum number of platforms\n",
    "# required on a railway station\n",
    "\n",
    "\n",
    "def findPlatform(arr, dep, n):\n",
    "    '''\n",
    "    Accepts two arrays with arrival and departure time\n",
    "    and the size of the array\n",
    "    Returns minimum number of platforms required\n",
    "    '''\n",
    "\n",
    "    # plat_needed indicates number of platforms\n",
    "    # needed at a time\n",
    "    plat_needed = 1\n",
    "    result = 1\n",
    "\n",
    "    # run a nested loop to find overlap\n",
    "    for i in range(n):\n",
    "        # minimum platform needed\n",
    "        plat_needed = 1\n",
    "\n",
    "        for j in range(n):\n",
    "            # check for overlap\n",
    "            if i != j:\n",
    "                if (arr[i] >= arr[j] and dep[j] >= arr[i]):\n",
    "                    plat_needed += 1\n",
    "\n",
    "        # update result\n",
    "        result = max(result, plat_needed)\n",
    "\n",
    "    return result\n",
    "\n",
    "# Driver code\n",
    "\n",
    "\n",
    "def main():\n",
    "    arr = [100, 300, 500]\n",
    "    dep = [900, 400, 600]\n",
    "\n",
    "    n = len(arr)\n",
    "\n",
    "    print(\"{}\".format(\n",
    "        findPlatform(arr, dep, n)))\n",
    "\n",
    "\n",
    "if __name__ == '__main__':\n",
    "    main()\n"
   ]
  },
  {
   "cell_type": "code",
   "execution_count": null,
   "id": "0960324d",
   "metadata": {},
   "outputs": [],
   "source": []
  }
 ],
 "metadata": {
  "kernelspec": {
   "display_name": "Python 3 (ipykernel)",
   "language": "python",
   "name": "python3"
  },
  "language_info": {
   "codemirror_mode": {
    "name": "ipython",
    "version": 3
   },
   "file_extension": ".py",
   "mimetype": "text/x-python",
   "name": "python",
   "nbconvert_exporter": "python",
   "pygments_lexer": "ipython3",
   "version": "3.10.9"
  }
 },
 "nbformat": 4,
 "nbformat_minor": 5
}
