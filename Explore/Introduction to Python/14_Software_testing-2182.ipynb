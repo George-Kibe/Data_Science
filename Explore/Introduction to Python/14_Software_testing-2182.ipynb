{
 "cells": [
  {
   "cell_type": "markdown",
   "metadata": {},
   "source": [
    "# Software Testing\n",
    "\n",
    "© Explore Data Science Academy"
   ]
  },
  {
   "cell_type": "markdown",
   "metadata": {},
   "source": [
    "## Learning Objectives\n",
    "\n",
    "By the end of this train, you should be able to:\n",
    "\n",
    "* Understand the importance of testing your code;\n",
    "* Create unit tests; and\n",
    "* Read error messages and debug your code.\n",
    "\n",
    "\n",
    "## Outline\n",
    "\n",
    "In this train we will:\n",
    "\n",
    "* Introduce the concept of software testing;\n",
    "* Explain why testing is important;\n",
    "* Discuss the various levels of testing;\n",
    "* Introduce types of errors and testing methods; and \n",
    "* Investigate some practical errors thrown by the Python debugger."
   ]
  },
  {
   "cell_type": "code",
   "execution_count": 1,
   "metadata": {},
   "outputs": [
    {
     "data": {
      "image/jpeg": "[encoded data removed]",
      "text/html": [
       "\n",
       "        <iframe\n",
       "            width=\"940\"\n",
       "            height=\"500\"\n",
       "            src=\"https://www.youtube.com/embed/DBr3qzJKhhc\"\n",
       "            frameborder=\"0\"\n",
       "            allowfullscreen\n",
       "            \n",
       "        ></iframe>\n",
       "        "
      ],
      "text/plain": [
       "<IPython.lib.display.YouTubeVideo at 0x7f6c19a0cb20>"
      ]
     },
     "execution_count": 1,
     "metadata": {},
     "output_type": "execute_result"
    }
   ],
   "source": [
    "\n",
    "from IPython.display import YouTubeVideo\n",
    "YouTubeVideo('DBr3qzJKhhc', width=940, height=500)"
   ]
  },
  {
   "cell_type": "markdown",
   "metadata": {},
   "source": [
    "## What is Software Testing?\n",
    "Software testing is a set of **activities which are intended to find bugs within software**, as well as validate and verify the software meets the business requirements and needs as designed.\n",
    "\n",
    "Importantly, a *bug*, or a defect within the software, is an error that causes an **incorrect or unintended result.**\n",
    "\n",
    "Software testing techniques can be roughly classified into either verification or validation processes.\n",
    "\n",
    "#### Verification\n",
    "During verification, you test the software is built as the **design specification outlined.**  Ultimately, you are verifying the developer completed the development as it was envisioned. \n",
    "\n",
    "In this sense verification asks: \n",
    "\n",
    "    “Are you building it right?”\n",
    "\n",
    "#### Validation\n",
    "During validation, you test that the software that was built **solves for the original business problem** or fulfils the business need.\n",
    "\n",
    "In this sense validation questions:  \n",
    "\n",
    "    “Are you building the right thing?”\n"
   ]
  },
  {
   "cell_type": "markdown",
   "metadata": {},
   "source": [
    "## Why is Software Testing Important?\n",
    "\n",
    "When bugs in software go undetected and are released in live code (known as production code), they can produce serious consequences:\n",
    "\n",
    "   * Loss revenue and increased costs \n",
    "   * User frustration and application abandonment \n",
    "   * Prolonged project delivery and missed milestones\n",
    "\n",
    "…and in some cases, can cause loss of lives!\n",
    "\n",
    "Let's look at a few examples of software bugs to illustrate why it is important to test your software.\n",
    "\n",
    "### Mars Climate Orbiter\n",
    "\n",
    "\n",
    "The Mars Climate Orbiter was launched in 1998 to study Mars climate changes. Unfortunately, the developer made a simple mistake and used English instead of metric units to coordinate the craft's flight path. This bug caused it to get too close to the Mars atmosphere, which caused the Orbiter to disintegrate.\n",
    "\n",
    "The net loss for this error was estimated to be  $327 million dollars!\n",
    "\n",
    "<img src=\"https://raw.githubusercontent.com/Explore-AI/Pictures/master/image3.jpg\">\n",
    "\n",
    "### Prisoners Released Early\n",
    "\n",
    "Another example surrounds a software system used in the United States to calculate the remaining term which prisoners had to serve based on their behaviour. The system was found to have had a bug, introduced in an update in 2002, which caused this term to be erroneously calculated. It was only detected in 2015 though - causing over 3,200 prisoners to be released early from jail!     \n",
    "\n",
    "\n",
    "<img src=\"https://raw.githubusercontent.com/Explore-AI/Pictures/master/bug.PNG\" width=400>\n",
    "\n",
    "### Oscars System Design Error\n",
    "\n",
    "The story on how the Oscars messed up in their awarding of the 2017 'Best Picture' award is a very interesting take on poor system design choices.\n",
    "\n",
    "<img src=\"https://raw.githubusercontent.com/Explore-AI/Pictures/master/pasted image 0.png\" width=450>\n",
    "\n",
    "Listen to an interesting podcast on this blunder at [Cautionary Tales](https://99percentinvisible.org/episode/cautionary-tales/).\n"
   ]
  },
  {
   "cell_type": "markdown",
   "metadata": {},
   "source": [
    "## Goals of Testing\n",
    "\n",
    "In light of the horror stories above (there are many more of these!), the goals of testing are to find bugs before software is published; to verify and validate the system.\n",
    "\n",
    "**Goals for verification testing include**:\n",
    "\n",
    "* To show the presence of defects.\n",
    "* To reduce the probability of bugs remaining in software at time of launch.\n",
    "\n",
    "Importantly, one of the goals for verification is **not** to make the software *bug free*. This is not feasible without large time and financial investment. \n",
    "\n",
    "**The goals for validation testing include**:\n",
    "\n",
    "* To confirm intended users can accurately use the software.\n",
    "* To ensure the end result solves the original business problem. \n"
   ]
  },
  {
   "cell_type": "markdown",
   "metadata": {},
   "source": [
    "## Levels of Testing\n",
    "\n",
    "There are four primary levels in software testing - each concerned with testing the software at different levels of granularity:  \n",
    "\n",
    "1. Unit testing\n",
    "2. Integration testing\n",
    "3. System testing\n",
    "4. Acceptance testing\n",
    "\n",
    "\n",
    "    \n",
    "### Unit Testing\n",
    "\n",
    "Unit tests ensure that small fundamental pieces of code, known as units, behave correctly when invoked in isolation. Examples of code units include functions or class methods and are defined with clear parameters and scope. \n",
    "\n",
    "To use another story to illustrate why unit testing is so important, in 1994 shortly after Intel introduced its Pentium microprocessor, it was found to perform some calculations incorrectly. It was discovered that a table was not being fully initialised; a few cells contained zero instead of 2.\n",
    "\n",
    "Intel claimed to have run millions of tests “using this table”, however, these were probably system tests.\n",
    "\n",
    "<img src=\"https://raw.githubusercontent.com/Explore-AI/Pictures/master/intel.png\" width=400>\n",
    "\n",
    "**A unit test would have revealed that the initialisation loop was ending too early.**\n",
    "\n",
    "Intel had to recall the chip at the cost of millions of dollars.\n",
    "\n",
    "Related to unit testing is the process of module testing. Several units of code make up a module, which often has a larger area of responsibility than a single function would. For example, a single Python script which you run in order to perform a task could be considered as a software module. Here it is important to note that after unit testing is performed, we still need to validate that the units *interact* with each other correctly. This intermediate testing level is known as module testing.    "
   ]
  },
  {
   "cell_type": "markdown",
   "metadata": {},
   "source": [
    "### Integration Testing\n",
    "\n",
    "In real-world software, several modules are integrated into a larger system. Integration testing is to module testing what module testing is unit testing.\n",
    "\n",
    "It is designed to assess how modules interface with one another:\n",
    "\n",
    "* Do they have consistent assumptions? e.g. Are the variables they share all of a compatible type. \n",
    "* Do they communicate correctly?\n",
    "    \n",
    "Like unit and module testing, integration testing is done by programmers."
   ]
  },
  {
   "cell_type": "markdown",
   "metadata": {},
   "source": [
    "### System Testing and Acceptance Testing\n",
    "\n",
    "System testing is designed to determine whether the integrated system meets its specification. It assumes the pieces work individually and interface correctly. Importantly, system testing is done by a separate testing team.\n",
    "\n",
    "Acceptance testing is designed to determine whether the completed software meets users’ needs. It must involve users or people with strong domain knowledge. In this sense, once again acceptance testing is done by a separate testing team.\n",
    "\n",
    "Looking at these two testing levels together, we can see that: \n",
    "\n",
    " - System testing corresponds to verification: **did we build the system right?**\n",
    "\n",
    " - Acceptance testing corresponds to validation: **did we build the right system?**\n",
    "\n",
    "### Glass and Black Boxes\n",
    "\n",
    "<img src=\"https://raw.githubusercontent.com/Explore-AI/Pictures/master/box.png\" width=400>\n",
    "\n",
    "Related to the various levels of testing, an important concept of test implementation surrounds the *testing paradigm*: \n",
    "\n",
    " - If test cases are created based only on an item's problem specification, with no knowledge of the underlying design/implementation of its code being assumed, this process is known as Behavioral or **Black Box testing**.\n",
    " \n",
    " \n",
    " - Conversely, if test cases assume access to the structure, logic and implementation code for an item, this process is known as White or **Glass Box testing**.  "
   ]
  },
  {
   "cell_type": "markdown",
   "metadata": {},
   "source": [
    "## Errors, Bugs, Faults, Failures\n",
    "\n",
    "<img src=\"https://raw.githubusercontent.com/Explore-AI/Pictures/master/first.png\" width=400>\n",
    "\n",
    "The first bug. Reference: http://en.wikipedia.org/wiki/Grace_Hopper\n",
    "\n",
    "Having considered the various levels of testing which we can perform, we need to further clarify some terminology around *Errors*, *Bugs*, and *Debuggers*:\n",
    "\n",
    "**What is an error?**\n",
    "* When your program does not behave as intended or expected.\n",
    "\n",
    "**What is a bug?**\n",
    "* A bug is the cause of an error.\n",
    "* A bug in your system does not always cause an error.\n",
    "\n",
    "**What is Debugging?**\n",
    "* The art of removing bugs\n",
    "\n",
    "### Types of Errors\n",
    "\n",
    "There are several types of errors which we can experience while running software code. Some of these are detectable by a programming debugger, while others require the application of the testing strategies we've previously described. \n",
    "\n",
    "We review some of these errors below using examples from Python: \n",
    "\n",
    "#### Compile-time Error\n",
    "\n",
    "These are errors which are discovered when a program is evaluated by a code compiler, before it is run. Often the improper use of a programming language's syntax (known as a syntax error) will cause these:  "
   ]
  },
  {
   "cell_type": "code",
   "execution_count": 4,
   "metadata": {},
   "outputs": [
    {
     "ename": "SyntaxError",
     "evalue": "invalid syntax (<ipython-input-4-43464c97b66a>, line 1)",
     "output_type": "error",
     "traceback": [
      "\u001b[0;36m  File \u001b[0;32m\"<ipython-input-4-43464c97b66a>\"\u001b[0;36m, line \u001b[0;32m1\u001b[0m\n\u001b[0;31m    product = x y\u001b[0m\n\u001b[0m                ^\u001b[0m\n\u001b[0;31mSyntaxError\u001b[0m\u001b[0;31m:\u001b[0m invalid syntax\n"
     ]
    }
   ],
   "source": [
    "product = x y"
   ]
  },
  {
   "cell_type": "markdown",
   "metadata": {},
   "source": [
    "#### Run-time Error\n",
    "\n",
    "Run-time errors occur when a program's structure is correct, but becomes unstable once executed: "
   ]
  },
  {
   "cell_type": "code",
   "execution_count": 5,
   "metadata": {},
   "outputs": [
    {
     "ename": "ZeroDivisionError",
     "evalue": "division by zero",
     "output_type": "error",
     "traceback": [
      "\u001b[0;31m---------------------------------------------------------------------------\u001b[0m",
      "\u001b[0;31mZeroDivisionError\u001b[0m                         Traceback (most recent call last)",
      "\u001b[0;32m<ipython-input-5-d8274a62b2b8>\u001b[0m in \u001b[0;36m<module>\u001b[0;34m\u001b[0m\n\u001b[1;32m      1\u001b[0m \u001b[0mx\u001b[0m \u001b[0;34m=\u001b[0m \u001b[0;36m0\u001b[0m\u001b[0;34m\u001b[0m\u001b[0;34m\u001b[0m\u001b[0m\n\u001b[0;32m----> 2\u001b[0;31m \u001b[0my\u001b[0m \u001b[0;34m=\u001b[0m \u001b[0;36m15\u001b[0m\u001b[0;34m/\u001b[0m\u001b[0mx\u001b[0m\u001b[0;34m\u001b[0m\u001b[0;34m\u001b[0m\u001b[0m\n\u001b[0m",
      "\u001b[0;31mZeroDivisionError\u001b[0m: division by zero"
     ]
    }
   ],
   "source": [
    "x = 0\n",
    "y = 15/x"
   ]
  },
  {
   "cell_type": "markdown",
   "metadata": {},
   "source": [
    "Strictly speaking, Python only has run-time errors since it’s not compiled. External packages such as [PyChecker](http://pychecker.sourceforge.net/) can be used to check for errors before running."
   ]
  },
  {
   "cell_type": "markdown",
   "metadata": {},
   "source": [
    "#### Logic Error\n",
    "\n",
    "Logic errors describe instances where a program compiles and is stable during execution, yet still produces incorrect results. These spurious results arise from a logical flaw in the algorithm. \n",
    "\n",
    "For example, consider the code below in which we expect the function `add()` to return the sum of two numbers. However, due to a logical error, the function outputs the product of the numbers instead.   "
   ]
  },
  {
   "cell_type": "code",
   "execution_count": 8,
   "metadata": {},
   "outputs": [
    {
     "name": "stdout",
     "output_type": "stream",
     "text": [
      "The function output is: 15\n"
     ]
    }
   ],
   "source": [
    "def add (x, y):\n",
    "    return x * y\n",
    "\n",
    "result = add(5,3)\n",
    "print (f\"The function output is: {result}\")"
   ]
  },
  {
   "cell_type": "markdown",
   "metadata": {},
   "source": [
    "## Testing Methods\n",
    "\n",
    "In summary of what we've learned so far within this train, let's consider some testing methods which we can use on the code which we write. Due to the limited scope of this course, we'll only focus on testing methods which can be applied under a unit testing framework. \n",
    "\n",
    "To help illustrate some of these methods, we'll use the example `range_checker` function defined in the code cell below. This function is supposed to return \"Error\" if its input argument is less than one, or greater than 100. Now, this may seem trivial, but bear with us; being certain that a function works correctly can become a complex affair very quickly. "
   ]
  },
  {
   "cell_type": "code",
   "execution_count": 16,
   "metadata": {
    "collapsed": true,
    "jupyter": {
     "outputs_hidden": true
    }
   },
   "outputs": [],
   "source": [
    "def range_checker(x):\n",
    "    \"\"\"Function that accepts only integers greater than 1 and less than 100\"\"\" \n",
    "    if x < 1 or x > 100:\n",
    "        print (\"ERROR\")\n",
    "    else:\n",
    "        print (\"SUCCESS\")"
   ]
  },
  {
   "cell_type": "markdown",
   "metadata": {},
   "source": [
    "Looking at this code, firstly ask yourself how you could test this function to ensure that it operates correctly? What values of `x` would be suitable to do this? We could choose **all** possible values to be absolutely sure, but this would take forever and be practically infeasible... "
   ]
  },
  {
   "cell_type": "markdown",
   "metadata": {},
   "source": [
    "### Equivalence Classes\n",
    "\n",
    "The first approach when selecting input values to test our function, also known as 'test cases', sees the use of *Equivalence Classes*. \n",
    "\n",
    "An equivalence class consists of a set of elements which are expected to produce the same behaviour when processed by the algorithm. In the case of our example, the logical equivalence classes would be: \n",
    "  \n",
    "  * All numbers less than 1. \n",
    "  * All numbers greater than 1 but less than 100.\n",
    "  * All numbers greater than 100.\n",
    "  \n",
    "From these three sets, we go ahead and select candidate values which are representative of each of the equivalence classes. For example, the values we may choose to test our function could be: -50, 50, and 150. The brilliance of this approach is that now we only have to test three use cases, instead of a seemingly limitless number like we had before. \n",
    "\n",
    "Give equivalence testing a go in the code below: "
   ]
  },
  {
   "cell_type": "code",
   "execution_count": 19,
   "metadata": {},
   "outputs": [
    {
     "name": "stdout",
     "output_type": "stream",
     "text": [
      "ERROR\n"
     ]
    }
   ],
   "source": [
    "# Edit this value to reflect values from the equivalence classes we defined above:\n",
    "a = -50 \n",
    "\n",
    "range_checker(a)"
   ]
  },
  {
   "cell_type": "markdown",
   "metadata": {},
   "source": [
    "### Boundary Values\n",
    "\n",
    "As an alternative to equivalence testing, we can instead choose input values which are close to the *boundary conditions* within our function. These boundaries indicate when the behaviour of the function will change. \n",
    "\n",
    "By testing with boundary values, we can detect if certain dimensions of our logic or code operate correctly. For our example, boundary values occur around the `x < 1` and `x > 100` conditions within the code. As such, some values we could choose around the sides of these boundaries are: 0, 1, 2, 99, 100, 101  \n",
    "\n",
    "Again, give this boundary testing approach a shot by experimenting in the code cell below:"
   ]
  },
  {
   "cell_type": "code",
   "execution_count": 22,
   "metadata": {},
   "outputs": [
    {
     "name": "stdout",
     "output_type": "stream",
     "text": [
      "ERROR\n"
     ]
    }
   ],
   "source": [
    "# Edit this value to reflect boundary values we defined above:\n",
    "a = 0\n",
    "\n",
    "range_checker(a)"
   ]
  },
  {
   "cell_type": "markdown",
   "metadata": {},
   "source": [
    "### Path Testing\n",
    "\n",
    "A final testing method we briefly describe is known as *Path Testing*. This is a technique which is especially useful if the code you're trying to test has multiple logical or operating paths which can be realised. In this case, our objective to efficiently test the code requires us to **use as few test cases possible to cover all possible blocks or paths** within the code. \n",
    "\n",
    "This objective is achieved through the use of path testing. \n",
    "\n",
    "To make this notion of efficiently covering all operating paths more clear, consider the `decision` function below. How would you create test cases to test every path of execution of the program at least once?"
   ]
  },
  {
   "cell_type": "code",
   "execution_count": 27,
   "metadata": {},
   "outputs": [
    {
     "name": "stdout",
     "output_type": "stream",
     "text": [
      "error in a\n",
      "no error in b\n"
     ]
    }
   ],
   "source": [
    "a = 0 # edit this value\n",
    "b = 30 # edit this value\n",
    "\n",
    "def decision(a, b):\n",
    "    if a < 25:\n",
    "        print(\"error in a\")\n",
    "    else: \n",
    "        print(\"no error in a\")\n",
    "    if b < 25:\n",
    "        print(\"error in b\")\n",
    "    else: \n",
    "        print(\"no error in b\")\n",
    "        \n",
    "decision(a,b)"
   ]
  },
  {
   "cell_type": "markdown",
   "metadata": {},
   "source": [
    "To help us visualise all the possible paths within a function, we can often construct a control *flow graph* for the target coding unit.  \n",
    "\n",
    "Below we illustrate a flow graph for the `decision` function. Note how we can clearly see that four distinct paths exist within our code. \n",
    "\n",
    "<img src=\"https://raw.githubusercontent.com/Explore-AI/Pictures/master/graph.PNG\" width=500>"
   ]
  },
  {
   "cell_type": "markdown",
   "metadata": {},
   "source": [
    "## Finding Errors\n",
    "\n",
    "So what do we do if a test case fails? Luckily there are a few methods of finding errors and removing them.\n",
    "\n",
    "Here we’ll discuss the following two techniques:\n",
    "\n",
    "* Tracing\n",
    "* Using a Debugger\n",
    "\n",
    "### Tracing\n",
    "\n",
    "Tracing refers to inserting temporary statements into code to output values at various stages of its execution. This practice can be extremely useful when there is no debugger!\n",
    "\n",
    "We provide a simple example of tracing in the code cell below. Try and play around with the various integer values for these variables to reach the final trace instruction.  "
   ]
  },
  {
   "cell_type": "code",
   "execution_count": 33,
   "metadata": {},
   "outputs": [
    {
     "name": "stdout",
     "output_type": "stream",
     "text": [
      "Z equals: 103\n"
     ]
    }
   ],
   "source": [
    "# Code illustrating the practice of tracing to help debug code. \n",
    "# Choose different integer values for y, x and z to successfully reach the last trace instruction. \n",
    "y = 7\n",
    "x = y*y*2\n",
    "z = x+5\n",
    "\n",
    "print(f'Z equals: {z}')      # <-- Trace instruction. The program will output the current version of z at this point,  \n",
    "if z == 13:   #     before it is evaluated by the conditional if statement.\n",
    "    print('I got here') # <--Trace instruction. Used to check if we entered the conditional statement correctly. "
   ]
  },
  {
   "cell_type": "markdown",
   "metadata": {},
   "source": [
    "### Using a Debugger\n",
    "\n",
    "A far simpler and more convenient way of debugging your code is to use an actual debugger.  A debugger is a tool for executing an application where the programmer can carefully control the execution flow of the application, and inspect the values taken on by variables during this process.\n",
    "\n",
    "The features of a debugger include:\n",
    "* Stepping through code one instruction at a time. \n",
    "* Viewing the current values maintained by all variables at each time step.  \n",
    "* Insertion and removal of breakpoints to pause execution when a certain line of code is reached. \n"
   ]
  },
  {
   "cell_type": "markdown",
   "metadata": {},
   "source": [
    "## Conclusion\n",
    "\n",
    "Phew, that was a lot! \n",
    "\n",
    "In this train, we covered the importance of software testing, its various levels, and some testing techniques. The reader is encouraged to practise creating test cases and debugging their code before moving onto the next section."
   ]
  },
  {
   "cell_type": "markdown",
   "metadata": {},
   "source": [
    "## Appendix\n",
    "\n",
    "- [Software Testing Process and Levels of Testing](https://medium.com/swlh/software-testing-process-and-levels-of-testing-4274904ce655)\n",
    "\n",
    "- [Cautionary Tales](https://99percentinvisible.org/episode/cautionary-tales/)\n",
    "\n",
    "- [US prisoners released early by software bug](https://www.bbc.com/news/technology-35167191)\n"
   ]
  }
 ],
 "metadata": {
  "kernelspec": {
   "display_name": "Python 3 (ipykernel)",
   "language": "python",
   "name": "python3"
  },
  "language_info": {
   "codemirror_mode": {
    "name": "ipython",
    "version": 3
   },
   "file_extension": ".py",
   "mimetype": "text/x-python",
   "name": "python",
   "nbconvert_exporter": "python",
   "pygments_lexer": "ipython3",
   "version": "3.10.9"
  }
 },
 "nbformat": 4,
 "nbformat_minor": 4
}
