{
 "cells": [
  {
   "cell_type": "markdown",
   "metadata": {},
   "source": [
    "# Introduction to Numpy and Pandas\n",
    "\n",
    "© Explore Data Science Academy"
   ]
  },
  {
   "cell_type": "markdown",
   "metadata": {},
   "source": [
    "## Learning Objectives\n",
    "By the end of this train, you should be able to:\n",
    "* Perform basic operations in Numpy;\n",
    "* Perform basic operations in Pandas; and\n",
    "* Analyse data using Numpy and Pandas.\n",
    "\n",
    "## Outline\n",
    "In this train we will:\n",
    "* Introduce the Numpy Python library and some of its functionality;\n",
    "* Introduce the Pandas Python and some of its functionality; and\n",
    "* Load, manipulate, and analyse data using Numpy and Pandas."
   ]
  },
  {
   "cell_type": "code",
   "execution_count": 1,
   "metadata": {},
   "outputs": [
    {
     "data": {
      "image/jpeg": "[encoded data removed]",
      "text/html": [
       "\n",
       "        <iframe\n",
       "            width=\"940\"\n",
       "            height=\"500\"\n",
       "            src=\"https://www.youtube.com/embed/6aR7p0eKo_8\"\n",
       "            frameborder=\"0\"\n",
       "            allowfullscreen\n",
       "            \n",
       "        ></iframe>\n",
       "        "
      ],
      "text/plain": [
       "<IPython.lib.display.YouTubeVideo at 0x7f7098318a00>"
      ]
     },
     "execution_count": 1,
     "metadata": {},
     "output_type": "execute_result"
    }
   ],
   "source": [
    "from IPython.display import YouTubeVideo\n",
    "YouTubeVideo('6aR7p0eKo_8', width=940, height=500)"
   ]
  },
  {
   "cell_type": "markdown",
   "metadata": {},
   "source": [
    "## Introduction\n",
    "\n",
    "Python has many packages for working with data and performing operations like the loading, analysing and storing of data. Numpy and Pandas are two commonly used and useful ones. In this train, you will learn some of the basic operations in Numpy and Pandas.\n",
    "\n",
    "# Numpy\n",
    "Numpy is a Python package which provides high-performance, multidimensional array objects, numerical computing tools, and is fundamental in scientific computing. It is the core library for scientific computing in Python ([see the full documentation](https://numpy.org/)). We will start by defining what an array is, how to create an array, how to access and modify an array, and look at useful functions on arrays. Finally, we will identify when an array should be the chosen data structure when performing data analysis or manipulation.\n",
    "\n",
    "### What is an Array?\n",
    "Similar to that of a Python list, a numpy array is a data structure which stores multiple values. The main difference between the two is that lists can contain heterogeneous data types (combinations of `str`, `int`, even `list`), whilst numpy arrays can only store values of the same data type. Numpy arrays can be thought of as a grid of values and can be multi-dimensional.\n",
    "\n",
    "Numpy arrays are stored more efficiently than Python lists and allow mathematical operations to be vectorized, which results in significantly higher performance than with looping constructs in Python.\n",
    "\n",
    "### Creating a Numpy Array\n",
    "If we want to work with any numpy objects or functions we first need to import the Numpy library.\n"
   ]
  },
  {
   "cell_type": "code",
   "execution_count": 1,
   "metadata": {
    "collapsed": true,
    "jupyter": {
     "outputs_hidden": true
    }
   },
   "outputs": [],
   "source": [
    "import numpy as np"
   ]
  },
  {
   "cell_type": "markdown",
   "metadata": {},
   "source": [
    "To make a numpy array, you use the `np.array()` function. All you need to do is pass a list to it and optionally, you can specify the data type of the data. Let's look at an example:"
   ]
  },
  {
   "cell_type": "code",
   "execution_count": 2,
   "metadata": {},
   "outputs": [
    {
     "data": {
      "text/plain": [
       "array([[94, 89, 63],\n",
       "       [93, 92, 48],\n",
       "       [92, 94, 56]])"
      ]
     },
     "execution_count": 2,
     "metadata": {},
     "output_type": "execute_result"
    }
   ],
   "source": [
    "# Create an array by passing in a list of lists.\n",
    "ratings = np.array([[94,89,63], [93,92,48], [92,94,56]])\n",
    "\n",
    "ratings"
   ]
  },
  {
   "cell_type": "markdown",
   "metadata": {},
   "source": [
    "You can see that there are 3 rows and columns in this array. We can inspect the shape of the array by using its `shape` attribute. This will return a tuple of integers giving the size of the array along each dimension."
   ]
  },
  {
   "cell_type": "code",
   "execution_count": 3,
   "metadata": {},
   "outputs": [
    {
     "data": {
      "text/plain": [
       "(3, 3)"
      ]
     },
     "execution_count": 3,
     "metadata": {},
     "output_type": "execute_result"
    }
   ],
   "source": [
    "ratings.shape"
   ]
  },
  {
   "cell_type": "markdown",
   "metadata": {},
   "source": [
    "We can also create arrays using the following functions:\n",
    "\n",
    "* `np.ones()` - array of ones\n",
    "* `np.zeros()` - array of zeros\n",
    "* `np.random.random()` - array with random values\n",
    "\n",
    "Let's look at some examples:"
   ]
  },
  {
   "cell_type": "code",
   "execution_count": 4,
   "metadata": {},
   "outputs": [
    {
     "data": {
      "text/plain": [
       "array([[1., 1., 1., 1.],\n",
       "       [1., 1., 1., 1.],\n",
       "       [1., 1., 1., 1.]])"
      ]
     },
     "execution_count": 4,
     "metadata": {},
     "output_type": "execute_result"
    }
   ],
   "source": [
    "# Create an array of ones - pass in shape as a tuple.\n",
    "np.ones((3,4))"
   ]
  },
  {
   "cell_type": "code",
   "execution_count": 5,
   "metadata": {},
   "outputs": [
    {
     "data": {
      "text/plain": [
       "array([[0., 0., 0.],\n",
       "       [0., 0., 0.]])"
      ]
     },
     "execution_count": 5,
     "metadata": {},
     "output_type": "execute_result"
    }
   ],
   "source": [
    "# Create an array of zeros - pass in shape as a tuple.\n",
    "np.zeros((2,3))"
   ]
  },
  {
   "cell_type": "code",
   "execution_count": 6,
   "metadata": {},
   "outputs": [
    {
     "data": {
      "text/plain": [
       "array([[0.88427834, 0.81591151, 0.91464321],\n",
       "       [0.78496124, 0.60602797, 0.08391617],\n",
       "       [0.98623361, 0.98582064, 0.53959781]])"
      ]
     },
     "execution_count": 6,
     "metadata": {},
     "output_type": "execute_result"
    }
   ],
   "source": [
    "# Create an array of random values - pass in shape as a tuple.\n",
    "np.random.random((3,3))"
   ]
  },
  {
   "cell_type": "markdown",
   "metadata": {},
   "source": [
    "### Accessing Numpy Arrays\n",
    "Numpy offers several ways to index into arrays. Here, we'll work through slicing, and Boolean array indexing.\n",
    "\n",
    "#### Slicing\n",
    "Similar to Python lists, Numpy arrays can be sliced. Since arrays may be multi-dimensional, you must specify a slice for each dimension of the array, where the slices per dimension is split by a comma. For a 2-D array, the first dimension is the vertical axis while the second dimension is the horizontal axis. For a 2-D array:\n",
    "\n",
    "* `np.array[vertical index , horizontal index]` - for one element\n",
    "* `np.array[vertical start:vertical end , horizontal start:horizontal end]` - for more than one element \n",
    "\n",
    "Let's look at a few examples:"
   ]
  },
  {
   "cell_type": "code",
   "execution_count": 7,
   "metadata": {},
   "outputs": [
    {
     "data": {
      "text/plain": [
       "array([[94, 89, 63],\n",
       "       [93, 92, 48],\n",
       "       [92, 94, 56]])"
      ]
     },
     "execution_count": 7,
     "metadata": {},
     "output_type": "execute_result"
    }
   ],
   "source": [
    "# Whole array.\n",
    "ratings"
   ]
  },
  {
   "cell_type": "code",
   "execution_count": 8,
   "metadata": {},
   "outputs": [
    {
     "data": {
      "text/plain": [
       "94"
      ]
     },
     "execution_count": 8,
     "metadata": {},
     "output_type": "execute_result"
    }
   ],
   "source": [
    "# Select top left element.\n",
    "ratings[0,0]"
   ]
  },
  {
   "cell_type": "code",
   "execution_count": 9,
   "metadata": {},
   "outputs": [
    {
     "data": {
      "text/plain": [
       "array([94, 89, 63])"
      ]
     },
     "execution_count": 9,
     "metadata": {},
     "output_type": "execute_result"
    }
   ],
   "source": [
    "# Select first row.\n",
    "ratings[0,:]"
   ]
  },
  {
   "cell_type": "code",
   "execution_count": 10,
   "metadata": {},
   "outputs": [
    {
     "data": {
      "text/plain": [
       "array([94, 93, 92])"
      ]
     },
     "execution_count": 10,
     "metadata": {},
     "output_type": "execute_result"
    }
   ],
   "source": [
    "# Select first column.\n",
    "ratings[:,0]"
   ]
  },
  {
   "cell_type": "code",
   "execution_count": 11,
   "metadata": {},
   "outputs": [
    {
     "data": {
      "text/plain": [
       "array([[94, 89],\n",
       "       [93, 92]])"
      ]
     },
     "execution_count": 11,
     "metadata": {},
     "output_type": "execute_result"
    }
   ],
   "source": [
    "# Select first two rows and first two columns.\n",
    "ratings[0:2,0:2]"
   ]
  },
  {
   "cell_type": "markdown",
   "metadata": {},
   "source": [
    "#### Boolean Array Indexing\n",
    "Boolean array indexing let's you pick out a selection of elements from an array. This type of indexing is often used to select the elements of an array which satisfy a specific condition. The syntax is as follows:\n",
    "\n",
    "* `np.array[condition]`\n",
    "\n",
    "Let's look at an example:"
   ]
  },
  {
   "cell_type": "code",
   "execution_count": 12,
   "metadata": {},
   "outputs": [
    {
     "data": {
      "text/plain": [
       "array([94, 93, 92, 92, 94])"
      ]
     },
     "execution_count": 12,
     "metadata": {},
     "output_type": "execute_result"
    }
   ],
   "source": [
    "# Select all values greater than 90.\n",
    "ratings[ratings > 90]"
   ]
  },
  {
   "cell_type": "markdown",
   "metadata": {},
   "source": [
    "### Modifying Numpy Arrays\n",
    "We will now look at how to add elements to an array, followed by how to remove elements from an array.\n",
    "\n",
    "#### Adding Elements\n",
    "Adding elements can be done by using the `np.append()` function. This will add elements to the end of an array. Let's look at an example:"
   ]
  },
  {
   "cell_type": "code",
   "execution_count": 13,
   "metadata": {},
   "outputs": [
    {
     "data": {
      "text/plain": [
       "array([[94, 89, 63],\n",
       "       [93, 92, 48],\n",
       "       [92, 94, 56],\n",
       "       [92, 88, 78]])"
      ]
     },
     "execution_count": 13,
     "metadata": {},
     "output_type": "execute_result"
    }
   ],
   "source": [
    "# Append an extra row - note that axis=0.\n",
    "ratings_extra_row = np.append(ratings, [[92, 88, 78]], axis=0)\n",
    "\n",
    "ratings_extra_row"
   ]
  },
  {
   "cell_type": "markdown",
   "metadata": {},
   "source": [
    "#### Removing Elements\n",
    "Deleting elements can be done by using the `np.delete()` function. This will delete elements at the specified indices. Let's look at an example:"
   ]
  },
  {
   "cell_type": "code",
   "execution_count": 14,
   "metadata": {},
   "outputs": [
    {
     "data": {
      "text/plain": [
       "array([[94, 89, 63],\n",
       "       [93, 92, 48]])"
      ]
     },
     "execution_count": 14,
     "metadata": {},
     "output_type": "execute_result"
    }
   ],
   "source": [
    "# Delete the 3rd row - note that axis=0.\n",
    "ratings_del_row = np.delete(ratings, [2], axis=0)\n",
    "\n",
    "ratings_del_row"
   ]
  },
  {
   "cell_type": "markdown",
   "metadata": {},
   "source": [
    "### Functions on Numpy Arrays\n",
    "There are various functions we can perform on numpy arrays. We will look at a few of them, namely:\n",
    "\n",
    "* `np.array.sum()`\n",
    "* `np.array.min()`\n",
    "* `np.array.max()`\n",
    "\n",
    "In all these functions we can pass an axis argument. This will allow us to sum the columns and rows separately. Let's look at examples:"
   ]
  },
  {
   "cell_type": "code",
   "execution_count": 15,
   "metadata": {},
   "outputs": [
    {
     "data": {
      "text/plain": [
       "721"
      ]
     },
     "execution_count": 15,
     "metadata": {},
     "output_type": "execute_result"
    }
   ],
   "source": [
    "# Sum of all elements in array.\n",
    "ratings.sum()"
   ]
  },
  {
   "cell_type": "code",
   "execution_count": 16,
   "metadata": {},
   "outputs": [
    {
     "data": {
      "text/plain": [
       "array([246, 233, 242])"
      ]
     },
     "execution_count": 16,
     "metadata": {},
     "output_type": "execute_result"
    }
   ],
   "source": [
    "# Sum of each row.\n",
    "ratings.sum(axis=1)"
   ]
  },
  {
   "cell_type": "code",
   "execution_count": 17,
   "metadata": {},
   "outputs": [
    {
     "data": {
      "text/plain": [
       "array([63, 48, 56])"
      ]
     },
     "execution_count": 17,
     "metadata": {},
     "output_type": "execute_result"
    }
   ],
   "source": [
    "# Min of each row.\n",
    "ratings.min(axis=1)"
   ]
  },
  {
   "cell_type": "code",
   "execution_count": 18,
   "metadata": {},
   "outputs": [
    {
     "data": {
      "text/plain": [
       "array([94, 94, 63])"
      ]
     },
     "execution_count": 18,
     "metadata": {},
     "output_type": "execute_result"
    }
   ],
   "source": [
    "# Max of each column.\n",
    "ratings.max(axis=0)"
   ]
  },
  {
   "cell_type": "markdown",
   "metadata": {},
   "source": [
    "### When to use Numpy Arrays\n",
    "\n",
    "A Numpy array is a data structure which stores multiple values, all of the same data type, and can be multi-dimensional. We should use a Numpy array if all of the following statements hold:\n",
    "\n",
    "* We have multi-dimensional data\n",
    "* All entries are of the same data type\n",
    "\n",
    "Numpy arrays are also preferred over list of lists due to efficiency and functionality.\n",
    "\n",
    "## Pandas\n",
    "\n",
    "In this section we will look at Pandas dataframes, which is most commonly used for any Python data analysis. We will define what a Pandas dataframe is, show how to create dataframes and how to access them. \n",
    "\n",
    "### What is a Pandas Dataframe?\n",
    "Pandas is a data manipulation tool which is built on the Numpy package. Pandas' key data structure is the `dataframe`. A dataframe allows for the storage and manipulation of tabular data. It is a two-dimensional labelled data structure. \n",
    "\n",
    "<img src=\"https://raw.githubusercontent.com/Explore-AI/Pictures/master/Pandas_dataframe.jpg\">\n",
    "\n",
    "Basically, you could say that the Pandas dataframe consists of three main components: the data, index, and columns. Let's walk through some examples to gain an understanding of these components.\n",
    "\n",
    "#### Creating a Dataframe\n",
    "We can create a dataframe by calling the `DataFrame()` constructor. The main arguments in the constructor are the data, index and columns. The data that is passed in can be in the form of other data structures (lists, dictionaries or numpy arrays) or by loading in a file.\n",
    "\n",
    "Let's start our examples by first importing the Pandas library:"
   ]
  },
  {
   "cell_type": "code",
   "execution_count": 20,
   "metadata": {
    "collapsed": true,
    "jupyter": {
     "outputs_hidden": true
    }
   },
   "outputs": [],
   "source": [
    "import pandas as pd"
   ]
  },
  {
   "cell_type": "markdown",
   "metadata": {},
   "source": [
    "#### Dataframes from other Data Structures\n",
    "\n",
    "We now look at some examples on how to create a dataframe from various data structures in Python. \n",
    "\n",
    "Using **lists**, we need to create a list of lists (nested list) with the relevant data. We then also need to pass an index (player names in this example) and column names."
   ]
  },
  {
   "cell_type": "code",
   "execution_count": 21,
   "metadata": {},
   "outputs": [
    {
     "data": {
      "text/html": [
       "<div>\n",
       "<style scoped>\n",
       "    .dataframe tbody tr th:only-of-type {\n",
       "        vertical-align: middle;\n",
       "    }\n",
       "\n",
       "    .dataframe tbody tr th {\n",
       "        vertical-align: top;\n",
       "    }\n",
       "\n",
       "    .dataframe thead th {\n",
       "        text-align: right;\n",
       "    }\n",
       "</style>\n",
       "<table border=\"1\" class=\"dataframe\">\n",
       "  <thead>\n",
       "    <tr style=\"text-align: right;\">\n",
       "      <th></th>\n",
       "      <th>Age</th>\n",
       "      <th>Nationality</th>\n",
       "      <th>Overall</th>\n",
       "    </tr>\n",
       "  </thead>\n",
       "  <tbody>\n",
       "    <tr>\n",
       "      <td>Christiano Ronaldo</td>\n",
       "      <td>32</td>\n",
       "      <td>Portugal</td>\n",
       "      <td>94</td>\n",
       "    </tr>\n",
       "    <tr>\n",
       "      <td>Lionel Messi</td>\n",
       "      <td>30</td>\n",
       "      <td>Argentina</td>\n",
       "      <td>93</td>\n",
       "    </tr>\n",
       "    <tr>\n",
       "      <td>Neymar</td>\n",
       "      <td>25</td>\n",
       "      <td>Brazil</td>\n",
       "      <td>92</td>\n",
       "    </tr>\n",
       "  </tbody>\n",
       "</table>\n",
       "</div>"
      ],
      "text/plain": [
       "                    Age Nationality  Overall\n",
       "Christiano Ronaldo   32    Portugal       94\n",
       "Lionel Messi         30   Argentina       93\n",
       "Neymar               25      Brazil       92"
      ]
     },
     "execution_count": 21,
     "metadata": {},
     "output_type": "execute_result"
    }
   ],
   "source": [
    "# Create list of lists containing data.\n",
    "list_df = [[32, 'Portugal', 94], [30, 'Argentina', 93], [25 , 'Brazil', 92]]\n",
    "\n",
    "# Create index - names of players.\n",
    "index = ['Christiano Ronaldo', 'Lionel Messi', 'Neymar']\n",
    "\n",
    "# Create column names.\n",
    "columns = ['Age', 'Nationality', 'Overall']\n",
    "\n",
    "# Create dataframe by passing in data, index and columns.\n",
    "pd.DataFrame(data=list_df, index=index, columns=columns)"
   ]
  },
  {
   "cell_type": "markdown",
   "metadata": {},
   "source": [
    "Using **dictionaries**, we need to create a dictionary with the relevant data. \n",
    "\n",
    "The keys should be the column names, while the values should be the data entries for that column. We then also need to pass an index. Note that because the keys account for the column names, we don't have to pass in an argument for columns."
   ]
  },
  {
   "cell_type": "code",
   "execution_count": 22,
   "metadata": {},
   "outputs": [
    {
     "data": {
      "text/html": [
       "<div>\n",
       "<style scoped>\n",
       "    .dataframe tbody tr th:only-of-type {\n",
       "        vertical-align: middle;\n",
       "    }\n",
       "\n",
       "    .dataframe tbody tr th {\n",
       "        vertical-align: top;\n",
       "    }\n",
       "\n",
       "    .dataframe thead th {\n",
       "        text-align: right;\n",
       "    }\n",
       "</style>\n",
       "<table border=\"1\" class=\"dataframe\">\n",
       "  <thead>\n",
       "    <tr style=\"text-align: right;\">\n",
       "      <th></th>\n",
       "      <th>Age</th>\n",
       "      <th>Nationality</th>\n",
       "      <th>Overall</th>\n",
       "    </tr>\n",
       "  </thead>\n",
       "  <tbody>\n",
       "    <tr>\n",
       "      <td>Christiano Ronaldo</td>\n",
       "      <td>32</td>\n",
       "      <td>Portugal</td>\n",
       "      <td>94</td>\n",
       "    </tr>\n",
       "    <tr>\n",
       "      <td>Lionel Messi</td>\n",
       "      <td>30</td>\n",
       "      <td>Argentina</td>\n",
       "      <td>93</td>\n",
       "    </tr>\n",
       "    <tr>\n",
       "      <td>Neymar</td>\n",
       "      <td>25</td>\n",
       "      <td>Brazil</td>\n",
       "      <td>92</td>\n",
       "    </tr>\n",
       "  </tbody>\n",
       "</table>\n",
       "</div>"
      ],
      "text/plain": [
       "                    Age Nationality  Overall\n",
       "Christiano Ronaldo   32    Portugal       94\n",
       "Lionel Messi         30   Argentina       93\n",
       "Neymar               25      Brazil       92"
      ]
     },
     "execution_count": 22,
     "metadata": {},
     "output_type": "execute_result"
    }
   ],
   "source": [
    "# Create dictionary containing data.\n",
    "dict_df = {'Age':[32, 30, 25], 'Nationality':['Portugal', 'Argentina', 'Brazil'], 'Overall':[94, 93, 92]}\n",
    "\n",
    "# Create index - names of players.\n",
    "index = ['Christiano Ronaldo', 'Lionel Messi', 'Neymar']\n",
    "\n",
    "# Create dataframe by passing in data, index and columns.\n",
    "pd.DataFrame(data=dict_df, index=index)"
   ]
  },
  {
   "cell_type": "markdown",
   "metadata": {},
   "source": [
    "Using **numpy arrays**, we need to create a numpy array with the relevant data. We then also need to pass an index (player names) and column names."
   ]
  },
  {
   "cell_type": "code",
   "execution_count": 23,
   "metadata": {},
   "outputs": [
    {
     "data": {
      "text/html": [
       "<div>\n",
       "<style scoped>\n",
       "    .dataframe tbody tr th:only-of-type {\n",
       "        vertical-align: middle;\n",
       "    }\n",
       "\n",
       "    .dataframe tbody tr th {\n",
       "        vertical-align: top;\n",
       "    }\n",
       "\n",
       "    .dataframe thead th {\n",
       "        text-align: right;\n",
       "    }\n",
       "</style>\n",
       "<table border=\"1\" class=\"dataframe\">\n",
       "  <thead>\n",
       "    <tr style=\"text-align: right;\">\n",
       "      <th></th>\n",
       "      <th>Age</th>\n",
       "      <th>Nationality</th>\n",
       "      <th>Overall</th>\n",
       "    </tr>\n",
       "  </thead>\n",
       "  <tbody>\n",
       "    <tr>\n",
       "      <td>Christiano Ronaldo</td>\n",
       "      <td>32</td>\n",
       "      <td>Portugal</td>\n",
       "      <td>94</td>\n",
       "    </tr>\n",
       "    <tr>\n",
       "      <td>Lionel Messi</td>\n",
       "      <td>30</td>\n",
       "      <td>Argentina</td>\n",
       "      <td>93</td>\n",
       "    </tr>\n",
       "    <tr>\n",
       "      <td>Neymar</td>\n",
       "      <td>25</td>\n",
       "      <td>Brazil</td>\n",
       "      <td>92</td>\n",
       "    </tr>\n",
       "  </tbody>\n",
       "</table>\n",
       "</div>"
      ],
      "text/plain": [
       "                   Age Nationality Overall\n",
       "Christiano Ronaldo  32    Portugal      94\n",
       "Lionel Messi        30   Argentina      93\n",
       "Neymar              25      Brazil      92"
      ]
     },
     "execution_count": 23,
     "metadata": {},
     "output_type": "execute_result"
    }
   ],
   "source": [
    "# Create numpy array containing data.\n",
    "array_df = np.array([[32, 'Portugal', 94], [30, 'Argentina', 93], [25 , 'Brazil', 92]])\n",
    "\n",
    "# Create index - names of players.\n",
    "index = ['Christiano Ronaldo', 'Lionel Messi', 'Neymar']\n",
    "\n",
    "# Create column names.\n",
    "columns = ['Age', 'Nationality', 'Overall']\n",
    "\n",
    "# Create dataframe by passing in data, index and columns.\n",
    "pd.DataFrame(data=array_df, index=index, columns=columns)"
   ]
  },
  {
   "cell_type": "markdown",
   "metadata": {},
   "source": [
    "#### Dataframes from other files\n",
    "The data argument can also be a loaded file. We will load the full csv file. Pandas make it very easy to do this; you simply load the data using the `read_csv()` function and pass in the full path of the file as a string.\n",
    "\n",
    "Pandas will use the first row as columns so we don't need to pass column names. We can also specify the index when we load the data by passing our index column as a string under the index_col argument."
   ]
  },
  {
   "cell_type": "code",
   "execution_count": 26,
   "metadata": {},
   "outputs": [
    {
     "data": {
      "text/html": [
       "<div>\n",
       "<style scoped>\n",
       "    .dataframe tbody tr th:only-of-type {\n",
       "        vertical-align: middle;\n",
       "    }\n",
       "\n",
       "    .dataframe tbody tr th {\n",
       "        vertical-align: top;\n",
       "    }\n",
       "\n",
       "    .dataframe thead th {\n",
       "        text-align: right;\n",
       "    }\n",
       "</style>\n",
       "<table border=\"1\" class=\"dataframe\">\n",
       "  <thead>\n",
       "    <tr style=\"text-align: right;\">\n",
       "      <th></th>\n",
       "      <th>Age</th>\n",
       "      <th>Nationality</th>\n",
       "      <th>Overall</th>\n",
       "      <th>Acceleration</th>\n",
       "      <th>Aggression</th>\n",
       "      <th>Agility</th>\n",
       "      <th>Balance</th>\n",
       "      <th>Ball control</th>\n",
       "      <th>Composure</th>\n",
       "      <th>Crossing</th>\n",
       "      <th>...</th>\n",
       "      <th>Short passing</th>\n",
       "      <th>Shot power</th>\n",
       "      <th>Sliding tackle</th>\n",
       "      <th>Sprint speed</th>\n",
       "      <th>Stamina</th>\n",
       "      <th>Standing tackle</th>\n",
       "      <th>Strength</th>\n",
       "      <th>Vision</th>\n",
       "      <th>Volleys</th>\n",
       "      <th>Preferred Positions</th>\n",
       "    </tr>\n",
       "    <tr>\n",
       "      <th>Name</th>\n",
       "      <th></th>\n",
       "      <th></th>\n",
       "      <th></th>\n",
       "      <th></th>\n",
       "      <th></th>\n",
       "      <th></th>\n",
       "      <th></th>\n",
       "      <th></th>\n",
       "      <th></th>\n",
       "      <th></th>\n",
       "      <th></th>\n",
       "      <th></th>\n",
       "      <th></th>\n",
       "      <th></th>\n",
       "      <th></th>\n",
       "      <th></th>\n",
       "      <th></th>\n",
       "      <th></th>\n",
       "      <th></th>\n",
       "      <th></th>\n",
       "      <th></th>\n",
       "    </tr>\n",
       "  </thead>\n",
       "  <tbody>\n",
       "    <tr>\n",
       "      <td>Cristiano Ronaldo</td>\n",
       "      <td>32</td>\n",
       "      <td>Portugal</td>\n",
       "      <td>94</td>\n",
       "      <td>89</td>\n",
       "      <td>63</td>\n",
       "      <td>89</td>\n",
       "      <td>63</td>\n",
       "      <td>93</td>\n",
       "      <td>95</td>\n",
       "      <td>85</td>\n",
       "      <td>...</td>\n",
       "      <td>83</td>\n",
       "      <td>94</td>\n",
       "      <td>23</td>\n",
       "      <td>91</td>\n",
       "      <td>92</td>\n",
       "      <td>31</td>\n",
       "      <td>80</td>\n",
       "      <td>85</td>\n",
       "      <td>88</td>\n",
       "      <td>ST LW</td>\n",
       "    </tr>\n",
       "    <tr>\n",
       "      <td>L. Messi</td>\n",
       "      <td>30</td>\n",
       "      <td>Argentina</td>\n",
       "      <td>93</td>\n",
       "      <td>92</td>\n",
       "      <td>48</td>\n",
       "      <td>90</td>\n",
       "      <td>95</td>\n",
       "      <td>95</td>\n",
       "      <td>96</td>\n",
       "      <td>77</td>\n",
       "      <td>...</td>\n",
       "      <td>88</td>\n",
       "      <td>85</td>\n",
       "      <td>26</td>\n",
       "      <td>87</td>\n",
       "      <td>73</td>\n",
       "      <td>28</td>\n",
       "      <td>59</td>\n",
       "      <td>90</td>\n",
       "      <td>85</td>\n",
       "      <td>RW</td>\n",
       "    </tr>\n",
       "    <tr>\n",
       "      <td>Neymar</td>\n",
       "      <td>25</td>\n",
       "      <td>Brazil</td>\n",
       "      <td>92</td>\n",
       "      <td>94</td>\n",
       "      <td>56</td>\n",
       "      <td>96</td>\n",
       "      <td>82</td>\n",
       "      <td>95</td>\n",
       "      <td>92</td>\n",
       "      <td>75</td>\n",
       "      <td>...</td>\n",
       "      <td>81</td>\n",
       "      <td>80</td>\n",
       "      <td>33</td>\n",
       "      <td>90</td>\n",
       "      <td>78</td>\n",
       "      <td>24</td>\n",
       "      <td>53</td>\n",
       "      <td>80</td>\n",
       "      <td>83</td>\n",
       "      <td>LW</td>\n",
       "    </tr>\n",
       "    <tr>\n",
       "      <td>L. Suárez</td>\n",
       "      <td>30</td>\n",
       "      <td>Uruguay</td>\n",
       "      <td>92</td>\n",
       "      <td>88</td>\n",
       "      <td>78</td>\n",
       "      <td>86</td>\n",
       "      <td>60</td>\n",
       "      <td>91</td>\n",
       "      <td>83</td>\n",
       "      <td>77</td>\n",
       "      <td>...</td>\n",
       "      <td>83</td>\n",
       "      <td>87</td>\n",
       "      <td>38</td>\n",
       "      <td>77</td>\n",
       "      <td>89</td>\n",
       "      <td>45</td>\n",
       "      <td>80</td>\n",
       "      <td>84</td>\n",
       "      <td>88</td>\n",
       "      <td>ST</td>\n",
       "    </tr>\n",
       "    <tr>\n",
       "      <td>M. Neuer</td>\n",
       "      <td>31</td>\n",
       "      <td>Germany</td>\n",
       "      <td>92</td>\n",
       "      <td>58</td>\n",
       "      <td>29</td>\n",
       "      <td>52</td>\n",
       "      <td>35</td>\n",
       "      <td>48</td>\n",
       "      <td>70</td>\n",
       "      <td>15</td>\n",
       "      <td>...</td>\n",
       "      <td>55</td>\n",
       "      <td>25</td>\n",
       "      <td>11</td>\n",
       "      <td>61</td>\n",
       "      <td>44</td>\n",
       "      <td>10</td>\n",
       "      <td>83</td>\n",
       "      <td>70</td>\n",
       "      <td>11</td>\n",
       "      <td>GK</td>\n",
       "    </tr>\n",
       "  </tbody>\n",
       "</table>\n",
       "<p>5 rows × 38 columns</p>\n",
       "</div>"
      ],
      "text/plain": [
       "                   Age Nationality  Overall Acceleration Aggression Agility  \\\n",
       "Name                                                                          \n",
       "Cristiano Ronaldo   32    Portugal       94       89         63      89       \n",
       "L. Messi            30   Argentina       93       92         48      90       \n",
       "Neymar              25      Brazil       92       94         56      96       \n",
       "L. Suárez           30     Uruguay       92       88         78      86       \n",
       "M. Neuer            31     Germany       92       58         29      52       \n",
       "\n",
       "                  Balance Ball control Composure Crossing  ... Short passing  \\\n",
       "Name                                                       ...                 \n",
       "Cristiano Ronaldo  63           93        95       85      ...        83       \n",
       "L. Messi           95           95        96       77      ...        88       \n",
       "Neymar             82           95        92       75      ...        81       \n",
       "L. Suárez          60           91        83       77      ...        83       \n",
       "M. Neuer           35           48        70       15      ...        55       \n",
       "\n",
       "                  Shot power Sliding tackle Sprint speed Stamina  \\\n",
       "Name                                                               \n",
       "Cristiano Ronaldo     94             23           91      92       \n",
       "L. Messi              85             26           87      73       \n",
       "Neymar                80             33           90      78       \n",
       "L. Suárez             87             38           77      89       \n",
       "M. Neuer              25             11           61      44       \n",
       "\n",
       "                  Standing tackle Strength  Vision Volleys Preferred Positions  \n",
       "Name                                                                            \n",
       "Cristiano Ronaldo          31       80      85      88                  ST LW   \n",
       "L. Messi                   28       59      90      85                     RW   \n",
       "Neymar                     24       53      80      83                     LW   \n",
       "L. Suárez                  45       80      84      88                     ST   \n",
       "M. Neuer                   10       83      70      11                     GK   \n",
       "\n",
       "[5 rows x 38 columns]"
      ]
     },
     "execution_count": 26,
     "metadata": {},
     "output_type": "execute_result"
    }
   ],
   "source": [
    "# Load data - pass 'Name' as our index column.\n",
    "# For this exercise, we'll use football player data to evaluate our dataframe.\n",
    "load_df = pd.read_csv('https://raw.githubusercontent.com/Explore-AI/Public-Data/master/Data/fundamentals/football_players.csv', index_col='Name')\n",
    "\n",
    "# Create dataframe called df.\n",
    "df = pd.DataFrame(load_df)\n",
    "\n",
    "# Use the head() function to look at the first 5 rows.\n",
    "df.head()"
   ]
  },
  {
   "cell_type": "markdown",
   "metadata": {},
   "source": [
    "We use the `head()` function to only look at the first 5 records of our data. This is helpful if the dataframe has many rows and loading it will take lots of time.\n",
    "\n",
    "### Accessing Dataframes\n",
    "\n",
    "Accessing data within dataframes is not as straightforward as with the previous data structures. This can be done by index, by column, or by both. Let's work through these methods.\n",
    "\n",
    "#### By Index\n",
    "To access by index only in a dataframe we can use the `iloc` or `loc` functions with the indices in square brackets. The `iloc` function refers to the index location, so we pass in the number of the index, while the `loc` function refers to the name of the index, so we pass in the index name. Use slicing if you want more than one index. Eg:\n",
    "\n",
    "* `dataframe.iloc[index i]` - returns series at index i\n",
    "* `dataframe.iloc[index start: index end]` - returns dataframe from start to end (end not included)\n",
    "* `dataframe.loc['index name']` - returns series of given index name\n",
    "\n",
    "Let's look at a few examples:"
   ]
  },
  {
   "cell_type": "code",
   "execution_count": 27,
   "metadata": {},
   "outputs": [
    {
     "data": {
      "text/plain": [
       "Age                         31\n",
       "Nationality            Germany\n",
       "Overall                     92\n",
       "Acceleration            58    \n",
       "Aggression              29    \n",
       "Agility                 52    \n",
       "Balance                 35    \n",
       "Ball control            48    \n",
       "Composure               70    \n",
       "Crossing                15    \n",
       "Curve                   14    \n",
       "Dribbling               30    \n",
       "Finishing               13    \n",
       "Free kick accuracy      11    \n",
       "GK diving               91    \n",
       "GK handling             90    \n",
       "GK kicking              95    \n",
       "GK positioning          91    \n",
       "GK reflexes             89    \n",
       "Heading accuracy        25    \n",
       "Interceptions           30    \n",
       "Jumping                 78    \n",
       "Long passing            59    \n",
       "Long shots              16    \n",
       "Marking                 10    \n",
       "Penalties               47    \n",
       "Positioning             12    \n",
       "Reactions               85    \n",
       "Short passing           55    \n",
       "Shot power              25    \n",
       "Sliding tackle          11    \n",
       "Sprint speed            61    \n",
       "Stamina                 44    \n",
       "Standing tackle         10    \n",
       "Strength                83    \n",
       "Vision                  70    \n",
       "Volleys                 11    \n",
       "Preferred Positions        GK \n",
       "Name: M. Neuer, dtype: object"
      ]
     },
     "execution_count": 27,
     "metadata": {},
     "output_type": "execute_result"
    }
   ],
   "source": [
    "# Select the 5th row using iloc[].\n",
    "df.iloc[4]"
   ]
  },
  {
   "cell_type": "code",
   "execution_count": 28,
   "metadata": {},
   "outputs": [
    {
     "data": {
      "text/html": [
       "<div>\n",
       "<style scoped>\n",
       "    .dataframe tbody tr th:only-of-type {\n",
       "        vertical-align: middle;\n",
       "    }\n",
       "\n",
       "    .dataframe tbody tr th {\n",
       "        vertical-align: top;\n",
       "    }\n",
       "\n",
       "    .dataframe thead th {\n",
       "        text-align: right;\n",
       "    }\n",
       "</style>\n",
       "<table border=\"1\" class=\"dataframe\">\n",
       "  <thead>\n",
       "    <tr style=\"text-align: right;\">\n",
       "      <th></th>\n",
       "      <th>Age</th>\n",
       "      <th>Nationality</th>\n",
       "      <th>Overall</th>\n",
       "      <th>Acceleration</th>\n",
       "      <th>Aggression</th>\n",
       "      <th>Agility</th>\n",
       "      <th>Balance</th>\n",
       "      <th>Ball control</th>\n",
       "      <th>Composure</th>\n",
       "      <th>Crossing</th>\n",
       "      <th>...</th>\n",
       "      <th>Short passing</th>\n",
       "      <th>Shot power</th>\n",
       "      <th>Sliding tackle</th>\n",
       "      <th>Sprint speed</th>\n",
       "      <th>Stamina</th>\n",
       "      <th>Standing tackle</th>\n",
       "      <th>Strength</th>\n",
       "      <th>Vision</th>\n",
       "      <th>Volleys</th>\n",
       "      <th>Preferred Positions</th>\n",
       "    </tr>\n",
       "    <tr>\n",
       "      <th>Name</th>\n",
       "      <th></th>\n",
       "      <th></th>\n",
       "      <th></th>\n",
       "      <th></th>\n",
       "      <th></th>\n",
       "      <th></th>\n",
       "      <th></th>\n",
       "      <th></th>\n",
       "      <th></th>\n",
       "      <th></th>\n",
       "      <th></th>\n",
       "      <th></th>\n",
       "      <th></th>\n",
       "      <th></th>\n",
       "      <th></th>\n",
       "      <th></th>\n",
       "      <th></th>\n",
       "      <th></th>\n",
       "      <th></th>\n",
       "      <th></th>\n",
       "      <th></th>\n",
       "    </tr>\n",
       "  </thead>\n",
       "  <tbody>\n",
       "    <tr>\n",
       "      <td>M. Neuer</td>\n",
       "      <td>31</td>\n",
       "      <td>Germany</td>\n",
       "      <td>92</td>\n",
       "      <td>58</td>\n",
       "      <td>29</td>\n",
       "      <td>52</td>\n",
       "      <td>35</td>\n",
       "      <td>48</td>\n",
       "      <td>70</td>\n",
       "      <td>15</td>\n",
       "      <td>...</td>\n",
       "      <td>55</td>\n",
       "      <td>25</td>\n",
       "      <td>11</td>\n",
       "      <td>61</td>\n",
       "      <td>44</td>\n",
       "      <td>10</td>\n",
       "      <td>83</td>\n",
       "      <td>70</td>\n",
       "      <td>11</td>\n",
       "      <td>GK</td>\n",
       "    </tr>\n",
       "    <tr>\n",
       "      <td>R. Lewandowski</td>\n",
       "      <td>28</td>\n",
       "      <td>Poland</td>\n",
       "      <td>91</td>\n",
       "      <td>79</td>\n",
       "      <td>80</td>\n",
       "      <td>78</td>\n",
       "      <td>80</td>\n",
       "      <td>89</td>\n",
       "      <td>87</td>\n",
       "      <td>62</td>\n",
       "      <td>...</td>\n",
       "      <td>83</td>\n",
       "      <td>88</td>\n",
       "      <td>19</td>\n",
       "      <td>83</td>\n",
       "      <td>79</td>\n",
       "      <td>42</td>\n",
       "      <td>84</td>\n",
       "      <td>78</td>\n",
       "      <td>87</td>\n",
       "      <td>ST</td>\n",
       "    </tr>\n",
       "    <tr>\n",
       "      <td>De Gea</td>\n",
       "      <td>26</td>\n",
       "      <td>Spain</td>\n",
       "      <td>90</td>\n",
       "      <td>57</td>\n",
       "      <td>38</td>\n",
       "      <td>60</td>\n",
       "      <td>43</td>\n",
       "      <td>42</td>\n",
       "      <td>64</td>\n",
       "      <td>17</td>\n",
       "      <td>...</td>\n",
       "      <td>50</td>\n",
       "      <td>31</td>\n",
       "      <td>13</td>\n",
       "      <td>58</td>\n",
       "      <td>40</td>\n",
       "      <td>21</td>\n",
       "      <td>64</td>\n",
       "      <td>68</td>\n",
       "      <td>13</td>\n",
       "      <td>GK</td>\n",
       "    </tr>\n",
       "    <tr>\n",
       "      <td>E. Hazard</td>\n",
       "      <td>26</td>\n",
       "      <td>Belgium</td>\n",
       "      <td>90</td>\n",
       "      <td>93</td>\n",
       "      <td>54</td>\n",
       "      <td>93</td>\n",
       "      <td>91</td>\n",
       "      <td>92</td>\n",
       "      <td>87</td>\n",
       "      <td>80</td>\n",
       "      <td>...</td>\n",
       "      <td>86</td>\n",
       "      <td>79</td>\n",
       "      <td>22</td>\n",
       "      <td>87</td>\n",
       "      <td>79</td>\n",
       "      <td>27</td>\n",
       "      <td>65</td>\n",
       "      <td>86</td>\n",
       "      <td>79</td>\n",
       "      <td>LW</td>\n",
       "    </tr>\n",
       "    <tr>\n",
       "      <td>T. Kroos</td>\n",
       "      <td>27</td>\n",
       "      <td>Germany</td>\n",
       "      <td>90</td>\n",
       "      <td>60</td>\n",
       "      <td>60</td>\n",
       "      <td>71</td>\n",
       "      <td>69</td>\n",
       "      <td>89</td>\n",
       "      <td>85</td>\n",
       "      <td>85</td>\n",
       "      <td>...</td>\n",
       "      <td>90</td>\n",
       "      <td>87</td>\n",
       "      <td>69</td>\n",
       "      <td>52</td>\n",
       "      <td>77</td>\n",
       "      <td>82</td>\n",
       "      <td>74</td>\n",
       "      <td>88</td>\n",
       "      <td>82</td>\n",
       "      <td>CDM CM</td>\n",
       "    </tr>\n",
       "    <tr>\n",
       "      <td>G. Higuaín</td>\n",
       "      <td>29</td>\n",
       "      <td>Argentina</td>\n",
       "      <td>90</td>\n",
       "      <td>78</td>\n",
       "      <td>50</td>\n",
       "      <td>75</td>\n",
       "      <td>69</td>\n",
       "      <td>85</td>\n",
       "      <td>86</td>\n",
       "      <td>68</td>\n",
       "      <td>...</td>\n",
       "      <td>75</td>\n",
       "      <td>88</td>\n",
       "      <td>18</td>\n",
       "      <td>80</td>\n",
       "      <td>72</td>\n",
       "      <td>22</td>\n",
       "      <td>85</td>\n",
       "      <td>70</td>\n",
       "      <td>88</td>\n",
       "      <td>ST</td>\n",
       "    </tr>\n",
       "  </tbody>\n",
       "</table>\n",
       "<p>6 rows × 38 columns</p>\n",
       "</div>"
      ],
      "text/plain": [
       "                Age Nationality  Overall Acceleration Aggression Agility  \\\n",
       "Name                                                                       \n",
       "M. Neuer         31     Germany       92       58         29      52       \n",
       "R. Lewandowski   28      Poland       91       79         80      78       \n",
       "De Gea           26       Spain       90       57         38      60       \n",
       "E. Hazard        26     Belgium       90       93         54      93       \n",
       "T. Kroos         27     Germany       90       60         60      71       \n",
       "G. Higuaín       29   Argentina       90       78         50      75       \n",
       "\n",
       "               Balance Ball control Composure Crossing  ... Short passing  \\\n",
       "Name                                                    ...                 \n",
       "M. Neuer        35           48        70       15      ...        55       \n",
       "R. Lewandowski  80           89        87       62      ...        83       \n",
       "De Gea          43           42        64       17      ...        50       \n",
       "E. Hazard       91           92        87       80      ...        86       \n",
       "T. Kroos        69           89        85       85      ...        90       \n",
       "G. Higuaín      69           85        86       68      ...        75       \n",
       "\n",
       "               Shot power Sliding tackle Sprint speed Stamina Standing tackle  \\\n",
       "Name                                                                            \n",
       "M. Neuer           25             11           61      44              10       \n",
       "R. Lewandowski     88             19           83      79              42       \n",
       "De Gea             31             13           58      40              21       \n",
       "E. Hazard          79             22           87      79              27       \n",
       "T. Kroos           87             69           52      77              82       \n",
       "G. Higuaín         88             18           80      72              22       \n",
       "\n",
       "               Strength  Vision Volleys Preferred Positions  \n",
       "Name                                                         \n",
       "M. Neuer         83      70      11                     GK   \n",
       "R. Lewandowski   84      78      87                     ST   \n",
       "De Gea           64      68      13                     GK   \n",
       "E. Hazard        65      86      79                     LW   \n",
       "T. Kroos         74      88      82                 CDM CM   \n",
       "G. Higuaín       85      70      88                     ST   \n",
       "\n",
       "[6 rows x 38 columns]"
      ]
     },
     "execution_count": 28,
     "metadata": {},
     "output_type": "execute_result"
    }
   ],
   "source": [
    "# Select rows 5 to 10.\n",
    "df.iloc[4:10]"
   ]
  },
  {
   "cell_type": "code",
   "execution_count": 29,
   "metadata": {},
   "outputs": [
    {
     "data": {
      "text/plain": [
       "Age                         31\n",
       "Nationality            Germany\n",
       "Overall                     92\n",
       "Acceleration            58    \n",
       "Aggression              29    \n",
       "Agility                 52    \n",
       "Balance                 35    \n",
       "Ball control            48    \n",
       "Composure               70    \n",
       "Crossing                15    \n",
       "Curve                   14    \n",
       "Dribbling               30    \n",
       "Finishing               13    \n",
       "Free kick accuracy      11    \n",
       "GK diving               91    \n",
       "GK handling             90    \n",
       "GK kicking              95    \n",
       "GK positioning          91    \n",
       "GK reflexes             89    \n",
       "Heading accuracy        25    \n",
       "Interceptions           30    \n",
       "Jumping                 78    \n",
       "Long passing            59    \n",
       "Long shots              16    \n",
       "Marking                 10    \n",
       "Penalties               47    \n",
       "Positioning             12    \n",
       "Reactions               85    \n",
       "Short passing           55    \n",
       "Shot power              25    \n",
       "Sliding tackle          11    \n",
       "Sprint speed            61    \n",
       "Stamina                 44    \n",
       "Standing tackle         10    \n",
       "Strength                83    \n",
       "Vision                  70    \n",
       "Volleys                 11    \n",
       "Preferred Positions        GK \n",
       "Name: M. Neuer, dtype: object"
      ]
     },
     "execution_count": 29,
     "metadata": {},
     "output_type": "execute_result"
    }
   ],
   "source": [
    "# Select the M. Neuer index using loc[].\n",
    "df.loc['M. Neuer']"
   ]
  },
  {
   "cell_type": "markdown",
   "metadata": {},
   "source": [
    "#### By Column\n",
    "To access by column only we can simply call `dataframe['Column Name']`. If we want more than one column we input a list of column names inside the square brackets:\n",
    "\n",
    "* `dataframe['Column Name']` - returns series of given column\n",
    "* `dataframe[['Column 1', 'Column 2']]` - returns dataframe with the given columns\n",
    "\n",
    "Let's look at examples."
   ]
  },
  {
   "cell_type": "code",
   "execution_count": 30,
   "metadata": {},
   "outputs": [
    {
     "data": {
      "text/plain": [
       "Name\n",
       "Cristiano Ronaldo    32\n",
       "L. Messi             30\n",
       "Neymar               25\n",
       "L. Suárez            30\n",
       "M. Neuer             31\n",
       "                     ..\n",
       "A. Kelsey            17\n",
       "B. Richardson        47\n",
       "J. Young             17\n",
       "J. Lundstram         18\n",
       "L. Sackey            18\n",
       "Name: Age, Length: 17981, dtype: int64"
      ]
     },
     "execution_count": 30,
     "metadata": {},
     "output_type": "execute_result"
    }
   ],
   "source": [
    "# Select the column 'Age'.\n",
    "df['Age']"
   ]
  },
  {
   "cell_type": "code",
   "execution_count": 31,
   "metadata": {},
   "outputs": [
    {
     "data": {
      "text/html": [
       "<div>\n",
       "<style scoped>\n",
       "    .dataframe tbody tr th:only-of-type {\n",
       "        vertical-align: middle;\n",
       "    }\n",
       "\n",
       "    .dataframe tbody tr th {\n",
       "        vertical-align: top;\n",
       "    }\n",
       "\n",
       "    .dataframe thead th {\n",
       "        text-align: right;\n",
       "    }\n",
       "</style>\n",
       "<table border=\"1\" class=\"dataframe\">\n",
       "  <thead>\n",
       "    <tr style=\"text-align: right;\">\n",
       "      <th></th>\n",
       "      <th>Age</th>\n",
       "      <th>Nationality</th>\n",
       "    </tr>\n",
       "    <tr>\n",
       "      <th>Name</th>\n",
       "      <th></th>\n",
       "      <th></th>\n",
       "    </tr>\n",
       "  </thead>\n",
       "  <tbody>\n",
       "    <tr>\n",
       "      <td>Cristiano Ronaldo</td>\n",
       "      <td>32</td>\n",
       "      <td>Portugal</td>\n",
       "    </tr>\n",
       "    <tr>\n",
       "      <td>L. Messi</td>\n",
       "      <td>30</td>\n",
       "      <td>Argentina</td>\n",
       "    </tr>\n",
       "    <tr>\n",
       "      <td>Neymar</td>\n",
       "      <td>25</td>\n",
       "      <td>Brazil</td>\n",
       "    </tr>\n",
       "    <tr>\n",
       "      <td>L. Suárez</td>\n",
       "      <td>30</td>\n",
       "      <td>Uruguay</td>\n",
       "    </tr>\n",
       "    <tr>\n",
       "      <td>M. Neuer</td>\n",
       "      <td>31</td>\n",
       "      <td>Germany</td>\n",
       "    </tr>\n",
       "    <tr>\n",
       "      <td>...</td>\n",
       "      <td>...</td>\n",
       "      <td>...</td>\n",
       "    </tr>\n",
       "    <tr>\n",
       "      <td>A. Kelsey</td>\n",
       "      <td>17</td>\n",
       "      <td>England</td>\n",
       "    </tr>\n",
       "    <tr>\n",
       "      <td>B. Richardson</td>\n",
       "      <td>47</td>\n",
       "      <td>England</td>\n",
       "    </tr>\n",
       "    <tr>\n",
       "      <td>J. Young</td>\n",
       "      <td>17</td>\n",
       "      <td>Scotland</td>\n",
       "    </tr>\n",
       "    <tr>\n",
       "      <td>J. Lundstram</td>\n",
       "      <td>18</td>\n",
       "      <td>England</td>\n",
       "    </tr>\n",
       "    <tr>\n",
       "      <td>L. Sackey</td>\n",
       "      <td>18</td>\n",
       "      <td>Ghana</td>\n",
       "    </tr>\n",
       "  </tbody>\n",
       "</table>\n",
       "<p>17981 rows × 2 columns</p>\n",
       "</div>"
      ],
      "text/plain": [
       "                   Age Nationality\n",
       "Name                              \n",
       "Cristiano Ronaldo   32    Portugal\n",
       "L. Messi            30   Argentina\n",
       "Neymar              25      Brazil\n",
       "L. Suárez           30     Uruguay\n",
       "M. Neuer            31     Germany\n",
       "...                ...         ...\n",
       "A. Kelsey           17     England\n",
       "B. Richardson       47     England\n",
       "J. Young            17    Scotland\n",
       "J. Lundstram        18     England\n",
       "L. Sackey           18       Ghana\n",
       "\n",
       "[17981 rows x 2 columns]"
      ]
     },
     "execution_count": 31,
     "metadata": {},
     "output_type": "execute_result"
    }
   ],
   "source": [
    "# Select the columns 'Age' and 'Nationality'.\n",
    "df[['Age', 'Nationality']]"
   ]
  },
  {
   "cell_type": "markdown",
   "metadata": {},
   "source": [
    "#### By index and column\n",
    "We can also select a subset of the dataframe using indices and columns in combination. Let's look at a few examples:"
   ]
  },
  {
   "cell_type": "code",
   "execution_count": 32,
   "metadata": {},
   "outputs": [
    {
     "data": {
      "text/html": [
       "<div>\n",
       "<style scoped>\n",
       "    .dataframe tbody tr th:only-of-type {\n",
       "        vertical-align: middle;\n",
       "    }\n",
       "\n",
       "    .dataframe tbody tr th {\n",
       "        vertical-align: top;\n",
       "    }\n",
       "\n",
       "    .dataframe thead th {\n",
       "        text-align: right;\n",
       "    }\n",
       "</style>\n",
       "<table border=\"1\" class=\"dataframe\">\n",
       "  <thead>\n",
       "    <tr style=\"text-align: right;\">\n",
       "      <th></th>\n",
       "      <th>Age</th>\n",
       "      <th>Nationality</th>\n",
       "    </tr>\n",
       "    <tr>\n",
       "      <th>Name</th>\n",
       "      <th></th>\n",
       "      <th></th>\n",
       "    </tr>\n",
       "  </thead>\n",
       "  <tbody>\n",
       "    <tr>\n",
       "      <td>Cristiano Ronaldo</td>\n",
       "      <td>32</td>\n",
       "      <td>Portugal</td>\n",
       "    </tr>\n",
       "    <tr>\n",
       "      <td>L. Messi</td>\n",
       "      <td>30</td>\n",
       "      <td>Argentina</td>\n",
       "    </tr>\n",
       "    <tr>\n",
       "      <td>Neymar</td>\n",
       "      <td>25</td>\n",
       "      <td>Brazil</td>\n",
       "    </tr>\n",
       "    <tr>\n",
       "      <td>L. Suárez</td>\n",
       "      <td>30</td>\n",
       "      <td>Uruguay</td>\n",
       "    </tr>\n",
       "    <tr>\n",
       "      <td>M. Neuer</td>\n",
       "      <td>31</td>\n",
       "      <td>Germany</td>\n",
       "    </tr>\n",
       "  </tbody>\n",
       "</table>\n",
       "</div>"
      ],
      "text/plain": [
       "                   Age Nationality\n",
       "Name                              \n",
       "Cristiano Ronaldo   32    Portugal\n",
       "L. Messi            30   Argentina\n",
       "Neymar              25      Brazil\n",
       "L. Suárez           30     Uruguay\n",
       "M. Neuer            31     Germany"
      ]
     },
     "execution_count": 32,
     "metadata": {},
     "output_type": "execute_result"
    }
   ],
   "source": [
    "# Select the first 5 rows and first 2 columns - Rows first.\n",
    "df.iloc[0:5][['Age', 'Nationality']]"
   ]
  },
  {
   "cell_type": "code",
   "execution_count": 33,
   "metadata": {},
   "outputs": [
    {
     "data": {
      "text/html": [
       "<div>\n",
       "<style scoped>\n",
       "    .dataframe tbody tr th:only-of-type {\n",
       "        vertical-align: middle;\n",
       "    }\n",
       "\n",
       "    .dataframe tbody tr th {\n",
       "        vertical-align: top;\n",
       "    }\n",
       "\n",
       "    .dataframe thead th {\n",
       "        text-align: right;\n",
       "    }\n",
       "</style>\n",
       "<table border=\"1\" class=\"dataframe\">\n",
       "  <thead>\n",
       "    <tr style=\"text-align: right;\">\n",
       "      <th></th>\n",
       "      <th>Age</th>\n",
       "      <th>Nationality</th>\n",
       "    </tr>\n",
       "    <tr>\n",
       "      <th>Name</th>\n",
       "      <th></th>\n",
       "      <th></th>\n",
       "    </tr>\n",
       "  </thead>\n",
       "  <tbody>\n",
       "    <tr>\n",
       "      <td>Cristiano Ronaldo</td>\n",
       "      <td>32</td>\n",
       "      <td>Portugal</td>\n",
       "    </tr>\n",
       "    <tr>\n",
       "      <td>L. Messi</td>\n",
       "      <td>30</td>\n",
       "      <td>Argentina</td>\n",
       "    </tr>\n",
       "    <tr>\n",
       "      <td>Neymar</td>\n",
       "      <td>25</td>\n",
       "      <td>Brazil</td>\n",
       "    </tr>\n",
       "    <tr>\n",
       "      <td>L. Suárez</td>\n",
       "      <td>30</td>\n",
       "      <td>Uruguay</td>\n",
       "    </tr>\n",
       "    <tr>\n",
       "      <td>M. Neuer</td>\n",
       "      <td>31</td>\n",
       "      <td>Germany</td>\n",
       "    </tr>\n",
       "  </tbody>\n",
       "</table>\n",
       "</div>"
      ],
      "text/plain": [
       "                   Age Nationality\n",
       "Name                              \n",
       "Cristiano Ronaldo   32    Portugal\n",
       "L. Messi            30   Argentina\n",
       "Neymar              25      Brazil\n",
       "L. Suárez           30     Uruguay\n",
       "M. Neuer            31     Germany"
      ]
     },
     "execution_count": 33,
     "metadata": {},
     "output_type": "execute_result"
    }
   ],
   "source": [
    "# Select the first 5 rows and first 2 columns - Columns first.\n",
    "df[['Age', 'Nationality']].iloc[0:5]"
   ]
  },
  {
   "cell_type": "markdown",
   "metadata": {},
   "source": [
    "### When to use Dataframes\n",
    "Unlike the Numpy array which is suited for storing and performing computations on homogeneous data (data of the same type), Pandas dataframes can accommodate heterogeneous data. This makes them the choice data structure for manipulating often messy data (e.g tabular data from spreadsheets, or SQL tables). \n",
    "\n",
    "We should use a Pandas dataframe if all of the following statements hold:\n",
    "\n",
    "* We have 2-dimensional data (rows and columns)\n",
    "* The data type is the same within a column\n",
    "* We are interested in the index (rows) and column names\n",
    "\n",
    "## Exercises\n",
    "\n",
    "Here are some exercises for you to try out. The solutions can be found at the end of this train."
   ]
  },
  {
   "cell_type": "markdown",
   "metadata": {},
   "source": [
    "#### Exercise 1:\n",
    "Select rows 9-14 of the football player dataframe we've just been using."
   ]
  },
  {
   "cell_type": "code",
   "execution_count": 34,
   "metadata": {
    "collapsed": true,
    "jupyter": {
     "outputs_hidden": true
    }
   },
   "outputs": [],
   "source": [
    "# Answer here"
   ]
  },
  {
   "cell_type": "markdown",
   "metadata": {},
   "source": [
    "#### Exercise 2:\n",
    "Select, in order, only the \"Preferred Positions\", \"Overall\" and \"Age\" columns for the football player Neymar."
   ]
  },
  {
   "cell_type": "code",
   "execution_count": 35,
   "metadata": {
    "collapsed": true,
    "jupyter": {
     "outputs_hidden": true
    }
   },
   "outputs": [],
   "source": [
    "# Answer here"
   ]
  },
  {
   "cell_type": "markdown",
   "metadata": {},
   "source": [
    "#### Exercise 3:\n",
    "Select, in order, only the \"Overall\", \"Age\" and \"Nationality\" columns for all players with ages of 35 years or older"
   ]
  },
  {
   "cell_type": "code",
   "execution_count": 36,
   "metadata": {
    "collapsed": true,
    "jupyter": {
     "outputs_hidden": true
    }
   },
   "outputs": [],
   "source": [
    "# Answer here"
   ]
  },
  {
   "cell_type": "markdown",
   "metadata": {},
   "source": [
    "## Conclusion\n",
    "In this train, you learned to perform basic operations using more Numpy and Pandas, you also learnt how to load, manipulate and analyse data using these packages. The reader is expected to complete the exercises before moving forward to ensure familiarity with these packages."
   ]
  },
  {
   "cell_type": "markdown",
   "metadata": {},
   "source": [
    "## Solutions"
   ]
  },
  {
   "cell_type": "code",
   "execution_count": 37,
   "metadata": {},
   "outputs": [
    {
     "data": {
      "text/html": [
       "<div>\n",
       "<style scoped>\n",
       "    .dataframe tbody tr th:only-of-type {\n",
       "        vertical-align: middle;\n",
       "    }\n",
       "\n",
       "    .dataframe tbody tr th {\n",
       "        vertical-align: top;\n",
       "    }\n",
       "\n",
       "    .dataframe thead th {\n",
       "        text-align: right;\n",
       "    }\n",
       "</style>\n",
       "<table border=\"1\" class=\"dataframe\">\n",
       "  <thead>\n",
       "    <tr style=\"text-align: right;\">\n",
       "      <th></th>\n",
       "      <th>Age</th>\n",
       "      <th>Nationality</th>\n",
       "      <th>Overall</th>\n",
       "      <th>Acceleration</th>\n",
       "      <th>Aggression</th>\n",
       "      <th>Agility</th>\n",
       "      <th>Balance</th>\n",
       "      <th>Ball control</th>\n",
       "      <th>Composure</th>\n",
       "      <th>Crossing</th>\n",
       "      <th>...</th>\n",
       "      <th>Short passing</th>\n",
       "      <th>Shot power</th>\n",
       "      <th>Sliding tackle</th>\n",
       "      <th>Sprint speed</th>\n",
       "      <th>Stamina</th>\n",
       "      <th>Standing tackle</th>\n",
       "      <th>Strength</th>\n",
       "      <th>Vision</th>\n",
       "      <th>Volleys</th>\n",
       "      <th>Preferred Positions</th>\n",
       "    </tr>\n",
       "    <tr>\n",
       "      <th>Name</th>\n",
       "      <th></th>\n",
       "      <th></th>\n",
       "      <th></th>\n",
       "      <th></th>\n",
       "      <th></th>\n",
       "      <th></th>\n",
       "      <th></th>\n",
       "      <th></th>\n",
       "      <th></th>\n",
       "      <th></th>\n",
       "      <th></th>\n",
       "      <th></th>\n",
       "      <th></th>\n",
       "      <th></th>\n",
       "      <th></th>\n",
       "      <th></th>\n",
       "      <th></th>\n",
       "      <th></th>\n",
       "      <th></th>\n",
       "      <th></th>\n",
       "      <th></th>\n",
       "    </tr>\n",
       "  </thead>\n",
       "  <tbody>\n",
       "    <tr>\n",
       "      <th>T. Kroos</th>\n",
       "      <td>27</td>\n",
       "      <td>Germany</td>\n",
       "      <td>90</td>\n",
       "      <td>60</td>\n",
       "      <td>60</td>\n",
       "      <td>71</td>\n",
       "      <td>69</td>\n",
       "      <td>89</td>\n",
       "      <td>85</td>\n",
       "      <td>85</td>\n",
       "      <td>...</td>\n",
       "      <td>90</td>\n",
       "      <td>87</td>\n",
       "      <td>69</td>\n",
       "      <td>52</td>\n",
       "      <td>77</td>\n",
       "      <td>82</td>\n",
       "      <td>74</td>\n",
       "      <td>88</td>\n",
       "      <td>82</td>\n",
       "      <td>CDM CM</td>\n",
       "    </tr>\n",
       "    <tr>\n",
       "      <th>G. Higuaín</th>\n",
       "      <td>29</td>\n",
       "      <td>Argentina</td>\n",
       "      <td>90</td>\n",
       "      <td>78</td>\n",
       "      <td>50</td>\n",
       "      <td>75</td>\n",
       "      <td>69</td>\n",
       "      <td>85</td>\n",
       "      <td>86</td>\n",
       "      <td>68</td>\n",
       "      <td>...</td>\n",
       "      <td>75</td>\n",
       "      <td>88</td>\n",
       "      <td>18</td>\n",
       "      <td>80</td>\n",
       "      <td>72</td>\n",
       "      <td>22</td>\n",
       "      <td>85</td>\n",
       "      <td>70</td>\n",
       "      <td>88</td>\n",
       "      <td>ST</td>\n",
       "    </tr>\n",
       "    <tr>\n",
       "      <th>Sergio Ramos</th>\n",
       "      <td>31</td>\n",
       "      <td>Spain</td>\n",
       "      <td>90</td>\n",
       "      <td>75</td>\n",
       "      <td>84</td>\n",
       "      <td>79</td>\n",
       "      <td>60</td>\n",
       "      <td>84</td>\n",
       "      <td>80</td>\n",
       "      <td>66</td>\n",
       "      <td>...</td>\n",
       "      <td>78</td>\n",
       "      <td>79</td>\n",
       "      <td>91</td>\n",
       "      <td>77</td>\n",
       "      <td>84</td>\n",
       "      <td>89</td>\n",
       "      <td>81</td>\n",
       "      <td>63</td>\n",
       "      <td>66</td>\n",
       "      <td>CB</td>\n",
       "    </tr>\n",
       "    <tr>\n",
       "      <th>K. De Bruyne</th>\n",
       "      <td>26</td>\n",
       "      <td>Belgium</td>\n",
       "      <td>89</td>\n",
       "      <td>76</td>\n",
       "      <td>68</td>\n",
       "      <td>80</td>\n",
       "      <td>75</td>\n",
       "      <td>87</td>\n",
       "      <td>84</td>\n",
       "      <td>90</td>\n",
       "      <td>...</td>\n",
       "      <td>90</td>\n",
       "      <td>85</td>\n",
       "      <td>40</td>\n",
       "      <td>75</td>\n",
       "      <td>87</td>\n",
       "      <td>51</td>\n",
       "      <td>73</td>\n",
       "      <td>90</td>\n",
       "      <td>82</td>\n",
       "      <td>RM CM CAM</td>\n",
       "    </tr>\n",
       "    <tr>\n",
       "      <th>T. Courtois</th>\n",
       "      <td>25</td>\n",
       "      <td>Belgium</td>\n",
       "      <td>89</td>\n",
       "      <td>46</td>\n",
       "      <td>23</td>\n",
       "      <td>61</td>\n",
       "      <td>45</td>\n",
       "      <td>23</td>\n",
       "      <td>52</td>\n",
       "      <td>14</td>\n",
       "      <td>...</td>\n",
       "      <td>32</td>\n",
       "      <td>36</td>\n",
       "      <td>16</td>\n",
       "      <td>52</td>\n",
       "      <td>38</td>\n",
       "      <td>18</td>\n",
       "      <td>70</td>\n",
       "      <td>44</td>\n",
       "      <td>12</td>\n",
       "      <td>GK</td>\n",
       "    </tr>\n",
       "    <tr>\n",
       "      <th>A. Sánchez</th>\n",
       "      <td>28</td>\n",
       "      <td>Chile</td>\n",
       "      <td>89</td>\n",
       "      <td>88</td>\n",
       "      <td>80</td>\n",
       "      <td>90</td>\n",
       "      <td>87</td>\n",
       "      <td>87</td>\n",
       "      <td>86</td>\n",
       "      <td>80</td>\n",
       "      <td>...</td>\n",
       "      <td>81</td>\n",
       "      <td>84</td>\n",
       "      <td>35</td>\n",
       "      <td>84</td>\n",
       "      <td>85</td>\n",
       "      <td>39</td>\n",
       "      <td>72</td>\n",
       "      <td>83</td>\n",
       "      <td>83</td>\n",
       "      <td>RM LW ST LM</td>\n",
       "    </tr>\n",
       "  </tbody>\n",
       "</table>\n",
       "<p>6 rows × 38 columns</p>\n",
       "</div>"
      ],
      "text/plain": [
       "              Age Nationality  Overall Acceleration Aggression Agility  \\\n",
       "Name                                                                     \n",
       "T. Kroos       27     Germany       90       60         60      71       \n",
       "G. Higuaín     29   Argentina       90       78         50      75       \n",
       "Sergio Ramos   31       Spain       90       75         84      79       \n",
       "K. De Bruyne   26     Belgium       89       76         68      80       \n",
       "T. Courtois    25     Belgium       89       46         23      61       \n",
       "A. Sánchez     28       Chile       89       88         80      90       \n",
       "\n",
       "             Balance Ball control Composure Crossing  ... Short passing  \\\n",
       "Name                                                  ...                 \n",
       "T. Kroos      69           89        85       85      ...        90       \n",
       "G. Higuaín    69           85        86       68      ...        75       \n",
       "Sergio Ramos  60           84        80       66      ...        78       \n",
       "K. De Bruyne  75           87        84       90      ...        90       \n",
       "T. Courtois   45           23        52       14      ...        32       \n",
       "A. Sánchez    87           87        86       80      ...        81       \n",
       "\n",
       "             Shot power Sliding tackle Sprint speed Stamina Standing tackle  \\\n",
       "Name                                                                          \n",
       "T. Kroos         87             69           52      77              82       \n",
       "G. Higuaín       88             18           80      72              22       \n",
       "Sergio Ramos     79             91           77      84              89       \n",
       "K. De Bruyne     85             40           75      87              51       \n",
       "T. Courtois      36             16           52      38              18       \n",
       "A. Sánchez       84             35           84      85              39       \n",
       "\n",
       "             Strength  Vision Volleys Preferred Positions  \n",
       "Name                                                       \n",
       "T. Kroos       74      88      82                 CDM CM   \n",
       "G. Higuaín     85      70      88                     ST   \n",
       "Sergio Ramos   81      63      66                     CB   \n",
       "K. De Bruyne   73      90      82              RM CM CAM   \n",
       "T. Courtois    70      44      12                     GK   \n",
       "A. Sánchez     72      83      83            RM LW ST LM   \n",
       "\n",
       "[6 rows x 38 columns]"
      ]
     },
     "execution_count": 37,
     "metadata": {},
     "output_type": "execute_result"
    }
   ],
   "source": [
    "# Exercise 1 solution\n",
    "\n",
    "df.iloc[8:14]"
   ]
  },
  {
   "cell_type": "code",
   "execution_count": 38,
   "metadata": {},
   "outputs": [
    {
     "data": {
      "text/plain": [
       "Preferred Positions    LW \n",
       "Overall                 92\n",
       "Age                     25\n",
       "Name: Neymar, dtype: object"
      ]
     },
     "execution_count": 38,
     "metadata": {},
     "output_type": "execute_result"
    }
   ],
   "source": [
    "# Exercise 2 solution\n",
    "\n",
    "df.iloc[2][['Preferred Positions', 'Overall', 'Age']]"
   ]
  },
  {
   "cell_type": "code",
   "execution_count": 39,
   "metadata": {},
   "outputs": [
    {
     "data": {
      "text/html": [
       "<div>\n",
       "<style scoped>\n",
       "    .dataframe tbody tr th:only-of-type {\n",
       "        vertical-align: middle;\n",
       "    }\n",
       "\n",
       "    .dataframe tbody tr th {\n",
       "        vertical-align: top;\n",
       "    }\n",
       "\n",
       "    .dataframe thead th {\n",
       "        text-align: right;\n",
       "    }\n",
       "</style>\n",
       "<table border=\"1\" class=\"dataframe\">\n",
       "  <thead>\n",
       "    <tr style=\"text-align: right;\">\n",
       "      <th></th>\n",
       "      <th>Overall</th>\n",
       "      <th>Age</th>\n",
       "      <th>Nationality</th>\n",
       "    </tr>\n",
       "    <tr>\n",
       "      <th>Name</th>\n",
       "      <th></th>\n",
       "      <th></th>\n",
       "      <th></th>\n",
       "    </tr>\n",
       "  </thead>\n",
       "  <tbody>\n",
       "    <tr>\n",
       "      <th>G. Buffon</th>\n",
       "      <td>89</td>\n",
       "      <td>39</td>\n",
       "      <td>Italy</td>\n",
       "    </tr>\n",
       "    <tr>\n",
       "      <th>Z. Ibrahimović</th>\n",
       "      <td>88</td>\n",
       "      <td>35</td>\n",
       "      <td>Sweden</td>\n",
       "    </tr>\n",
       "    <tr>\n",
       "      <th>P. Čech</th>\n",
       "      <td>86</td>\n",
       "      <td>35</td>\n",
       "      <td>Czech Republic</td>\n",
       "    </tr>\n",
       "    <tr>\n",
       "      <th>A. Barzagli</th>\n",
       "      <td>85</td>\n",
       "      <td>36</td>\n",
       "      <td>Italy</td>\n",
       "    </tr>\n",
       "    <tr>\n",
       "      <th>Aduriz</th>\n",
       "      <td>84</td>\n",
       "      <td>36</td>\n",
       "      <td>Spain</td>\n",
       "    </tr>\n",
       "    <tr>\n",
       "      <th>...</th>\n",
       "      <td>...</td>\n",
       "      <td>...</td>\n",
       "      <td>...</td>\n",
       "    </tr>\n",
       "    <tr>\n",
       "      <th>R. Kawai</th>\n",
       "      <td>52</td>\n",
       "      <td>38</td>\n",
       "      <td>Japan</td>\n",
       "    </tr>\n",
       "    <tr>\n",
       "      <th>Y. Nishibe</th>\n",
       "      <td>52</td>\n",
       "      <td>36</td>\n",
       "      <td>Japan</td>\n",
       "    </tr>\n",
       "    <tr>\n",
       "      <th>A. Al Basisi</th>\n",
       "      <td>52</td>\n",
       "      <td>39</td>\n",
       "      <td>Saudi Arabia</td>\n",
       "    </tr>\n",
       "    <tr>\n",
       "      <th>P. Jennings</th>\n",
       "      <td>52</td>\n",
       "      <td>37</td>\n",
       "      <td>England</td>\n",
       "    </tr>\n",
       "    <tr>\n",
       "      <th>B. Richardson</th>\n",
       "      <td>46</td>\n",
       "      <td>47</td>\n",
       "      <td>England</td>\n",
       "    </tr>\n",
       "  </tbody>\n",
       "</table>\n",
       "<p>468 rows × 3 columns</p>\n",
       "</div>"
      ],
      "text/plain": [
       "                Overall  Age     Nationality\n",
       "Name                                        \n",
       "G. Buffon            89   39           Italy\n",
       "Z. Ibrahimović       88   35          Sweden\n",
       "P. Čech              86   35  Czech Republic\n",
       "A. Barzagli          85   36           Italy\n",
       "Aduriz               84   36           Spain\n",
       "...                 ...  ...             ...\n",
       "R. Kawai             52   38           Japan\n",
       "Y. Nishibe           52   36           Japan\n",
       "A. Al Basisi         52   39    Saudi Arabia\n",
       "P. Jennings          52   37         England\n",
       "B. Richardson        46   47         England\n",
       "\n",
       "[468 rows x 3 columns]"
      ]
     },
     "execution_count": 39,
     "metadata": {},
     "output_type": "execute_result"
    }
   ],
   "source": [
    "# Exercise 3 solution\n",
    "\n",
    "df[['Overall', 'Age', 'Nationality']][df['Age'] >= 35]"
   ]
  },
  {
   "cell_type": "markdown",
   "metadata": {},
   "source": [
    "## Appendix\n",
    "- [Basic Numpy Functionality](https://numpy.org/doc/stable/user/absolute_beginners.html#what-is-an-array)\n",
    "\n",
    "- [Numpy package home page](https://numpy.org)\n",
    "\n",
    "- [Pandas package home page](https://pandas.pydata.org/)"
   ]
  }
 ],
 "metadata": {
  "kernelspec": {
   "display_name": "Python 3 (ipykernel)",
   "language": "python",
   "name": "python3"
  },
  "language_info": {
   "codemirror_mode": {
    "name": "ipython",
    "version": 3
   },
   "file_extension": ".py",
   "mimetype": "text/x-python",
   "name": "python",
   "nbconvert_exporter": "python",
   "pygments_lexer": "ipython3",
   "version": "3.10.9"
  }
 },
 "nbformat": 4,
 "nbformat_minor": 4
}
