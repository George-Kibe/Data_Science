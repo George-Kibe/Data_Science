{
 "cells": [
  {
   "cell_type": "markdown",
   "id": "0eff77ef",
   "metadata": {},
   "source": [
    "## Common elements in all rows of a given matrix\n",
    "Given an m x n matrix, find all common elements present in all rows in O(mn) time and one traversal of matrix.\n",
    "### Example:\n",
    "```\n",
    "mat[4][5] = {{1, 2, 1, 4, 8},\n",
    "             {3, 7, 8, 5, 1},\n",
    "             {8, 7, 7, 3, 1},\n",
    "             {8, 1, 2, 7, 9},\n",
    "            };\n",
    "\n",
    "Output: \n",
    "1 8 or 8 1\n",
    "8 and 1 are present in all rows.\n",
    "```\n",
    "\n",
    "A simple solution is to consider every element and check if it is present in all rows. If present, then print it. \n",
    "A better solution is to sort all rows in the matrix and use similar approach as discussed here. Sorting will take O(mnlogn) time and finding common elements will take O(mn) time. So overall time complexity of this solution is O(mnlogn)\n",
    "\n",
    "Can we do better than O(mnlogn)? \n",
    "The idea is to use maps. We initially insert all elements of the first row in an map. For every other element in remaining rows, we check if it is present in the map. If it is present in the map and is not duplicated in current row, we increment count of the element in map by 1, else we ignore the element. If the currently traversed row is the last row, we print the element if it has appeared m-1 times before. "
   ]
  },
  {
   "cell_type": "code",
   "execution_count": 2,
   "id": "7cde45ef",
   "metadata": {},
   "outputs": [
    {
     "name": "stdout",
     "output_type": "stream",
     "text": [
      "8 1 "
     ]
    }
   ],
   "source": [
    "# https://www.geeksforgeeks.org/common-elements-in-all-rows-of-a-given-matrix/\n",
    "\n",
    "# A Program to prints common element \n",
    "# in all rows of matrix \n",
    "\n",
    "# Specify number of rows and columns \n",
    "M = 4\n",
    "N = 5\n",
    "\n",
    "# prints common element in all \n",
    "# rows of matrix \n",
    "def printCommonElements(mat): \n",
    "    mp = dict() \n",
    "    # initialize 1st row elements \n",
    "    # with value 1 \n",
    "    for j in range(N): \n",
    "        mp[(mat[0][j])] = 1\n",
    "\n",
    "    # traverse the matrix \n",
    "    for i in range(1, M): \n",
    "        for j in range(N): \n",
    "            # If element is present in the \n",
    "            # map and is not duplicated in \n",
    "            # current row. \n",
    "            if (mat[i][j] in mp.keys() and\n",
    "                            mp[(mat[i][j])] == i): \n",
    "\n",
    "            # we increment count of the \n",
    "            # element in map by 1 \n",
    "                mp[(mat[i][j])] = i + 1\n",
    "\n",
    "                # If this is last row \n",
    "                if i == M - 1: \n",
    "                    print(mat[i][j], end = \" \") \n",
    "\n",
    "# Driver Code \n",
    "mat = [[1, 2, 1, 4, 8], \n",
    "    [3, 7, 8, 5, 1], \n",
    "    [8, 7, 7, 3, 1], \n",
    "    [8, 1, 2, 7, 9]] \n",
    "\n",
    "printCommonElements(mat) \n",
    "\n",
    "# This code is contributed \n",
    "# by mohit kumar 29 \n"
   ]
  },
  {
   "cell_type": "code",
   "execution_count": null,
   "id": "37ff3235",
   "metadata": {},
   "outputs": [],
   "source": []
  }
 ],
 "metadata": {
  "kernelspec": {
   "display_name": "Python 3 (ipykernel)",
   "language": "python",
   "name": "python3"
  },
  "language_info": {
   "codemirror_mode": {
    "name": "ipython",
    "version": 3
   },
   "file_extension": ".py",
   "mimetype": "text/x-python",
   "name": "python",
   "nbconvert_exporter": "python",
   "pygments_lexer": "ipython3",
   "version": "3.10.9"
  }
 },
 "nbformat": 4,
 "nbformat_minor": 5
}
