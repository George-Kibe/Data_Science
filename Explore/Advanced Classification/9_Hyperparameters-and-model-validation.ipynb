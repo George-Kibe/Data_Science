{
 "cells": [
  {
   "cell_type": "markdown",
   "metadata": {
    "colab_type": "text",
    "id": "e9CwJIHQyGSW"
   },
   "source": [
    "# Hyperparameters and Model Validation\n",
    "© Explore Data Science Academy\n",
    "\n",
    "## Learning Objectives\n",
    "\n",
    "By the end of this train, you should be able to:\n",
    "\n",
    "- Understand what it means to tune hyperparameters; and\n",
    "- Find optimal hyperparameters using grid search.\n",
    "\n",
    "## Outline\n",
    "\n",
    "In this train we will:\n",
    "\n",
    "- Describe what hyperparameters are; \n",
    "- Use grid search to find optimal hyperparameters for KNN and SVM models."
   ]
  },
  {
   "cell_type": "code",
   "execution_count": 2,
   "metadata": {},
   "outputs": [
    {
     "data": {
      "image/jpeg": "[encoded data removed]",
      "text/html": [
       "\n",
       "        <iframe\n",
       "            width=\"800\"\n",
       "            height=\"480\"\n",
       "            src=\"https://www.youtube.com/embed/JA-Ixd0c3_k\"\n",
       "            frameborder=\"0\"\n",
       "            allowfullscreen\n",
       "            \n",
       "        ></iframe>\n",
       "        "
      ],
      "text/plain": [
       "<IPython.lib.display.YouTubeVideo at 0x7f3131836920>"
      ]
     },
     "execution_count": 2,
     "metadata": {},
     "output_type": "execute_result"
    }
   ],
   "source": [
    "from IPython.display import YouTubeVideo\n",
    "\n",
    "YouTubeVideo('JA-Ixd0c3_k', width=800, height=480)"
   ]
  },
  {
   "cell_type": "markdown",
   "metadata": {
    "colab_type": "text",
    "id": "puoMh1_RyGSX"
   },
   "source": [
    "## Introduction\n",
    "\n",
    "In previous tutorials, we saw the basic recipe for applying a supervised machine learning model:\n",
    "\n",
    "1. Choose a classification model;\n",
    "2. Set the model's hyperparameters;\n",
    "3. Fit the model to the training data;\n",
    "4. Use the model to predict labels for new data.\n",
    "\n",
    "In this tutorial, we will explain what hyperparameters are and implement a technique known as grid search in order to find the optimal hyperparameters for our model."
   ]
  },
  {
   "cell_type": "markdown",
   "metadata": {
    "colab_type": "text",
    "id": "iAhL2hcAyGSY"
   },
   "source": [
    "# What is a Hyperparameter?"
   ]
  },
  {
   "cell_type": "markdown",
   "metadata": {
    "colab_type": "text",
    "id": "_Sb-VkscyGSZ"
   },
   "source": [
    "A hyperparameter is a variable or argument whose value is set before the training process begins. In contrast, _parameters_ are those values derived via training. Different model training algorithms require different hyperparameters, and some simple algorithms require none. "
   ]
  },
  {
   "cell_type": "markdown",
   "metadata": {
    "colab_type": "text",
    "id": "7Xq8tRmXyGSZ"
   },
   "source": [
    "[**Hyperparameter optimization**](https://en.wikipedia.org/wiki/Hyperparameter_optimization), or tuning, is the method of choosing a set of optimal hyperparameters for a learning algorithm.\n",
    "\n",
    "The same type of machine learning model can require different constraints, weights or learning rates to generalize to different data patterns. Hyperparameter optimization finds a tuple of hyperparameters that yields an optimal model which minimizes a predefined loss function on given data. "
   ]
  },
  {
   "cell_type": "markdown",
   "metadata": {
    "colab_type": "text",
    "id": "xHkYdaSryGSa"
   },
   "source": [
    "Various techniques exists for tuning hyperparameters, to name a few:\n",
    "\n",
    "* Grid search;\n",
    "* Random search;\n",
    "* Bayesian optimization;\n",
    "* Gradient-based optimization; and\n",
    "* Evolutionary optimization.\n",
    "\n",
    "In this tutorial we will be implementing Grid Search and leave the exploration of other techniques as an exercise for the reader.\n",
    "\n",
    "### Imports\n",
    "\n",
    "Let us start off as usual, by importing all the necessary packages."
   ]
  },
  {
   "cell_type": "code",
   "execution_count": 3,
   "metadata": {
    "colab": {
     "autoexec": {
      "startup": false,
      "wait_interval": 0
     }
    },
    "colab_type": "code",
    "id": "W-J7PgZayGSa"
   },
   "outputs": [],
   "source": [
    "import pandas as pd\n",
    "import numpy as np\n",
    "import matplotlib.pyplot as plt\n",
    "%matplotlib inline\n",
    "\n",
    "from sklearn.model_selection import cross_val_score\n",
    "from sklearn.model_selection import train_test_split\n",
    "from sklearn import metrics"
   ]
  },
  {
   "cell_type": "markdown",
   "metadata": {
    "colab_type": "text",
    "id": "fPZF7POwyGSd"
   },
   "source": [
    "We'll be using the MBTI dataset from previous trains. However, we will skip the pre-processing stage here and load in our bag of words directly to make things easier."
   ]
  },
  {
   "cell_type": "code",
   "execution_count": 4,
   "metadata": {
    "colab": {
     "autoexec": {
      "startup": false,
      "wait_interval": 0
     }
    },
    "colab_type": "code",
    "id": "tfJJzq5MyGSf"
   },
   "outputs": [],
   "source": [
    "mbti = pd.read_csv('https://raw.githubusercontent.com/Explore-AI/Public-Data/master/Data/classification_sprint/mbti_count_vector_downsampled.csv')"
   ]
  },
  {
   "cell_type": "code",
   "execution_count": 5,
   "metadata": {},
   "outputs": [
    {
     "data": {
      "text/html": [
       "<div>\n",
       "<style scoped>\n",
       "    .dataframe tbody tr th:only-of-type {\n",
       "        vertical-align: middle;\n",
       "    }\n",
       "\n",
       "    .dataframe tbody tr th {\n",
       "        vertical-align: top;\n",
       "    }\n",
       "\n",
       "    .dataframe thead th {\n",
       "        text-align: right;\n",
       "    }\n",
       "</style>\n",
       "<table border=\"1\" class=\"dataframe\">\n",
       "  <thead>\n",
       "    <tr style=\"text-align: right;\">\n",
       "      <th></th>\n",
       "      <th>actually</th>\n",
       "      <th>agree</th>\n",
       "      <th>ask</th>\n",
       "      <th>away</th>\n",
       "      <th>bad</th>\n",
       "      <th>believe</th>\n",
       "      <th>best</th>\n",
       "      <th>better</th>\n",
       "      <th>bit</th>\n",
       "      <th>care</th>\n",
       "      <th>...</th>\n",
       "      <th>work</th>\n",
       "      <th>world</th>\n",
       "      <th>wouldnt</th>\n",
       "      <th>wrong</th>\n",
       "      <th>yeah</th>\n",
       "      <th>year</th>\n",
       "      <th>years</th>\n",
       "      <th>yes</th>\n",
       "      <th>youre</th>\n",
       "      <th>y</th>\n",
       "    </tr>\n",
       "  </thead>\n",
       "  <tbody>\n",
       "    <tr>\n",
       "      <th>0</th>\n",
       "      <td>0</td>\n",
       "      <td>0</td>\n",
       "      <td>0</td>\n",
       "      <td>0</td>\n",
       "      <td>0</td>\n",
       "      <td>0</td>\n",
       "      <td>0</td>\n",
       "      <td>0</td>\n",
       "      <td>0</td>\n",
       "      <td>0</td>\n",
       "      <td>...</td>\n",
       "      <td>0</td>\n",
       "      <td>0</td>\n",
       "      <td>0</td>\n",
       "      <td>0</td>\n",
       "      <td>0</td>\n",
       "      <td>0</td>\n",
       "      <td>0</td>\n",
       "      <td>0</td>\n",
       "      <td>0</td>\n",
       "      <td>0</td>\n",
       "    </tr>\n",
       "    <tr>\n",
       "      <th>1</th>\n",
       "      <td>0</td>\n",
       "      <td>0</td>\n",
       "      <td>0</td>\n",
       "      <td>0</td>\n",
       "      <td>0</td>\n",
       "      <td>0</td>\n",
       "      <td>0</td>\n",
       "      <td>1</td>\n",
       "      <td>0</td>\n",
       "      <td>1</td>\n",
       "      <td>...</td>\n",
       "      <td>0</td>\n",
       "      <td>0</td>\n",
       "      <td>0</td>\n",
       "      <td>0</td>\n",
       "      <td>0</td>\n",
       "      <td>0</td>\n",
       "      <td>0</td>\n",
       "      <td>0</td>\n",
       "      <td>0</td>\n",
       "      <td>0</td>\n",
       "    </tr>\n",
       "    <tr>\n",
       "      <th>2</th>\n",
       "      <td>0</td>\n",
       "      <td>0</td>\n",
       "      <td>0</td>\n",
       "      <td>0</td>\n",
       "      <td>0</td>\n",
       "      <td>0</td>\n",
       "      <td>0</td>\n",
       "      <td>0</td>\n",
       "      <td>0</td>\n",
       "      <td>0</td>\n",
       "      <td>...</td>\n",
       "      <td>0</td>\n",
       "      <td>0</td>\n",
       "      <td>0</td>\n",
       "      <td>0</td>\n",
       "      <td>0</td>\n",
       "      <td>0</td>\n",
       "      <td>0</td>\n",
       "      <td>0</td>\n",
       "      <td>0</td>\n",
       "      <td>1</td>\n",
       "    </tr>\n",
       "    <tr>\n",
       "      <th>3</th>\n",
       "      <td>0</td>\n",
       "      <td>0</td>\n",
       "      <td>0</td>\n",
       "      <td>0</td>\n",
       "      <td>0</td>\n",
       "      <td>0</td>\n",
       "      <td>0</td>\n",
       "      <td>0</td>\n",
       "      <td>0</td>\n",
       "      <td>0</td>\n",
       "      <td>...</td>\n",
       "      <td>0</td>\n",
       "      <td>0</td>\n",
       "      <td>0</td>\n",
       "      <td>0</td>\n",
       "      <td>0</td>\n",
       "      <td>0</td>\n",
       "      <td>0</td>\n",
       "      <td>0</td>\n",
       "      <td>0</td>\n",
       "      <td>1</td>\n",
       "    </tr>\n",
       "    <tr>\n",
       "      <th>4</th>\n",
       "      <td>0</td>\n",
       "      <td>0</td>\n",
       "      <td>0</td>\n",
       "      <td>0</td>\n",
       "      <td>0</td>\n",
       "      <td>0</td>\n",
       "      <td>0</td>\n",
       "      <td>0</td>\n",
       "      <td>0</td>\n",
       "      <td>0</td>\n",
       "      <td>...</td>\n",
       "      <td>0</td>\n",
       "      <td>0</td>\n",
       "      <td>0</td>\n",
       "      <td>0</td>\n",
       "      <td>0</td>\n",
       "      <td>0</td>\n",
       "      <td>0</td>\n",
       "      <td>0</td>\n",
       "      <td>0</td>\n",
       "      <td>1</td>\n",
       "    </tr>\n",
       "  </tbody>\n",
       "</table>\n",
       "<p>5 rows × 153 columns</p>\n",
       "</div>"
      ],
      "text/plain": [
       "   actually  agree  ask  away  bad  believe  best  better  bit  care  ...  \\\n",
       "0         0      0    0     0    0        0     0       0    0     0  ...   \n",
       "1         0      0    0     0    0        0     0       1    0     1  ...   \n",
       "2         0      0    0     0    0        0     0       0    0     0  ...   \n",
       "3         0      0    0     0    0        0     0       0    0     0  ...   \n",
       "4         0      0    0     0    0        0     0       0    0     0  ...   \n",
       "\n",
       "   work  world  wouldnt  wrong  yeah  year  years  yes  youre  y  \n",
       "0     0      0        0      0     0     0      0    0      0  0  \n",
       "1     0      0        0      0     0     0      0    0      0  0  \n",
       "2     0      0        0      0     0     0      0    0      0  1  \n",
       "3     0      0        0      0     0     0      0    0      0  1  \n",
       "4     0      0        0      0     0     0      0    0      0  1  \n",
       "\n",
       "[5 rows x 153 columns]"
      ]
     },
     "execution_count": 5,
     "metadata": {},
     "output_type": "execute_result"
    }
   ],
   "source": [
    "mbti.head()"
   ]
  },
  {
   "cell_type": "markdown",
   "metadata": {},
   "source": [
    "Now we'll allocate features and labels and split our data into training and testing sets. This dataset is rather large. Let's only use 5,000 entries so that we can speed up our training time."
   ]
  },
  {
   "cell_type": "code",
   "execution_count": 6,
   "metadata": {
    "colab": {
     "autoexec": {
      "startup": false,
      "wait_interval": 0
     }
    },
    "colab_type": "code",
    "id": "Wl37UT33yGSk"
   },
   "outputs": [],
   "source": [
    "X = mbti.drop('y', axis=1)\n",
    "y = mbti['y']\n",
    "\n",
    "n = 5000\n",
    "X_n = X[:n]\n",
    "y_n = y[:n]\n",
    "X_train, X_test, y_train, y_test = train_test_split(X_n, y_n)"
   ]
  },
  {
   "cell_type": "markdown",
   "metadata": {
    "colab_type": "text",
    "id": "jSiC9vzIyGSo"
   },
   "source": [
    "## K Nearest Neigbours"
   ]
  },
  {
   "cell_type": "markdown",
   "metadata": {
    "colab_type": "text",
    "id": "rlTzlT-byGSp"
   },
   "source": [
    "Lets start with the K Nearest Neighbours algorithm as it has one of the more simple hyperparameters: \n",
    "* `K` - the number of nearest neighbours to use in the classifier\n",
    "\n",
    "In this example, we'll create 13 different KNN models, each with a different number of neighbours. We'll generate the results of both the training and testing accuracy in order to analyse the performance of each of these models. Note that this cell might take more time to complete than you are used to, as we are now training 13 models instead of 1.\n",
    "\n",
    "**Note: The code below takes 1-2 minutes to execute.**"
   ]
  },
  {
   "cell_type": "code",
   "execution_count": 10,
   "metadata": {
    "colab": {
     "autoexec": {
      "startup": false,
      "wait_interval": 0
     }
    },
    "colab_type": "code",
    "id": "D2KLWsZ0yGSq",
    "outputId": "c0c9899a-13a7-4571-f31e-592d83c2e09e"
   },
   "outputs": [
    {
     "name": "stdout",
     "output_type": "stream",
     "text": [
      "Fitting KNN model with k = 1\n",
      "Fitting KNN model with k = 2\n",
      "Fitting KNN model with k = 3\n",
      "Fitting KNN model with k = 4\n",
      "Fitting KNN model with k = 5\n",
      "Fitting KNN model with k = 6\n",
      "Fitting KNN model with k = 7\n",
      "Fitting KNN model with k = 8\n",
      "Fitting KNN model with k = 9\n",
      "Fitting KNN model with k = 10\n",
      "Fitting KNN model with k = 20\n",
      "Fitting KNN model with k = 50\n",
      "Fitting KNN model with k = 100\n"
     ]
    }
   ],
   "source": [
    "from sklearn.neighbors import KNeighborsClassifier\n",
    "ks = [1, 2, 3, 4, 5, 6, 7, 8, 9, 10, 20, 50, 100]\n",
    "\n",
    "results = []\n",
    "\n",
    "for k in ks:\n",
    "    print('Fitting KNN model with k = {:d}'.format(k))\n",
    "    knn = KNeighborsClassifier(k)\n",
    "    run_time = %timeit -q -o knn.fit(X_train, y_train)\n",
    "    \n",
    "    # predicting\n",
    "    y_pred = knn.predict(X_train)   \n",
    "    y_pred_test = knn.predict(X_test)\n",
    "    \n",
    "    # scoring\n",
    "    accuracy  = metrics.accuracy_score(y_train, y_pred)\n",
    "    precision = metrics.precision_score(y_train, y_pred)\n",
    "    recall    = metrics.recall_score(y_train, y_pred)    \n",
    "    f1        = metrics.f1_score(y_train, y_pred)    \n",
    "    f1_test   = metrics.f1_score(y_test, y_pred_test)    \n",
    "    \n",
    "    # save the results \n",
    "    results.append([k, accuracy, precision, recall, f1, f1_test, run_time.best])\n",
    "    \n",
    "results = pd.DataFrame(results, columns=['KNN', 'Accuracy', 'Precision', 'Recall', 'F1 Train', 'F1 Test', 'Train Time'])\n",
    "results.set_index('k', inplace= True)"
   ]
  },
  {
   "cell_type": "markdown",
   "metadata": {},
   "source": [
    "Lets print off the training classification report, as well as the F1-score of predicting on the test set, so that we can analyse the models' performance."
   ]
  },
  {
   "cell_type": "code",
   "execution_count": 11,
   "metadata": {
    "colab": {
     "autoexec": {
      "startup": false,
      "wait_interval": 0
     }
    },
    "colab_type": "code",
    "id": "bCNJRT2zyGSs",
    "outputId": "f05fd8ce-0204-4463-b3d3-ca1bd42861bc"
   },
   "outputs": [
    {
     "data": {
      "text/html": [
       "<div>\n",
       "<style scoped>\n",
       "    .dataframe tbody tr th:only-of-type {\n",
       "        vertical-align: middle;\n",
       "    }\n",
       "\n",
       "    .dataframe tbody tr th {\n",
       "        vertical-align: top;\n",
       "    }\n",
       "\n",
       "    .dataframe thead th {\n",
       "        text-align: right;\n",
       "    }\n",
       "</style>\n",
       "<table border=\"1\" class=\"dataframe\">\n",
       "  <thead>\n",
       "    <tr style=\"text-align: right;\">\n",
       "      <th></th>\n",
       "      <th>KNN</th>\n",
       "      <th>Accuracy</th>\n",
       "      <th>Precision</th>\n",
       "      <th>Recall</th>\n",
       "      <th>F1 Train</th>\n",
       "      <th>F1 Test</th>\n",
       "      <th>Train Time</th>\n",
       "    </tr>\n",
       "  </thead>\n",
       "  <tbody>\n",
       "    <tr>\n",
       "      <th>0</th>\n",
       "      <td>1</td>\n",
       "      <td>0.946667</td>\n",
       "      <td>0.948522</td>\n",
       "      <td>0.984488</td>\n",
       "      <td>0.966171</td>\n",
       "      <td>0.806419</td>\n",
       "      <td>0.002899</td>\n",
       "    </tr>\n",
       "    <tr>\n",
       "      <th>1</th>\n",
       "      <td>2</td>\n",
       "      <td>0.829067</td>\n",
       "      <td>0.953451</td>\n",
       "      <td>0.819028</td>\n",
       "      <td>0.881142</td>\n",
       "      <td>0.728785</td>\n",
       "      <td>0.002873</td>\n",
       "    </tr>\n",
       "    <tr>\n",
       "      <th>2</th>\n",
       "      <td>3</td>\n",
       "      <td>0.811733</td>\n",
       "      <td>0.830075</td>\n",
       "      <td>0.951396</td>\n",
       "      <td>0.886605</td>\n",
       "      <td>0.828890</td>\n",
       "      <td>0.002877</td>\n",
       "    </tr>\n",
       "    <tr>\n",
       "      <th>3</th>\n",
       "      <td>4</td>\n",
       "      <td>0.746667</td>\n",
       "      <td>0.862774</td>\n",
       "      <td>0.799724</td>\n",
       "      <td>0.830054</td>\n",
       "      <td>0.752026</td>\n",
       "      <td>0.002874</td>\n",
       "    </tr>\n",
       "    <tr>\n",
       "      <th>4</th>\n",
       "      <td>5</td>\n",
       "      <td>0.795200</td>\n",
       "      <td>0.806202</td>\n",
       "      <td>0.967942</td>\n",
       "      <td>0.879699</td>\n",
       "      <td>0.849225</td>\n",
       "      <td>0.003967</td>\n",
       "    </tr>\n",
       "    <tr>\n",
       "      <th>5</th>\n",
       "      <td>6</td>\n",
       "      <td>0.780800</td>\n",
       "      <td>0.817405</td>\n",
       "      <td>0.922785</td>\n",
       "      <td>0.866904</td>\n",
       "      <td>0.821585</td>\n",
       "      <td>0.004204</td>\n",
       "    </tr>\n",
       "    <tr>\n",
       "      <th>6</th>\n",
       "      <td>7</td>\n",
       "      <td>0.785867</td>\n",
       "      <td>0.792363</td>\n",
       "      <td>0.980007</td>\n",
       "      <td>0.876252</td>\n",
       "      <td>0.856481</td>\n",
       "      <td>0.003261</td>\n",
       "    </tr>\n",
       "    <tr>\n",
       "      <th>7</th>\n",
       "      <td>8</td>\n",
       "      <td>0.778133</td>\n",
       "      <td>0.797527</td>\n",
       "      <td>0.955877</td>\n",
       "      <td>0.869552</td>\n",
       "      <td>0.849649</td>\n",
       "      <td>0.002937</td>\n",
       "    </tr>\n",
       "    <tr>\n",
       "      <th>8</th>\n",
       "      <td>9</td>\n",
       "      <td>0.781067</td>\n",
       "      <td>0.786976</td>\n",
       "      <td>0.983109</td>\n",
       "      <td>0.874176</td>\n",
       "      <td>0.864073</td>\n",
       "      <td>0.002897</td>\n",
       "    </tr>\n",
       "    <tr>\n",
       "      <th>9</th>\n",
       "      <td>10</td>\n",
       "      <td>0.778667</td>\n",
       "      <td>0.791116</td>\n",
       "      <td>0.970010</td>\n",
       "      <td>0.871477</td>\n",
       "      <td>0.858199</td>\n",
       "      <td>0.002890</td>\n",
       "    </tr>\n",
       "    <tr>\n",
       "      <th>10</th>\n",
       "      <td>20</td>\n",
       "      <td>0.774667</td>\n",
       "      <td>0.775308</td>\n",
       "      <td>0.997932</td>\n",
       "      <td>0.872645</td>\n",
       "      <td>0.866092</td>\n",
       "      <td>0.002897</td>\n",
       "    </tr>\n",
       "    <tr>\n",
       "      <th>11</th>\n",
       "      <td>50</td>\n",
       "      <td>0.773600</td>\n",
       "      <td>0.773600</td>\n",
       "      <td>1.000000</td>\n",
       "      <td>0.872350</td>\n",
       "      <td>0.869290</td>\n",
       "      <td>0.002928</td>\n",
       "    </tr>\n",
       "    <tr>\n",
       "      <th>12</th>\n",
       "      <td>100</td>\n",
       "      <td>0.773600</td>\n",
       "      <td>0.773600</td>\n",
       "      <td>1.000000</td>\n",
       "      <td>0.872350</td>\n",
       "      <td>0.869290</td>\n",
       "      <td>0.002886</td>\n",
       "    </tr>\n",
       "  </tbody>\n",
       "</table>\n",
       "</div>"
      ],
      "text/plain": [
       "    KNN  Accuracy  Precision    Recall  F1 Train   F1 Test  Train Time\n",
       "0     1  0.946667   0.948522  0.984488  0.966171  0.806419    0.002899\n",
       "1     2  0.829067   0.953451  0.819028  0.881142  0.728785    0.002873\n",
       "2     3  0.811733   0.830075  0.951396  0.886605  0.828890    0.002877\n",
       "3     4  0.746667   0.862774  0.799724  0.830054  0.752026    0.002874\n",
       "4     5  0.795200   0.806202  0.967942  0.879699  0.849225    0.003967\n",
       "5     6  0.780800   0.817405  0.922785  0.866904  0.821585    0.004204\n",
       "6     7  0.785867   0.792363  0.980007  0.876252  0.856481    0.003261\n",
       "7     8  0.778133   0.797527  0.955877  0.869552  0.849649    0.002937\n",
       "8     9  0.781067   0.786976  0.983109  0.874176  0.864073    0.002897\n",
       "9    10  0.778667   0.791116  0.970010  0.871477  0.858199    0.002890\n",
       "10   20  0.774667   0.775308  0.997932  0.872645  0.866092    0.002897\n",
       "11   50  0.773600   0.773600  1.000000  0.872350  0.869290    0.002928\n",
       "12  100  0.773600   0.773600  1.000000  0.872350  0.869290    0.002886"
      ]
     },
     "execution_count": 11,
     "metadata": {},
     "output_type": "execute_result"
    }
   ],
   "source": [
    "results"
   ]
  },
  {
   "cell_type": "markdown",
   "metadata": {},
   "source": [
    "These numbers are rather hard to read. Lets print out a graph of the F1 scores and see the comparision of the training and testing scores."
   ]
  },
  {
   "cell_type": "code",
   "execution_count": 12,
   "metadata": {
    "colab": {
     "autoexec": {
      "startup": false,
      "wait_interval": 0
     }
    },
    "colab_type": "code",
    "id": "XwCYeGhdyGSv",
    "outputId": "7708d4fc-6ddb-48b5-9771-67f0878e030d"
   },
   "outputs": [
    {
     "data": {
      "text/plain": [
       "<Axes: >"
      ]
     },
     "execution_count": 12,
     "metadata": {},
     "output_type": "execute_result"
    },
    {
     "data": {
      "image/png": "[encoded data removed]",
      "text/plain": [
       "<Figure size 1000x800 with 1 Axes>"
      ]
     },
     "metadata": {},
     "output_type": "display_data"
    }
   ],
   "source": [
    "results[['F1 Train', 'F1 Test']].plot(kind = 'line', figsize=(10, 8), logx=True)"
   ]
  },
  {
   "cell_type": "markdown",
   "metadata": {
    "colab_type": "text",
    "id": "OREFr10IyGSy"
   },
   "source": [
    "We have set `logx=True`, which creates a logarithmic scale along the x-axis to easier show values over a greater range. We can see that until approximately `K=10`, the F1-score tends to jump around a bit. With `K` < 7 there is still a large difference between the performance on the training and testing sets. At around `K` = 9 these values seem to start to converge, suggesting we are nearing an optimal value for the hyperparameter."
   ]
  },
  {
   "cell_type": "markdown",
   "metadata": {
    "colab_type": "text",
    "id": "AH5nJXLHyGSz"
   },
   "source": [
    "### sklearn GridSearch\n",
    "\n",
    "Hyperparameter tuning can be automated using `sklearn`'s parameter search strategies. As in the example above where we exhaustively consider all parameter combinations (or at least most of the parameters between `K` = 1 and 100), this can be done using the search strategy `GridSearchCV`. Lets see how that works.\n",
    "\n",
    "#### Imports\n",
    "\n",
    "We'll need to import `GridSearchCV`."
   ]
  },
  {
   "cell_type": "code",
   "execution_count": 60,
   "metadata": {},
   "outputs": [],
   "source": [
    "from sklearn.model_selection import GridSearchCV"
   ]
  },
  {
   "cell_type": "markdown",
   "metadata": {},
   "source": [
    "In this example we will iterate over the same `K` values as we did above. This is done by assigning the number of neighbours to the above list of `K` values inside a grid of parameters - if you wanted to tune more of the model's parameters, these values would be added to this parameter grid.\n",
    "\n",
    "The grid is in the form of a dictionary, so we would add them in the format of:\n",
    "\n",
    "`'<hyperparam_1>': <set of values>,`\n",
    "\n",
    "`'<hyperparam_2>': <set of values>,`\n",
    "\n",
    "`...etc...`"
   ]
  },
  {
   "cell_type": "code",
   "execution_count": 61,
   "metadata": {},
   "outputs": [],
   "source": [
    "# ks is the list of k-values we created above\n",
    "param_grid = {'n_neighbors': ks}"
   ]
  },
  {
   "cell_type": "markdown",
   "metadata": {},
   "source": [
    "Next, we create an instance of `GridSearchCV` where we indicate the model type (KNN) and the scoring metric to measure model performance on (in this case F1-score). You can also change the number of folds in the cross-validation splitting strategy, but by default this is set to five, and we'll leave it as is."
   ]
  },
  {
   "cell_type": "code",
   "execution_count": 62,
   "metadata": {
    "colab": {
     "autoexec": {
      "startup": false,
      "wait_interval": 0
     }
    },
    "colab_type": "code",
    "id": "EHVmWQGmyGS0",
    "outputId": "67b1e3b4-01e5-4f61-bac0-3d9d54fc721d"
   },
   "outputs": [],
   "source": [
    "grid_knn = GridSearchCV(KNeighborsClassifier(), param_grid, scoring='f1')"
   ]
  },
  {
   "cell_type": "markdown",
   "metadata": {},
   "source": [
    "Now we can simply fit this GridSearch model to the training data, and determine what the optimal value for our number of neighbours is by printing out the best parameter values."
   ]
  },
  {
   "cell_type": "code",
   "execution_count": 63,
   "metadata": {
    "colab": {
     "autoexec": {
      "startup": false,
      "wait_interval": 0
     }
    },
    "colab_type": "code",
    "id": "IjuhuODvyGS2",
    "outputId": "bf245eaa-80ee-4279-d764-981e53272802"
   },
   "outputs": [
    {
     "data": {
      "text/plain": [
       "{'n_neighbors': 50}"
      ]
     },
     "execution_count": 63,
     "metadata": {},
     "output_type": "execute_result"
    }
   ],
   "source": [
    "grid_knn.fit(X_n, y_n)\n",
    "grid_knn.best_params_"
   ]
  },
  {
   "cell_type": "markdown",
   "metadata": {
    "colab_type": "text",
    "id": "HNyQY6qUyGS6"
   },
   "source": [
    "# Support Vector Machine\n",
    "\n",
    "Models generally have more than one hyperparameter to tune.  `sklearn` provides automated tools to do this in the grid search module. we'll now work through an example of using grid search to find the optimal hyperparameters for a Support Vector Machine.\n",
    "\n",
    "The grid search algorithm will fit a model for all of the combinations of hyperparameters you specify. It will also apply K-fold cross-validation. The hyperparameters that optimise for a given scoring metric will then be returned.\n",
    "\n",
    "Let's start by importing `sklearn`'s Support Vector Classifier."
   ]
  },
  {
   "cell_type": "code",
   "execution_count": 64,
   "metadata": {
    "colab": {
     "autoexec": {
      "startup": false,
      "wait_interval": 0
     }
    },
    "colab_type": "code",
    "id": "rnfO_EcryGS8"
   },
   "outputs": [],
   "source": [
    "from sklearn.svm import SVC"
   ]
  },
  {
   "cell_type": "markdown",
   "metadata": {
    "colab_type": "text",
    "id": "UL8a459syGTB"
   },
   "source": [
    "There are a lot of parameters in SVC to play around with!  We will be focussing on the following:\n",
    "\n",
    "* `C`: The penalty parameter of the error term; and\n",
    "* `gamma`: The kernel coefficient.\n",
    "\n",
    "In this example, we'll set the number of folds in our cross validation to 2, we'll optimise using F1-score, and tune the two above mentioned parameters. `sklearn` really does make this simple for us."
   ]
  },
  {
   "cell_type": "code",
   "execution_count": 65,
   "metadata": {
    "colab": {
     "autoexec": {
      "startup": false,
      "wait_interval": 0
     }
    },
    "colab_type": "code",
    "id": "G3Ua71n6yGTB",
    "outputId": "33ca7867-1184-4b7b-f0fb-6e318071ba74"
   },
   "outputs": [
    {
     "data": {
      "text/plain": [
       "GridSearchCV(cv=2, error_score=nan,\n",
       "             estimator=SVC(C=1.0, break_ties=False, cache_size=200,\n",
       "                           class_weight=None, coef0=0.0,\n",
       "                           decision_function_shape='ovr', degree=3,\n",
       "                           gamma='scale', kernel='rbf', max_iter=-1,\n",
       "                           probability=False, random_state=None, shrinking=True,\n",
       "                           tol=0.001, verbose=False),\n",
       "             iid='deprecated', n_jobs=None,\n",
       "             param_grid={'C': [0.001, 0.01, 0.1, 1, 10],\n",
       "                         'gamma': [0.001, 0.01, 0.1, 1]},\n",
       "             pre_dispatch='2*n_jobs', refit=True, return_train_score=False,\n",
       "             scoring='f1', verbose=0)"
      ]
     },
     "execution_count": 65,
     "metadata": {},
     "output_type": "execute_result"
    }
   ],
   "source": [
    "nfolds = 2\n",
    "\n",
    "Cs = [0.001, 0.01, 0.1, 1, 10]\n",
    "gammas = [0.001, 0.01, 0.1, 1]\n",
    "\n",
    "param_grid = {\n",
    "    'C'     : Cs, \n",
    "    'gamma' : gammas\n",
    "    }\n",
    "\n",
    "grid_SVM = GridSearchCV(SVC(), param_grid, scoring='f1', cv=nfolds)\n",
    "grid_SVM.fit(X_train, y_train)"
   ]
  },
  {
   "cell_type": "markdown",
   "metadata": {},
   "source": [
    "All done! Can you calculate how many models we just trained?\n",
    "\n",
    "Finally, we'll print out the best paramenters for `C` and `gamma`."
   ]
  },
  {
   "cell_type": "code",
   "execution_count": 66,
   "metadata": {
    "colab": {
     "autoexec": {
      "startup": false,
      "wait_interval": 0
     }
    },
    "colab_type": "code",
    "id": "NngvutmiyGTE",
    "outputId": "97241bbc-4ae6-4fb9-fd78-4473a4223016"
   },
   "outputs": [
    {
     "data": {
      "text/plain": [
       "{'C': 1, 'gamma': 0.1}"
      ]
     },
     "execution_count": 66,
     "metadata": {},
     "output_type": "execute_result"
    }
   ],
   "source": [
    "grid_SVM.best_params_"
   ]
  },
  {
   "cell_type": "markdown",
   "metadata": {
    "colab_type": "text",
    "id": "QHZ3WlWPyGTH"
   },
   "source": [
    "## Conclusion\n",
    "\n",
    "Now that we've reached the end of this train, you should be able to:\n",
    "* Understand what it means to tune hyperparameters;\n",
    "* Find optimal hyperparameters using grid search.\n",
    "\n",
    "If you are still unclear on these topics, be sure to work through a couple more examples in order to solidify this knowledge."
   ]
  },
  {
   "cell_type": "markdown",
   "metadata": {
    "colab_type": "text",
    "id": "VQ2aYVGQyGTH"
   },
   "source": [
    "## References\n",
    "\n",
    "This notebook is based in large part on the [Python Data Science Handbook](http://shop.oreilly.com/product/0636920034919.do) by Jake VanderPlas; the content is available [on GitHub](https://github.com/jakevdp/PythonDataScienceHandbook).\n",
    "\n",
    "* [Tuning the hyper-parameters of an estimator](http://scikit-learn.org/stable/modules/grid_search.html)\n",
    "* [Parameter estimation using grid search with cross-validation](http://scikit-learn.org/stable/auto_examples/model_selection/plot_grid_search_digits.html)\n",
    "* [SVM parameter tuning in sklearnusing gridsearch](https://medium.com/@aneesha/svm-parameter-tuning-in-scikit-learn-using-gridsearchcv-2413c02125a0)"
   ]
  }
 ],
 "metadata": {
  "colab": {
   "default_view": {},
   "name": "5_Hyperparameters-and-Model-Validation.ipynb",
   "provenance": [],
   "version": "0.3.2",
   "views": {}
  },
  "kernelspec": {
   "display_name": "Python 3 (ipykernel)",
   "language": "python",
   "name": "python3"
  },
  "language_info": {
   "codemirror_mode": {
    "name": "ipython",
    "version": 3
   },
   "file_extension": ".py",
   "mimetype": "text/x-python",
   "name": "python",
   "nbconvert_exporter": "python",
   "pygments_lexer": "ipython3",
   "version": "3.10.9"
  }
 },
 "nbformat": 4,
 "nbformat_minor": 4
}
