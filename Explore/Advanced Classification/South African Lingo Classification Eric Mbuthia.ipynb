{
 "cells": [
  {
   "cell_type": "markdown",
   "id": "8ddf09b6",
   "metadata": {
    "id": "2981fcc3"
   },
   "source": [
    "# Language Classification\n",
    "\n",
    "---\n",
    "    \n",
    "| ⚡ Description: Work Structure ⚡ |\n",
    "| :--------------------------- |\n",
    "| This skeleton was adapted from one in Regression Predict |\n",
    "\n"
   ]
  },
  {
   "cell_type": "markdown",
   "id": "ce1f4d29",
   "metadata": {
    "id": "824c23b1"
   },
   "source": [
    "<a id=\"cont\"></a>\n",
    "\n",
    "## Table of Contents\n",
    "\n",
    "<a href=#one>1. Importing Packages</a>\n",
    "\n",
    "<a href=#two>2. Loading Data</a>\n",
    "\n",
    "<a href=#three>3. Exploratory Data Analysis (EDA)</a>\n",
    "\n",
    "<a href=#four>4. Feature Engineering</a>\n",
    "\n",
    "<a href=#five>5. Modeling</a>\n",
    "\n",
    "<a href=#six>6. Model Performance</a>\n",
    "\n",
    "<a href=#seven>7. Model Explanations</a>\n",
    "\n",
    "<a href=#eight>8. Conclusion</a>\n",
    "\n",
    "<a href=#nine>9. Recommendation</a>\n",
    "\n",
    "<a href=#ten>10. Acknowlodgement </a>"
   ]
  },
  {
   "cell_type": "markdown",
   "id": "62e9da98",
   "metadata": {
    "id": "23c7f8db"
   },
   "source": [
    " <a id=\"one\"></a>\n",
    "## 1. Importing Packages\n",
    "<a href=#cont>Back to Table of Contents</a>\n",
    "\n",
    "---\n",
    "    \n",
    "\n",
    "---"
   ]
  },
  {
   "cell_type": "code",
   "execution_count": 198,
   "id": "fb541e02",
   "metadata": {
    "id": "3bc92d62"
   },
   "outputs": [],
   "source": [
    "import numpy as np\n",
    "import pandas as pd\n",
    "\n",
    "#libraries for NLP and text preprocessing\n",
    "import nltk\n",
    "import re\n",
    "from nltk.corpus import stopwords\n",
    "from nltk.tokenize import  word_tokenize\n",
    "import string \n",
    "\n",
    "from sklearn.model_selection import train_test_split, GridSearchCV,RandomizedSearchCV\n",
    "from sklearn.linear_model import LogisticRegression\n",
    "from sklearn.tree import DecisionTreeClassifier\n",
    "from sklearn.preprocessing import StandardScaler\n",
    "from sklearn.metrics import accuracy_score,f1_score, precision_score, recall_score, confusion_matrix,classification_report, ConfusionMatrixDisplay"
   ]
  },
  {
   "cell_type": "code",
   "execution_count": 199,
   "id": "6feb0f32",
   "metadata": {},
   "outputs": [],
   "source": [
    "##Source is Analytics Vidya\n",
    "import os\n",
    "import sys\n",
    "from sklearn.feature_extraction.text import TfidfVectorizer\n",
    "from sklearn.neighbors import NearestNeighbors, KNeighborsClassifier \n",
    "from sklearn.cluster import KMeans\n",
    "from sklearn.naive_bayes import MultinomialNB, GaussianNB\n",
    "from sklearn.linear_model import LogisticRegression, SGDClassifier\n",
    "from sklearn.ensemble import RandomForestClassifier,AdaBoostClassifier\n",
    "from sklearn.svm import LinearSVC, SVC\n"
   ]
  },
  {
   "cell_type": "code",
   "execution_count": 8,
   "id": "6689a10a",
   "metadata": {},
   "outputs": [
    {
     "name": "stdout",
     "output_type": "stream",
     "text": [
      "Collecting wordcloud\n",
      "  Downloading wordcloud-1.8.1-cp38-cp38-win_amd64.whl (155 kB)\n",
      "Requirement already satisfied: numpy>=1.6.1 in d:\\installation\\anaconda\\lib\\site-packages (from wordcloud) (1.18.5)\n",
      "Requirement already satisfied: pillow in d:\\installation\\anaconda\\lib\\site-packages (from wordcloud) (7.2.0)\n",
      "Requirement already satisfied: matplotlib in d:\\installation\\anaconda\\lib\\site-packages (from wordcloud) (3.2.2)\n",
      "Note: you may need to restart the kernel to use updated packages.\n",
      "Requirement already satisfied: cycler>=0.10 in d:\\installation\\anaconda\\lib\\site-packages (from matplotlib->wordcloud) (0.10.0)\n",
      "Requirement already satisfied: pyparsing!=2.0.4,!=2.1.2,!=2.1.6,>=2.0.1 in d:\\installation\\anaconda\\lib\\site-packages (from matplotlib->wordcloud) (2.4.7)\n",
      "Requirement already satisfied: python-dateutil>=2.1 in d:\\installation\\anaconda\\lib\\site-packages (from matplotlib->wordcloud) (2.8.1)\n",
      "Requirement already satisfied: kiwisolver>=1.0.1 in d:\\installation\\anaconda\\lib\\site-packages (from matplotlib->wordcloud) (1.2.0)\n",
      "Requirement already satisfied: six in d:\\installation\\anaconda\\lib\\site-packages (from cycler>=0.10->matplotlib->wordcloud) (1.15.0)\n",
      "Installing collected packages: wordcloud\n",
      "Successfully installed wordcloud-1.8.1\n"
     ]
    }
   ],
   "source": [
    "pip install wordcloud"
   ]
  },
  {
   "cell_type": "code",
   "execution_count": 58,
   "id": "38008874",
   "metadata": {},
   "outputs": [],
   "source": [
    "#libraries for visualisation \n",
    "import matplotlib.pyplot as plt\n",
    "# %matplotlib inline\n",
    "import seaborn as sns\n",
    "from wordcloud import WordCloud\n",
    "# set plot style\n",
    "sns.set()"
   ]
  },
  {
   "cell_type": "code",
   "execution_count": null,
   "id": "b4639b8a",
   "metadata": {},
   "outputs": [],
   "source": []
  },
  {
   "cell_type": "markdown",
   "id": "8c1bac01",
   "metadata": {
    "id": "cf1933dc"
   },
   "source": [
    "<a id=\"two\"></a>\n",
    "## 2. Loading the Data\n",
    "<a class=\"anchor\" id=\"1.1\"></a>\n",
    "<a href=#cont>Back to Table of Contents</a>\n",
    "\n",
    "---\n",
    "    \n",
    "\n",
    "\n",
    "---"
   ]
  },
  {
   "cell_type": "code",
   "execution_count": 176,
   "id": "70bcef11",
   "metadata": {
    "id": "19190727",
    "outputId": "94b82cfd-4db5-49a8-c9e4-0eec5a4ad9e8"
   },
   "outputs": [],
   "source": [
    "df_train_set = pd.read_csv(\"train_set.csv\")\n",
    "df_test_set = pd.read_csv(\"test_set.csv\")"
   ]
  },
  {
   "cell_type": "code",
   "execution_count": 177,
   "id": "3415746f",
   "metadata": {},
   "outputs": [
    {
     "data": {
      "text/html": [
       "<div>\n",
       "<style scoped>\n",
       "    .dataframe tbody tr th:only-of-type {\n",
       "        vertical-align: middle;\n",
       "    }\n",
       "\n",
       "    .dataframe tbody tr th {\n",
       "        vertical-align: top;\n",
       "    }\n",
       "\n",
       "    .dataframe thead th {\n",
       "        text-align: right;\n",
       "    }\n",
       "</style>\n",
       "<table border=\"1\" class=\"dataframe\">\n",
       "  <thead>\n",
       "    <tr style=\"text-align: right;\">\n",
       "      <th></th>\n",
       "      <th>lang_id</th>\n",
       "      <th>text</th>\n",
       "    </tr>\n",
       "  </thead>\n",
       "  <tbody>\n",
       "    <tr>\n",
       "      <th>0</th>\n",
       "      <td>xho</td>\n",
       "      <td>umgaqo-siseko wenza amalungiselelo kumaziko ax...</td>\n",
       "    </tr>\n",
       "    <tr>\n",
       "      <th>1</th>\n",
       "      <td>xho</td>\n",
       "      <td>i-dha iya kuba nobulumko bokubeka umsebenzi na...</td>\n",
       "    </tr>\n",
       "    <tr>\n",
       "      <th>2</th>\n",
       "      <td>eng</td>\n",
       "      <td>the province of kwazulu-natal department of tr...</td>\n",
       "    </tr>\n",
       "    <tr>\n",
       "      <th>3</th>\n",
       "      <td>nso</td>\n",
       "      <td>o netefatša gore o ba file dilo ka moka tše le...</td>\n",
       "    </tr>\n",
       "    <tr>\n",
       "      <th>4</th>\n",
       "      <td>ven</td>\n",
       "      <td>khomishini ya ndinganyiso ya mbeu yo ewa maana...</td>\n",
       "    </tr>\n",
       "  </tbody>\n",
       "</table>\n",
       "</div>"
      ],
      "text/plain": [
       "  lang_id                                               text\n",
       "0     xho  umgaqo-siseko wenza amalungiselelo kumaziko ax...\n",
       "1     xho  i-dha iya kuba nobulumko bokubeka umsebenzi na...\n",
       "2     eng  the province of kwazulu-natal department of tr...\n",
       "3     nso  o netefatša gore o ba file dilo ka moka tše le...\n",
       "4     ven  khomishini ya ndinganyiso ya mbeu yo ewa maana..."
      ]
     },
     "execution_count": 177,
     "metadata": {},
     "output_type": "execute_result"
    }
   ],
   "source": [
    "df_train_set.head()"
   ]
  },
  {
   "cell_type": "code",
   "execution_count": 178,
   "id": "711f20cd",
   "metadata": {},
   "outputs": [
    {
     "data": {
      "text/html": [
       "<div>\n",
       "<style scoped>\n",
       "    .dataframe tbody tr th:only-of-type {\n",
       "        vertical-align: middle;\n",
       "    }\n",
       "\n",
       "    .dataframe tbody tr th {\n",
       "        vertical-align: top;\n",
       "    }\n",
       "\n",
       "    .dataframe thead th {\n",
       "        text-align: right;\n",
       "    }\n",
       "</style>\n",
       "<table border=\"1\" class=\"dataframe\">\n",
       "  <thead>\n",
       "    <tr style=\"text-align: right;\">\n",
       "      <th></th>\n",
       "      <th>index</th>\n",
       "      <th>text</th>\n",
       "    </tr>\n",
       "  </thead>\n",
       "  <tbody>\n",
       "    <tr>\n",
       "      <th>0</th>\n",
       "      <td>1</td>\n",
       "      <td>Mmasepala, fa maemo a a kgethegileng a letlele...</td>\n",
       "    </tr>\n",
       "    <tr>\n",
       "      <th>1</th>\n",
       "      <td>2</td>\n",
       "      <td>Uzakwaziswa ngokufaneleko nakungafuneka eminye...</td>\n",
       "    </tr>\n",
       "    <tr>\n",
       "      <th>2</th>\n",
       "      <td>3</td>\n",
       "      <td>Tshivhumbeo tshi fana na ngano dza vhathu.</td>\n",
       "    </tr>\n",
       "    <tr>\n",
       "      <th>3</th>\n",
       "      <td>4</td>\n",
       "      <td>Kube inja nelikati betingevakala kutsi titsini...</td>\n",
       "    </tr>\n",
       "    <tr>\n",
       "      <th>4</th>\n",
       "      <td>5</td>\n",
       "      <td>Winste op buitelandse valuta.</td>\n",
       "    </tr>\n",
       "  </tbody>\n",
       "</table>\n",
       "</div>"
      ],
      "text/plain": [
       "   index                                               text\n",
       "0      1  Mmasepala, fa maemo a a kgethegileng a letlele...\n",
       "1      2  Uzakwaziswa ngokufaneleko nakungafuneka eminye...\n",
       "2      3         Tshivhumbeo tshi fana na ngano dza vhathu.\n",
       "3      4  Kube inja nelikati betingevakala kutsi titsini...\n",
       "4      5                      Winste op buitelandse valuta."
      ]
     },
     "execution_count": 178,
     "metadata": {},
     "output_type": "execute_result"
    }
   ],
   "source": [
    "df_test_set.head()"
   ]
  },
  {
   "cell_type": "markdown",
   "id": "af53c8a3",
   "metadata": {
    "id": "986a15c2"
   },
   "source": [
    "<a id=\"three\"></a>\n",
    "## 3. Exploratory Data Analysis (EDA)\n",
    "<a class=\"anchor\" id=\"1.1\"></a>\n",
    "<a href=#cont>Back to Table of Contents</a>\n",
    "\n",
    "---\n",
    "    \n",
    "| ⚡ Description: Exploratory data analysis ⚡ |\n",
    "| :--------------------------- |\n",
    "| In this section, you are required to perform an in-depth analysis of all the variables in the DataFrame. |\n",
    "\n",
    "---\n"
   ]
  },
  {
   "cell_type": "code",
   "execution_count": 180,
   "id": "67bcd12e",
   "metadata": {},
   "outputs": [],
   "source": [
    "def eda (df):\n",
    "    shape = df.shape\n",
    "    null_entries = df.isnull().sum()\n",
    "    dist_lang_id = list(df.lang_id.unique())\n",
    "    duplicate = df.columns.duplicated().any()\n",
    "    \n",
    "    # summary\n",
    "    a = print ('Shape of dataframe is ' + str(shape[0]) + ' rows and ' + str(shape[1]) + ' columns')\n",
    "    b = print ('Unique ids are: ' +  str(dist_lang_id))\n",
    "    c = print ('Duplicate entries: ', duplicate)\n",
    "    d = print ('Checking for null entries in each column:\\n' ,null_entries)\n",
    "    \n",
    "    return a,b,c,d\n",
    "\n"
   ]
  },
  {
   "cell_type": "code",
   "execution_count": 182,
   "id": "e537b646",
   "metadata": {},
   "outputs": [
    {
     "name": "stdout",
     "output_type": "stream",
     "text": [
      "Shape of dataframe is 33000 rows and 2 columns\n",
      "Unique ids are: ['xho', 'eng', 'nso', 'ven', 'tsn', 'nbl', 'zul', 'ssw', 'tso', 'sot', 'afr']\n",
      "Duplicate entries:  False\n",
      "Checking for null entries in each column:\n",
      " lang_id    0\n",
      "text       0\n",
      "dtype: int64\n"
     ]
    },
    {
     "data": {
      "text/plain": [
       "(None, None, None, None)"
      ]
     },
     "execution_count": 182,
     "metadata": {},
     "output_type": "execute_result"
    }
   ],
   "source": [
    "eda(df_train_set)"
   ]
  },
  {
   "cell_type": "code",
   "execution_count": 183,
   "id": "2b942338",
   "metadata": {},
   "outputs": [],
   "source": [
    "#Graphical EDA (wordcloud)\n",
    "def word_cloud (df, column_name):\n",
    "    wc = WordCloud()\n",
    "    text = df[column_name].values\n",
    "    msg_cloud = wc.generate(str(text))\n",
    "    \n",
    "    #plot wordcloud\n",
    "    fig,ax = plt.subplots(figsize=(10,10))\n",
    "    ax.plot\n",
    "    plt.imshow(msg_cloud)\n",
    "    plt.axis('off')\n",
    "    plt.show\n",
    "    \n",
    "    return wc"
   ]
  },
  {
   "cell_type": "code",
   "execution_count": 184,
   "id": "6aa20b2c",
   "metadata": {},
   "outputs": [
    {
     "data": {
      "text/plain": [
       "<wordcloud.wordcloud.WordCloud at 0x136ee414760>"
      ]
     },
     "execution_count": 184,
     "metadata": {},
     "output_type": "execute_result"
    },
    {
     "data": {
      "image/png": "[encoded data removed]",
      "text/plain": [
       "<Figure size 720x720 with 1 Axes>"
      ]
     },
     "metadata": {},
     "output_type": "display_data"
    }
   ],
   "source": [
    "word_cloud (df_train_set, 'text')"
   ]
  },
  {
   "cell_type": "code",
   "execution_count": 187,
   "id": "4a51b2b9",
   "metadata": {},
   "outputs": [],
   "source": [
    "#Graphical EDA (bar graphs), for the target variable\n",
    "def bar_graph(df, column_name):\n",
    "    bar = df[column_name].value_counts().plot(kind = 'bar')\n",
    "    plt.show()\n",
    "    return bar"
   ]
  },
  {
   "cell_type": "code",
   "execution_count": 188,
   "id": "7b70240d",
   "metadata": {
    "scrolled": true
   },
   "outputs": [
    {
     "data": {
      "image/png": "[encoded data removed]",
      "text/plain": [
       "<Figure size 432x288 with 1 Axes>"
      ]
     },
     "metadata": {},
     "output_type": "display_data"
    },
    {
     "data": {
      "text/plain": [
       "<matplotlib.axes._subplots.AxesSubplot at 0x136802fb790>"
      ]
     },
     "execution_count": 188,
     "metadata": {},
     "output_type": "execute_result"
    }
   ],
   "source": [
    "bar_graph(df_train_set, 'lang_id')"
   ]
  },
  {
   "cell_type": "code",
   "execution_count": null,
   "id": "e577fbc1",
   "metadata": {},
   "outputs": [],
   "source": [
    "##Above target data is balanced "
   ]
  },
  {
   "cell_type": "markdown",
   "id": "0e4650e0",
   "metadata": {
    "id": "3aa008cb"
   },
   "source": [
    "<a id=\"four\"></a>\n",
    "## 4. Feature Engineering\n",
    "<a class=\"anchor\" id=\"1.1\"></a>\n",
    "<a href=#cont>Back to Table of Contents</a>\n",
    "\n",
    "---\n",
    "---"
   ]
  },
  {
   "cell_type": "code",
   "execution_count": 189,
   "id": "0a0320a8",
   "metadata": {},
   "outputs": [],
   "source": [
    "def punc_removal(t):\n",
    "    clean_string = t.translate(str.maketrans('', '', string.punctuation))\n",
    "    return clean_string"
   ]
  },
  {
   "cell_type": "code",
   "execution_count": 235,
   "id": "e6aff0eb",
   "metadata": {},
   "outputs": [],
   "source": [
    "def preprocess(df, frame_type=\"train\"):\n",
    "    ##Just checking if function is running as should\n",
    "    print(\"lendf\")\n",
    "    print(len(df))\n",
    "    ## Copy df to avoid editing original\n",
    "    input_df = df.copy(deep=True)\n",
    "    ##Column of interest\n",
    "    column_name = 'text' \n",
    "    ##Remove punctuation\n",
    "    df[column_name] = df[column_name].apply(punc_removal)\n",
    "    #remove single numeric terms\n",
    "    numeric_terms = r'[0-9]' \n",
    "    df[column_name] = df[column_name].replace(to_replace = numeric_terms, value = '', regex = True)\n",
    "    ##Drop unwanted columns depending if train or test\n",
    "    if frame_type == \"train\":\n",
    "        input_df.drop(['lang_id'], axis = 1, inplace = True)\n",
    "    else:\n",
    "        input_df.drop(['index'], axis = 1, inplace = True)\n",
    "    return input_df"
   ]
  },
  {
   "cell_type": "code",
   "execution_count": 236,
   "id": "6fe8ef5c",
   "metadata": {},
   "outputs": [
    {
     "name": "stdout",
     "output_type": "stream",
     "text": [
      "lendf\n",
      "33000\n",
      "lendf\n",
      "5682\n"
     ]
    }
   ],
   "source": [
    "clean_train_set = preprocess(df_train_set)\n",
    "clean_test_set =   preprocess(df_test_set,'test')"
   ]
  },
  {
   "cell_type": "code",
   "execution_count": 237,
   "id": "34bbf252",
   "metadata": {},
   "outputs": [],
   "source": [
    "##Make tokenizer callable\n",
    "def wordd_tokenizer(text):\n",
    "    return word_tokenize(text)"
   ]
  },
  {
   "cell_type": "code",
   "execution_count": 239,
   "id": "6f4b5c4f",
   "metadata": {},
   "outputs": [],
   "source": [
    "##Vectorize with Word tokenizer\n",
    "vect = TfidfVectorizer(stop_words='english', tokenizer=wordd_tokenizer,analyzer='char', ngram_range=(1, 5))\n",
    "X_vect_train = vect.fit_transform(clean_train_set['text'])\n",
    "X_vect_text = vect.transform(clean_test_set['text'])\n",
    "y =df_train_set['lang_id']"
   ]
  },
  {
   "cell_type": "code",
   "execution_count": 223,
   "id": "5a981583",
   "metadata": {},
   "outputs": [],
   "source": [
    "SEED = 1"
   ]
  },
  {
   "cell_type": "code",
   "execution_count": 224,
   "id": "ed3c4563",
   "metadata": {},
   "outputs": [],
   "source": [
    "X_train, X_test, y_train, y_test = train_test_split(X_vect_train,y , test_size=0.3, random_state = SEED)"
   ]
  },
  {
   "cell_type": "markdown",
   "id": "3ddb14b2",
   "metadata": {
    "id": "6913ac73"
   },
   "source": [
    "<a id=\"five\"></a>\n",
    "## 5. Modelling\n",
    "<a class=\"anchor\" id=\"1.1\"></a>\n",
    "<a href=#cont>Back to Table of Contents</a>\n",
    "\n",
    "---\n",
    "    \n",
    "| ⚡ Description: Modelling ⚡ |\n",
    "| :--------------------------- |\n",
    "| In this section, you are required to create one or more classification models that is/are able to classify whether or not a person believes in climate change, based on their novel tweet data.\n",
    "\n",
    "---"
   ]
  },
  {
   "cell_type": "code",
   "execution_count": 240,
   "id": "b5c7f710",
   "metadata": {},
   "outputs": [],
   "source": [
    "\n",
    "clf_sdg = SGDClassifier(loss=\"hinge\", penalty=\"l2\", max_iter=10)\n",
    "clf_lnsvc = LinearSVC()\n",
    "clf_logis=LogisticRegression(random_state=SEED)\n",
    "clf_gau = GaussianNB()\n",
    "clf_mult = MultinomialNB()\n",
    "clf_mult2 = MultinomialNB(fit_prior=False)\n",
    "clf_kmeans = KMeans(n_clusters=3, init='k-means++', max_iter=300, n_init=10)\n",
    "clf_kneigbors = KNeighborsClassifier(n_neighbors=20,weights='distance')\n",
    "clf_svc = SVC()\n",
    "clf_rf = RandomForestClassifier()\n",
    "clf_ada = AdaBoostClassifier(base_estimator=clf_sdg)\n",
    "##SVC and gaussian gave memory error hence were not evealuated\n",
    "##clf_mult was the same as clf_mult2 "
   ]
  },
  {
   "cell_type": "markdown",
   "id": "ca46ee9d",
   "metadata": {
    "id": "27e5f330"
   },
   "source": [
    "<a id=\"six\"></a>\n",
    "## 6. Model Performance\n",
    "<a class=\"anchor\" id=\"1.1\"></a>\n",
    "<a href=#cont>Back to Table of Contents</a>\n",
    "\n",
    "---\n",
    "    \n",
    "| ⚡ Description: Model performance ⚡ |\n",
    "| :--------------------------- |\n",
    "| In this section you are required to compare the relative performance of the various trained ML models on a holdout dataset and comment on what model is the best and why. |\n",
    "\n",
    "---"
   ]
  },
  {
   "cell_type": "code",
   "execution_count": null,
   "id": "48f233e8",
   "metadata": {},
   "outputs": [],
   "source": []
  },
  {
   "cell_type": "code",
   "execution_count": 241,
   "id": "63890de8",
   "metadata": {},
   "outputs": [],
   "source": [
    "##Evaluater to see how models work and display testst\n",
    "def evaluate(model,X_train,y_train, X_test, y_test):\n",
    "    # model.fit(X_train, y_train )\n",
    "    # y_pred = model.predict(X_test)\n",
    "    try: \n",
    "        model.fit(X_train, y_train )\n",
    "        y_pred = model.predict(X_test)\n",
    "    except:\n",
    "        try:\n",
    "            model.fit(X_train.toarray(), y_train )\n",
    "            y_pred = model.predict(X_test.toarray())\n",
    "        except:\n",
    "            print(sys.exc_info())\n",
    "            return -1\n",
    "    model_name = model.__class__.__name__ \n",
    "    print(\"=================================\"+model_name+\"=================================================\")\n",
    "    print(f'Accuracy score: {accuracy_score(y_test, y_pred)}')\n",
    "    print('\\n')\n",
    "    print(f'Confusion matrix score: {confusion_matrix(y_test, y_pred)}')\n",
    "    print('\\n')\n",
    "    print(\"Classification\")\n",
    "    print(f'{classification_report(y_test, y_pred)}')\n",
    "    print(f'Precision : {precision_score(y_test, y_pred,average=None )}')"
   ]
  },
  {
   "cell_type": "code",
   "execution_count": 226,
   "id": "4c78b99d",
   "metadata": {},
   "outputs": [
    {
     "name": "stdout",
     "output_type": "stream",
     "text": [
      "=================================MultinomialNB=================================================\n",
      "Accuracy score: 0.9994949494949495\n",
      "\n",
      "\n",
      "Confusion matrix score: [[905   0   0   0   0   0   0   0   0   0   0]\n",
      " [  0 848   0   0   0   0   0   0   0   0   0]\n",
      " [  0   0 916   0   0   0   0   0   0   0   0]\n",
      " [  0   0   0 903   0   0   1   0   0   0   0]\n",
      " [  0   0   0   0 879   0   0   0   0   0   0]\n",
      " [  0   0   0   0   0 945   0   0   0   0   0]\n",
      " [  0   0   0   0   0   0 889   0   0   0   0]\n",
      " [  0   0   0   0   0   0   0 852   0   0   0]\n",
      " [  0   0   0   0   0   0   0   0 934   0   0]\n",
      " [  0   1   1   0   0   0   0   0   0 922   2]\n",
      " [  0   0   0   0   0   0   0   0   0   0 902]]\n",
      "\n",
      "\n",
      "Classification\n",
      "              precision    recall  f1-score   support\n",
      "\n",
      "         afr       1.00      1.00      1.00       905\n",
      "         eng       1.00      1.00      1.00       848\n",
      "         nbl       1.00      1.00      1.00       916\n",
      "         nso       1.00      1.00      1.00       904\n",
      "         sot       1.00      1.00      1.00       879\n",
      "         ssw       1.00      1.00      1.00       945\n",
      "         tsn       1.00      1.00      1.00       889\n",
      "         tso       1.00      1.00      1.00       852\n",
      "         ven       1.00      1.00      1.00       934\n",
      "         xho       1.00      1.00      1.00       926\n",
      "         zul       1.00      1.00      1.00       902\n",
      "\n",
      "    accuracy                           1.00      9900\n",
      "   macro avg       1.00      1.00      1.00      9900\n",
      "weighted avg       1.00      1.00      1.00      9900\n",
      "\n",
      "Precision : [1.         0.99882214 0.99890949 1.         1.         1.\n",
      " 0.9988764  1.         1.         1.         0.99778761]\n"
     ]
    }
   ],
   "source": [
    "evaluate(clf_mult2,X_train,y_train, X_test, y_test)"
   ]
  },
  {
   "cell_type": "code",
   "execution_count": 204,
   "id": "42d964f3",
   "metadata": {},
   "outputs": [
    {
     "name": "stdout",
     "output_type": "stream",
     "text": [
      "=================================RandomForestClassifier=================================================\n",
      "Accuracy score: 0.982020202020202\n",
      "\n",
      "\n",
      "Confusion matrix score: [[904   1   0   0   0   0   0   0   0   0   0]\n",
      " [  3 845   0   0   0   0   0   0   0   0   0]\n",
      " [  0  11 870   0   0   2   0   0   0   5  28]\n",
      " [  0   1   0 898   1   0   4   0   0   0   0]\n",
      " [  0   0   0   0 878   0   1   0   0   0   0]\n",
      " [  1  19   3   0   0 899   0   1   0   1  21]\n",
      " [  0   0   0   2   0   0 887   0   0   0   0]\n",
      " [  0   0   0   0   0   0   0 852   0   0   0]\n",
      " [  0   0   0   0   0   0   0   0 934   0   0]\n",
      " [  1  11   6   0   0   0   0   0   0 897  11]\n",
      " [  0  13  12   1   0   7   0   0   0  11 858]]\n",
      "\n",
      "\n",
      "Classification\n",
      "              precision    recall  f1-score   support\n",
      "\n",
      "         afr       0.99      1.00      1.00       905\n",
      "         eng       0.94      1.00      0.97       848\n",
      "         nbl       0.98      0.95      0.96       916\n",
      "         nso       1.00      0.99      1.00       904\n",
      "         sot       1.00      1.00      1.00       879\n",
      "         ssw       0.99      0.95      0.97       945\n",
      "         tsn       0.99      1.00      1.00       889\n",
      "         tso       1.00      1.00      1.00       852\n",
      "         ven       1.00      1.00      1.00       934\n",
      "         xho       0.98      0.97      0.97       926\n",
      "         zul       0.93      0.95      0.94       902\n",
      "\n",
      "    accuracy                           0.98      9900\n",
      "   macro avg       0.98      0.98      0.98      9900\n",
      "weighted avg       0.98      0.98      0.98      9900\n",
      "\n",
      "Precision : [0.99449945 0.93784684 0.97643098 0.99667037 0.99886234 0.99008811\n",
      " 0.99439462 0.99882767 1.         0.98140044 0.93464052]\n"
     ]
    }
   ],
   "source": [
    "evaluate(clf_rf,X_train,y_train, X_test, y_test)"
   ]
  },
  {
   "cell_type": "code",
   "execution_count": 227,
   "id": "e192085b",
   "metadata": {},
   "outputs": [
    {
     "name": "stdout",
     "output_type": "stream",
     "text": [
      "=================================KNeighborsClassifier=================================================\n",
      "Accuracy score: 0.9908080808080808\n",
      "\n",
      "\n",
      "Confusion matrix score: [[904   0   0   0   0   0   0   0   0   0   1]\n",
      " [  0 848   0   0   0   0   0   0   0   0   0]\n",
      " [  0   1 909   0   0   0   0   0   0   1   5]\n",
      " [  0   0   0 900   1   0   3   0   0   0   0]\n",
      " [  0   0   0   0 875   0   4   0   0   0   0]\n",
      " [  0   0   0   0   0 943   0   0   0   0   2]\n",
      " [  0   0   0   0   2   0 887   0   0   0   0]\n",
      " [  0   0   0   0   0   0   0 852   0   0   0]\n",
      " [  0   0   0   0   0   0   0   0 934   0   0]\n",
      " [  0   1  15   0   0   0   0   0   0 885  25]\n",
      " [  0   0  22   0   0   4   0   0   0   4 872]]\n",
      "\n",
      "\n",
      "Classification\n",
      "              precision    recall  f1-score   support\n",
      "\n",
      "         afr       1.00      1.00      1.00       905\n",
      "         eng       1.00      1.00      1.00       848\n",
      "         nbl       0.96      0.99      0.98       916\n",
      "         nso       1.00      1.00      1.00       904\n",
      "         sot       1.00      1.00      1.00       879\n",
      "         ssw       1.00      1.00      1.00       945\n",
      "         tsn       0.99      1.00      0.99       889\n",
      "         tso       1.00      1.00      1.00       852\n",
      "         ven       1.00      1.00      1.00       934\n",
      "         xho       0.99      0.96      0.97       926\n",
      "         zul       0.96      0.97      0.97       902\n",
      "\n",
      "    accuracy                           0.99      9900\n",
      "   macro avg       0.99      0.99      0.99      9900\n",
      "weighted avg       0.99      0.99      0.99      9900\n",
      "\n",
      "Precision : [1.         0.99764706 0.96088795 1.         0.99658314 0.99577614\n",
      " 0.99217002 1.         1.         0.99438202 0.96353591]\n"
     ]
    }
   ],
   "source": [
    "evaluate(clf_kneigbors,X_train,y_train, X_test, y_test)"
   ]
  },
  {
   "cell_type": "code",
   "execution_count": 231,
   "id": "9684cc13",
   "metadata": {},
   "outputs": [
    {
     "name": "stdout",
     "output_type": "stream",
     "text": [
      "=================================SGDClassifier=================================================\n",
      "Accuracy score: 0.9992929292929293\n",
      "\n",
      "\n",
      "Confusion matrix score: [[905   0   0   0   0   0   0   0   0   0   0]\n",
      " [  0 848   0   0   0   0   0   0   0   0   0]\n",
      " [  0   0 914   0   0   0   0   0   0   0   2]\n",
      " [  0   0   0 903   0   0   1   0   0   0   0]\n",
      " [  0   0   0   0 879   0   0   0   0   0   0]\n",
      " [  0   0   0   0   0 944   0   0   0   0   1]\n",
      " [  0   0   0   0   0   0 889   0   0   0   0]\n",
      " [  0   0   0   0   0   0   0 852   0   0   0]\n",
      " [  0   0   0   0   0   0   0   0 934   0   0]\n",
      " [  0   1   1   0   0   0   0   0   0 924   0]\n",
      " [  0   0   0   0   0   0   0   0   0   1 901]]\n",
      "\n",
      "\n",
      "Classification\n",
      "              precision    recall  f1-score   support\n",
      "\n",
      "         afr       1.00      1.00      1.00       905\n",
      "         eng       1.00      1.00      1.00       848\n",
      "         nbl       1.00      1.00      1.00       916\n",
      "         nso       1.00      1.00      1.00       904\n",
      "         sot       1.00      1.00      1.00       879\n",
      "         ssw       1.00      1.00      1.00       945\n",
      "         tsn       1.00      1.00      1.00       889\n",
      "         tso       1.00      1.00      1.00       852\n",
      "         ven       1.00      1.00      1.00       934\n",
      "         xho       1.00      1.00      1.00       926\n",
      "         zul       1.00      1.00      1.00       902\n",
      "\n",
      "    accuracy                           1.00      9900\n",
      "   macro avg       1.00      1.00      1.00      9900\n",
      "weighted avg       1.00      1.00      1.00      9900\n",
      "\n",
      "Precision : [1.         0.99882214 0.9989071  1.         1.         1.\n",
      " 0.9988764  1.         1.         0.99891892 0.99668142]\n"
     ]
    }
   ],
   "source": [
    "evaluate(clf_sdg,X_train,y_train, X_test, y_test)"
   ]
  },
  {
   "cell_type": "code",
   "execution_count": 206,
   "id": "d89de5e4",
   "metadata": {},
   "outputs": [
    {
     "name": "stderr",
     "output_type": "stream",
     "text": [
      "D:\\installation\\Anaconda\\lib\\site-packages\\sklearn\\linear_model\\_logistic.py:762: ConvergenceWarning: lbfgs failed to converge (status=1):\n",
      "STOP: TOTAL NO. of ITERATIONS REACHED LIMIT.\n",
      "\n",
      "Increase the number of iterations (max_iter) or scale the data as shown in:\n",
      "    https://scikit-learn.org/stable/modules/preprocessing.html\n",
      "Please also refer to the documentation for alternative solver options:\n",
      "    https://scikit-learn.org/stable/modules/linear_model.html#logistic-regression\n",
      "  n_iter_i = _check_optimize_result(\n"
     ]
    },
    {
     "name": "stdout",
     "output_type": "stream",
     "text": [
      "=================================LogisticRegression=================================================\n",
      "Accuracy score: 0.9943434343434343\n",
      "\n",
      "\n",
      "Confusion matrix score: [[897   2   0   0   0   2   0   0   0   4   0]\n",
      " [  0 847   0   0   0   0   1   0   0   0   0]\n",
      " [  0   0 901   0   0   1   0   0   0   4  10]\n",
      " [  0   1   0 900   0   0   3   0   0   0   0]\n",
      " [  0   0   1   1 874   0   2   0   0   1   0]\n",
      " [  0   0   0   0   0 940   0   0   0   0   5]\n",
      " [  0   0   1   1   0   0 887   0   0   0   0]\n",
      " [  0   0   0   0   0   0   0 852   0   0   0]\n",
      " [  0   0   0   0   0   0   0   0 933   1   0]\n",
      " [  0   2   1   0   0   0   0   0   0 923   0]\n",
      " [  0   0   5   0   0   1   0   0   0   6 890]]\n",
      "\n",
      "\n",
      "Classification\n",
      "              precision    recall  f1-score   support\n",
      "\n",
      "         afr       1.00      0.99      1.00       905\n",
      "         eng       0.99      1.00      1.00       848\n",
      "         nbl       0.99      0.98      0.99       916\n",
      "         nso       1.00      1.00      1.00       904\n",
      "         sot       1.00      0.99      1.00       879\n",
      "         ssw       1.00      0.99      1.00       945\n",
      "         tsn       0.99      1.00      1.00       889\n",
      "         tso       1.00      1.00      1.00       852\n",
      "         ven       1.00      1.00      1.00       934\n",
      "         xho       0.98      1.00      0.99       926\n",
      "         zul       0.98      0.99      0.99       902\n",
      "\n",
      "    accuracy                           0.99      9900\n",
      "   macro avg       0.99      0.99      0.99      9900\n",
      "weighted avg       0.99      0.99      0.99      9900\n",
      "\n",
      "Precision : [1.         0.99413146 0.99119912 0.99778271 1.         0.99576271\n",
      " 0.99328108 1.         1.         0.9829606  0.98342541]\n"
     ]
    }
   ],
   "source": [
    "evaluate(clf_logis,X_train,y_train, X_test, y_test)"
   ]
  },
  {
   "cell_type": "code",
   "execution_count": 95,
   "id": "e071a6cf",
   "metadata": {},
   "outputs": [
    {
     "name": "stdout",
     "output_type": "stream",
     "text": [
      "=================================LinearSVC=================================================\n",
      "Accuracy score: 0.9978787878787879\n",
      "\n",
      "\n",
      "Confusion matrix score: [[905   0   0   0   0   0   0   0   0   0   0]\n",
      " [  0 848   0   0   0   0   0   0   0   0   0]\n",
      " [  0   0 908   0   0   1   0   0   0   3   4]\n",
      " [  0   0   0 902   0   0   1   0   0   1   0]\n",
      " [  0   0   0   0 878   0   0   0   0   1   0]\n",
      " [  0   0   0   0   0 942   0   0   0   0   3]\n",
      " [  0   0   0   1   0   0 888   0   0   0   0]\n",
      " [  0   0   0   0   0   0   0 852   0   0   0]\n",
      " [  0   0   0   0   0   0   0   0 934   0   0]\n",
      " [  0   1   0   0   0   0   0   0   0 925   0]\n",
      " [  0   0   2   0   0   0   0   0   0   3 897]]\n",
      "\n",
      "\n",
      "Classification\n",
      "              precision    recall  f1-score   support\n",
      "\n",
      "         afr       1.00      1.00      1.00       905\n",
      "         eng       1.00      1.00      1.00       848\n",
      "         nbl       1.00      0.99      0.99       916\n",
      "         nso       1.00      1.00      1.00       904\n",
      "         sot       1.00      1.00      1.00       879\n",
      "         ssw       1.00      1.00      1.00       945\n",
      "         tsn       1.00      1.00      1.00       889\n",
      "         tso       1.00      1.00      1.00       852\n",
      "         ven       1.00      1.00      1.00       934\n",
      "         xho       0.99      1.00      1.00       926\n",
      "         zul       0.99      0.99      0.99       902\n",
      "\n",
      "    accuracy                           1.00      9900\n",
      "   macro avg       1.00      1.00      1.00      9900\n",
      "weighted avg       1.00      1.00      1.00      9900\n",
      "\n",
      "Precision : [1.         0.99882214 0.9978022  0.99889258 1.         0.99893955\n",
      " 0.99887514 1.         1.         0.99142551 0.99225664]\n"
     ]
    }
   ],
   "source": [
    "evaluate(clf_lnsvc,X_train,y_train, X_test, y_test)"
   ]
  },
  {
   "cell_type": "code",
   "execution_count": 97,
   "id": "cc6f22bb",
   "metadata": {},
   "outputs": [
    {
     "name": "stdout",
     "output_type": "stream",
     "text": [
      "(<class 'MemoryError'>, MemoryError((23100, 145399), dtype('float64')), <traceback object at 0x00000136EBB5D1C0>)\n"
     ]
    },
    {
     "data": {
      "text/plain": [
       "-1"
      ]
     },
     "execution_count": 97,
     "metadata": {},
     "output_type": "execute_result"
    }
   ],
   "source": [
    "evaluate(clf_gau,X_train,y_train, X_test, y_test)"
   ]
  },
  {
   "cell_type": "code",
   "execution_count": 228,
   "id": "01e17d9d",
   "metadata": {},
   "outputs": [
    {
     "name": "stdout",
     "output_type": "stream",
     "text": [
      "=================================MultinomialNB=================================================\n",
      "Accuracy score: 0.9994949494949495\n",
      "\n",
      "\n",
      "Confusion matrix score: [[905   0   0   0   0   0   0   0   0   0   0]\n",
      " [  0 848   0   0   0   0   0   0   0   0   0]\n",
      " [  0   0 916   0   0   0   0   0   0   0   0]\n",
      " [  0   0   0 903   0   0   1   0   0   0   0]\n",
      " [  0   0   0   0 879   0   0   0   0   0   0]\n",
      " [  0   0   0   0   0 945   0   0   0   0   0]\n",
      " [  0   0   0   0   0   0 889   0   0   0   0]\n",
      " [  0   0   0   0   0   0   0 852   0   0   0]\n",
      " [  0   0   0   0   0   0   0   0 934   0   0]\n",
      " [  0   1   1   0   0   0   0   0   0 922   2]\n",
      " [  0   0   0   0   0   0   0   0   0   0 902]]\n",
      "\n",
      "\n",
      "Classification\n",
      "              precision    recall  f1-score   support\n",
      "\n",
      "         afr       1.00      1.00      1.00       905\n",
      "         eng       1.00      1.00      1.00       848\n",
      "         nbl       1.00      1.00      1.00       916\n",
      "         nso       1.00      1.00      1.00       904\n",
      "         sot       1.00      1.00      1.00       879\n",
      "         ssw       1.00      1.00      1.00       945\n",
      "         tsn       1.00      1.00      1.00       889\n",
      "         tso       1.00      1.00      1.00       852\n",
      "         ven       1.00      1.00      1.00       934\n",
      "         xho       1.00      1.00      1.00       926\n",
      "         zul       1.00      1.00      1.00       902\n",
      "\n",
      "    accuracy                           1.00      9900\n",
      "   macro avg       1.00      1.00      1.00      9900\n",
      "weighted avg       1.00      1.00      1.00      9900\n",
      "\n",
      "Precision : [1.         0.99882214 0.99890949 1.         1.         1.\n",
      " 0.9988764  1.         1.         1.         0.99778761]\n"
     ]
    }
   ],
   "source": [
    "evaluate(clf_mult,X_train,y_train, X_test, y_test)"
   ]
  },
  {
   "cell_type": "code",
   "execution_count": 209,
   "id": "767aefd2",
   "metadata": {},
   "outputs": [],
   "source": [
    "\n",
    "def get_preds_csv(model, X_sc, y_sc, X_tst, filename):\n",
    "    model.fit(X_sc, y_sc )\n",
    "    y_pred = model.predict(X_tst)\n",
    "    model_name = model.__class__.__name__ \n",
    "    print(\"=================================\"+model_name+\"=================================================\")\n",
    "    print(f'Accuracy score: {model.score( X_sc, y_sc)}')\n",
    "    output = pd.DataFrame({'index': df_test_set['index'], 'lang_id': y_pred})\n",
    "    output.to_csv(filename+'.csv', index=False)\n",
    "    \n",
    "    \n",
    "    "
   ]
  },
  {
   "cell_type": "code",
   "execution_count": 210,
   "id": "f91d35dc",
   "metadata": {},
   "outputs": [
    {
     "name": "stdout",
     "output_type": "stream",
     "text": [
      "=================================KNeighborsClassifier=================================================\n",
      "Accuracy score: 1.0\n"
     ]
    }
   ],
   "source": [
    "get_preds_csv(clf_kneigbors, X_vect_train, y, X_vect_text, \"kneighb03\")\n"
   ]
  },
  {
   "cell_type": "code",
   "execution_count": 234,
   "id": "157f5b43",
   "metadata": {},
   "outputs": [
    {
     "name": "stdout",
     "output_type": "stream",
     "text": [
      "=================================LinearSVC=================================================\n",
      "Accuracy score: 1.0\n"
     ]
    }
   ],
   "source": [
    "\n",
    "get_preds_csv(clf_lnsvc, X_vect_train, y, X_vect_text, \"lnsvc05\")"
   ]
  },
  {
   "cell_type": "code",
   "execution_count": 229,
   "id": "0f944d84",
   "metadata": {},
   "outputs": [
    {
     "name": "stdout",
     "output_type": "stream",
     "text": [
      "=================================MultinomialNB=================================================\n",
      "Accuracy score: 0.9996969696969698\n"
     ]
    }
   ],
   "source": [
    "## Best model so far 97 accuracy on kaggle\n",
    "get_preds_csv(clf_mult, X_vect_train, y, X_vect_text, \"multc04\")"
   ]
  },
  {
   "cell_type": "code",
   "execution_count": 230,
   "id": "fe34158e",
   "metadata": {},
   "outputs": [
    {
     "name": "stdout",
     "output_type": "stream",
     "text": [
      "=================================RandomForestClassifier=================================================\n",
      "Accuracy score: 1.0\n"
     ]
    }
   ],
   "source": [
    "get_preds_csv(clf_rf, X_vect_train, y, X_vect_text, \"rf02\")"
   ]
  },
  {
   "cell_type": "code",
   "execution_count": 221,
   "id": "cf4959f6",
   "metadata": {},
   "outputs": [
    {
     "name": "stdout",
     "output_type": "stream",
     "text": [
      "=================================MultinomialNB=================================================\n",
      "Accuracy score: 0.9999090909090909\n"
     ]
    }
   ],
   "source": [
    "\n",
    "get_preds_csv(clf_mult2, X_vect_train, y, X_vect_text, \"multc201\")"
   ]
  },
  {
   "cell_type": "code",
   "execution_count": 233,
   "id": "3ee9c123",
   "metadata": {},
   "outputs": [
    {
     "name": "stdout",
     "output_type": "stream",
     "text": [
      "=================================SGDClassifier=================================================\n",
      "Accuracy score: 0.9997878787878788\n"
     ]
    }
   ],
   "source": [
    "\n",
    "get_preds_csv(clf_sdg, X_vect_train, y, X_vect_text, \"sdg02\")"
   ]
  },
  {
   "cell_type": "markdown",
   "id": "71544b75",
   "metadata": {
    "id": "d7dabbf5"
   },
   "source": [
    "<a id=\"seven\"></a>\n",
    "## 7. Model Explanations\n",
    "<a class=\"anchor\" id=\"1.1\"></a>\n",
    "<a href=#cont>Back to Table of Contents</a>\n",
    "\n",
    "---\n",
    "    \n",
    "| ⚡ Description: Model explanation ⚡ |\n",
    "| :--------------------------- |\n",
    "| In this section, you are required to discuss how the best performing model works in a simple way so that both technical and non-technical stakeholders can grasp the intuition behind the model's inner workings. |\n",
    "\n",
    "---"
   ]
  },
  {
   "cell_type": "code",
   "execution_count": null,
   "id": "a98e3e77",
   "metadata": {
    "id": "aa0220c9"
   },
   "outputs": [],
   "source": [
    "##According to kaggle test\n",
    "# The best was multinomialNb with 97% accuracy while the poorest was the randomforest classifier with 84%\n",
    "##SDG and linear svc were also good second after multinomial with 95% accuracy"
   ]
  },
  {
   "cell_type": "markdown",
   "id": "09e6b64a",
   "metadata": {
    "id": "ZC7LqFCWvuqr"
   },
   "source": [
    " <a id=\"eight\"></a>\n",
    "## 8. Conclusion\n",
    "<a class=\"anchor\" id=\"1.1\"></a>\n",
    "<a href=#cont>Back to Table of Contents</a>\n",
    "\n",
    "---\n",
    "    \n",
    "| ⚡ Description: Model explanation ⚡ |\n",
    "| :--------------------------- |\n",
    "| In this section, you are required to discuss how the best performing model works in a simple way so that both technical and non-technical stakeholders can grasp the intuition behind the model's inner workings. |\n",
    "\n",
    "---"
   ]
  },
  {
   "cell_type": "markdown",
   "id": "e972777c",
   "metadata": {
    "id": "wn19MhDiwCGU"
   },
   "source": [
    "<a id=\"nine\"></a>\n",
    "## 9. Recommendation\n",
    "<a class=\"anchor\" id=\"1.1\"></a>\n",
    "<a href=#cont>Back to Table of Contents</a>\n",
    "\n",
    "---\n",
    "    \n",
    "| ⚡ Description: Model explanation ⚡ |\n",
    "| :--------------------------- |\n",
    "| In this section, you are required to discuss how the best performing model works in a simple way so that both technical and non-technical stakeholders can grasp the intuition behind the model's inner workings. |\n",
    "\n",
    "---"
   ]
  },
  {
   "cell_type": "markdown",
   "id": "e7cd8147",
   "metadata": {
    "id": "NTWNQBmgwL4J"
   },
   "source": [
    "<a id=\"ten\"></a>\n",
    "## 10. Acknowledgement\n",
    "<a class=\"anchor\" id=\"1.1\"></a>\n",
    "<a href=#cont>Back to Table of Contents</a>\n",
    "\n",
    "---\n",
    "    \n",
    "| ⚡ Description: Model explanation ⚡ |\n",
    "| :--------------------------- |\n",
    "| In this section, you are required to discuss how the best performing model works in a simple way so that both technical and non-technical stakeholders can grasp the intuition behind the model's inner workings. |\n",
    "\n",
    "---"
   ]
  }
 ],
 "metadata": {
  "colab": {
   "collapsed_sections": [],
   "name": "Predict.ipynb",
   "provenance": []
  },
  "kernelspec": {
   "display_name": "Python 3 (ipykernel)",
   "language": "python",
   "name": "python3"
  },
  "language_info": {
   "codemirror_mode": {
    "name": "ipython",
    "version": 3
   },
   "file_extension": ".py",
   "mimetype": "text/x-python",
   "name": "python",
   "nbconvert_exporter": "python",
   "pygments_lexer": "ipython3",
   "version": "3.10.9"
  }
 },
 "nbformat": 4,
 "nbformat_minor": 5
}
