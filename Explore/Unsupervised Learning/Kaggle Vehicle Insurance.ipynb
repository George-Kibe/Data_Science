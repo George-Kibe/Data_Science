{
 "cells": [
  {
   "cell_type": "markdown",
   "metadata": {},
   "source": [
    "<h1>Problem Statement</h1>\n",
    "<p>An insurance company that has provided Health Insurance to its customers now they need our help in building a model to predict whether the policyholders (customers) from past year will also be interested in Vehicle Insurance provided by the company.</p>\n",
    "<p>An insurance policy is an arrangement by which a company undertakes to provide a guarantee of compensation for specified loss, damage, illness, or death in return for the payment of a specified premium. A premium is a sum of money that the customer needs to pay regularly to an insurance company for this guarantee.</p>\n",
    "<p>For example, you may pay a premium of Rs. 5000 each year for a health insurance cover of Rs. 200,000/- so that if, God forbid, you fall ill and need to be hospitalized in that year, the insurance provider company will bear the cost of hospitalization etc. for up to Rs. 200,000. Now if you are wondering how can company bear such high hospitalization cost when it charges a premium of only Rs. 5000/-, that is where the concept of probabilities comes in picture. For example, like you, there may be 100 customers who would be paying a premium of Rs. 5000 every year, but only a few of them (say 2-3) would get hospitalized that year and not everyone. This way everyone shares the risk of everyone else.</p>\n",
    "<p>Just like medical insurance, there is vehicle insurance where every year customer needs to pay a premium of certain amount to the insurance provider company so that in case of unfortunate accident by the vehicle, the insurance provider company will provide a compensation (called ‘sum assured’) to the customer.</p>\n",
    "<p><b>Building a model to predict whether a customer would be interested in Vehicle Insurance</b> is extremely helpful for the company because it can then accordingly plan its communication strategy to reach out to those customers and optimize its business model and revenue.</p>\n",
    "<p>Now, in order to predict, whether the customer would be interested in Vehicle insurance, you have information about demographics (gender, age, region code type), Vehicles (Vehicle Age, Damage), Policy (Premium, sourcing channel) etc.</p>\n",
    "<p></p>\n",
    "<h1>Data Description</h1>\n",
    "<ul>\n",
    "    <li><b>id:</b> Unique ID for the customer</li>\n",
    "    <li><b>Gender:</b> Gender of the customer</li>\n",
    "    <li><b>Age:</b> Age of the customer</li>\n",
    "    <li><b>Driving_License:</b> 0 : Customer does not have DL, 1 : Customer already has DL</li>\n",
    "    <li><b>Region_Code:</b> Unique code for the region of the customer</li>\n",
    "    <li><b>Previously_Insured: </b> 1: Customer already has Vehicle Insurance, 0 : Customer doesn't have Vehicle Insurance</li>\n",
    "    <li><b>Vehicle_Age:</b> Age of the Vehicle</li>\n",
    "    <li><b>Vehicle_Damage:</b> 1: Customer got his vehicle damaged in the past. 0 : Customer didn't get his/her vehicle damaged in the past.</li>\n",
    "    <li><b>Annual_Premium:</b> The amount customer needs to pay as premium in the year</li>\n",
    "    <li><b>PolicySalesChannel:</b> Anonymized Code for the channel of outreaching to the customer ie. Different Agents, Over Mail, Over Phone, In Person, etc.</li>\n",
    "    <li><b>Vintage:</b> Number of Days, Customer has been associated with the company</li>\n",
    "    <li><b>Response:</b> 1 : Customer is interested, 0 : Customer is not interested</li>\n",
    "\n",
    "</ul>\n",
    "<h2>Evaluation Metric</h2>\n",
    "The evaluation metric would be accuracy and ROC_AUC score.\n"
   ]
  },
  {
   "cell_type": "markdown",
   "metadata": {},
   "source": [
    "## Import Necessary Libraries"
   ]
  },
  {
   "cell_type": "code",
   "execution_count": 1,
   "metadata": {
    "execution": {
     "iopub.execute_input": "2023-02-26T05:59:07.437522Z",
     "iopub.status.busy": "2023-02-26T05:59:07.436386Z",
     "iopub.status.idle": "2023-02-26T05:59:08.145038Z",
     "shell.execute_reply": "2023-02-26T05:59:08.143755Z",
     "shell.execute_reply.started": "2023-02-26T05:59:07.437476Z"
    }
   },
   "outputs": [],
   "source": [
    "import pandas as pd\n",
    "import numpy as np\n",
    "import seaborn as sns\n",
    "import matplotlib.pyplot as plt\n",
    "from sklearn.preprocessing import MinMaxScaler, StandardScaler\n",
    "from sklearn.model_selection import train_test_split, learning_curve\n",
    "from sklearn.metrics import classification_report, confusion_matrix\n",
    "from sklearn.metrics import roc_auc_score, accuracy_score, roc_curve\n",
    "import warnings\n",
    "warnings.filterwarnings('ignore')\n",
    "%matplotlib inline"
   ]
  },
  {
   "cell_type": "markdown",
   "metadata": {},
   "source": [
    "## Load the dataset"
   ]
  },
  {
   "cell_type": "code",
   "execution_count": 2,
   "metadata": {
    "execution": {
     "iopub.execute_input": "2023-02-26T05:59:08.153099Z",
     "iopub.status.busy": "2023-02-26T05:59:08.152342Z",
     "iopub.status.idle": "2023-02-26T05:59:08.9151Z",
     "shell.execute_reply": "2023-02-26T05:59:08.91365Z",
     "shell.execute_reply.started": "2023-02-26T05:59:08.153056Z"
    }
   },
   "outputs": [
    {
     "data": {
      "text/html": [
       "<div>\n",
       "<style scoped>\n",
       "    .dataframe tbody tr th:only-of-type {\n",
       "        vertical-align: middle;\n",
       "    }\n",
       "\n",
       "    .dataframe tbody tr th {\n",
       "        vertical-align: top;\n",
       "    }\n",
       "\n",
       "    .dataframe thead th {\n",
       "        text-align: right;\n",
       "    }\n",
       "</style>\n",
       "<table border=\"1\" class=\"dataframe\">\n",
       "  <thead>\n",
       "    <tr style=\"text-align: right;\">\n",
       "      <th></th>\n",
       "      <th>id</th>\n",
       "      <th>Gender</th>\n",
       "      <th>Age</th>\n",
       "      <th>Driving_License</th>\n",
       "      <th>Region_Code</th>\n",
       "      <th>Previously_Insured</th>\n",
       "      <th>Vehicle_Age</th>\n",
       "      <th>Vehicle_Damage</th>\n",
       "      <th>Annual_Premium</th>\n",
       "      <th>Policy_Sales_Channel</th>\n",
       "      <th>Vintage</th>\n",
       "      <th>Response</th>\n",
       "    </tr>\n",
       "  </thead>\n",
       "  <tbody>\n",
       "    <tr>\n",
       "      <th>0</th>\n",
       "      <td>1</td>\n",
       "      <td>Male</td>\n",
       "      <td>44</td>\n",
       "      <td>1</td>\n",
       "      <td>28.0</td>\n",
       "      <td>0</td>\n",
       "      <td>&gt; 2 Years</td>\n",
       "      <td>Yes</td>\n",
       "      <td>40454.0</td>\n",
       "      <td>26.0</td>\n",
       "      <td>217</td>\n",
       "      <td>1</td>\n",
       "    </tr>\n",
       "    <tr>\n",
       "      <th>1</th>\n",
       "      <td>2</td>\n",
       "      <td>Male</td>\n",
       "      <td>76</td>\n",
       "      <td>1</td>\n",
       "      <td>3.0</td>\n",
       "      <td>0</td>\n",
       "      <td>1-2 Year</td>\n",
       "      <td>No</td>\n",
       "      <td>33536.0</td>\n",
       "      <td>26.0</td>\n",
       "      <td>183</td>\n",
       "      <td>0</td>\n",
       "    </tr>\n",
       "    <tr>\n",
       "      <th>2</th>\n",
       "      <td>3</td>\n",
       "      <td>Male</td>\n",
       "      <td>47</td>\n",
       "      <td>1</td>\n",
       "      <td>28.0</td>\n",
       "      <td>0</td>\n",
       "      <td>&gt; 2 Years</td>\n",
       "      <td>Yes</td>\n",
       "      <td>38294.0</td>\n",
       "      <td>26.0</td>\n",
       "      <td>27</td>\n",
       "      <td>1</td>\n",
       "    </tr>\n",
       "    <tr>\n",
       "      <th>3</th>\n",
       "      <td>4</td>\n",
       "      <td>Male</td>\n",
       "      <td>21</td>\n",
       "      <td>1</td>\n",
       "      <td>11.0</td>\n",
       "      <td>1</td>\n",
       "      <td>&lt; 1 Year</td>\n",
       "      <td>No</td>\n",
       "      <td>28619.0</td>\n",
       "      <td>152.0</td>\n",
       "      <td>203</td>\n",
       "      <td>0</td>\n",
       "    </tr>\n",
       "    <tr>\n",
       "      <th>4</th>\n",
       "      <td>5</td>\n",
       "      <td>Female</td>\n",
       "      <td>29</td>\n",
       "      <td>1</td>\n",
       "      <td>41.0</td>\n",
       "      <td>1</td>\n",
       "      <td>&lt; 1 Year</td>\n",
       "      <td>No</td>\n",
       "      <td>27496.0</td>\n",
       "      <td>152.0</td>\n",
       "      <td>39</td>\n",
       "      <td>0</td>\n",
       "    </tr>\n",
       "  </tbody>\n",
       "</table>\n",
       "</div>"
      ],
      "text/plain": [
       "   id  Gender  Age  Driving_License  Region_Code  Previously_Insured  \\\n",
       "0   1    Male   44                1         28.0                   0   \n",
       "1   2    Male   76                1          3.0                   0   \n",
       "2   3    Male   47                1         28.0                   0   \n",
       "3   4    Male   21                1         11.0                   1   \n",
       "4   5  Female   29                1         41.0                   1   \n",
       "\n",
       "  Vehicle_Age Vehicle_Damage  Annual_Premium  Policy_Sales_Channel  Vintage  \\\n",
       "0   > 2 Years            Yes         40454.0                  26.0      217   \n",
       "1    1-2 Year             No         33536.0                  26.0      183   \n",
       "2   > 2 Years            Yes         38294.0                  26.0       27   \n",
       "3    < 1 Year             No         28619.0                 152.0      203   \n",
       "4    < 1 Year             No         27496.0                 152.0       39   \n",
       "\n",
       "   Response  \n",
       "0         1  \n",
       "1         0  \n",
       "2         1  \n",
       "3         0  \n",
       "4         0  "
      ]
     },
     "execution_count": 2,
     "metadata": {},
     "output_type": "execute_result"
    }
   ],
   "source": [
    "df = pd.read_csv(\"https://raw.githubusercontent.com/shuvo14051/datasets/master/Sell-Prediction.csv\")\n",
    "df.head()"
   ]
  },
  {
   "cell_type": "markdown",
   "metadata": {},
   "source": [
    "## EDA"
   ]
  },
  {
   "cell_type": "code",
   "execution_count": 3,
   "metadata": {
    "execution": {
     "iopub.execute_input": "2023-02-26T05:59:08.917873Z",
     "iopub.status.busy": "2023-02-26T05:59:08.917148Z",
     "iopub.status.idle": "2023-02-26T05:59:09.013712Z",
     "shell.execute_reply": "2023-02-26T05:59:09.012387Z",
     "shell.execute_reply.started": "2023-02-26T05:59:08.917825Z"
    }
   },
   "outputs": [
    {
     "name": "stdout",
     "output_type": "stream",
     "text": [
      "Shape of the dataset: (381109, 12)\n",
      "Null values? 0\n"
     ]
    }
   ],
   "source": [
    "print(\"Shape of the dataset:\",df.shape)\n",
    "print(\"Null values?\", sum(df.isnull().sum()))"
   ]
  },
  {
   "cell_type": "code",
   "execution_count": 4,
   "metadata": {
    "execution": {
     "iopub.execute_input": "2023-02-26T05:59:09.018161Z",
     "iopub.status.busy": "2023-02-26T05:59:09.0178Z",
     "iopub.status.idle": "2023-02-26T05:59:09.024565Z",
     "shell.execute_reply": "2023-02-26T05:59:09.022852Z",
     "shell.execute_reply.started": "2023-02-26T05:59:09.018127Z"
    }
   },
   "outputs": [
    {
     "name": "stdout",
     "output_type": "stream",
     "text": [
      "['id', 'Gender', 'Age', 'Driving_License', 'Region_Code', 'Previously_Insured', 'Vehicle_Age', 'Vehicle_Damage', 'Annual_Premium', 'Policy_Sales_Channel', 'Vintage', 'Response']\n"
     ]
    }
   ],
   "source": [
    "print(df.columns.to_list())"
   ]
  },
  {
   "cell_type": "code",
   "execution_count": 5,
   "metadata": {
    "execution": {
     "iopub.execute_input": "2023-02-26T05:59:09.028119Z",
     "iopub.status.busy": "2023-02-26T05:59:09.026762Z",
     "iopub.status.idle": "2023-02-26T05:59:09.037145Z",
     "shell.execute_reply": "2023-02-26T05:59:09.036031Z",
     "shell.execute_reply.started": "2023-02-26T05:59:09.028064Z"
    }
   },
   "outputs": [
    {
     "name": "stdout",
     "output_type": "stream",
     "text": [
      "id                        int64\n",
      "Gender                   object\n",
      "Age                       int64\n",
      "Driving_License           int64\n",
      "Region_Code             float64\n",
      "Previously_Insured        int64\n",
      "Vehicle_Age              object\n",
      "Vehicle_Damage           object\n",
      "Annual_Premium          float64\n",
      "Policy_Sales_Channel    float64\n",
      "Vintage                   int64\n",
      "Response                  int64\n",
      "dtype: object\n"
     ]
    }
   ],
   "source": [
    "print(df.dtypes)"
   ]
  },
  {
   "cell_type": "markdown",
   "metadata": {},
   "source": [
    "## Take a look on the object type columns"
   ]
  },
  {
   "cell_type": "code",
   "execution_count": 6,
   "metadata": {
    "execution": {
     "iopub.execute_input": "2023-02-26T05:59:09.039911Z",
     "iopub.status.busy": "2023-02-26T05:59:09.038613Z",
     "iopub.status.idle": "2023-02-26T05:59:09.06147Z",
     "shell.execute_reply": "2023-02-26T05:59:09.060233Z",
     "shell.execute_reply.started": "2023-02-26T05:59:09.039848Z"
    }
   },
   "outputs": [
    {
     "name": "stdout",
     "output_type": "stream",
     "text": [
      "   Gender Vehicle_Age Vehicle_Damage\n",
      "0    Male   > 2 Years            Yes\n",
      "1    Male    1-2 Year             No\n",
      "2    Male   > 2 Years            Yes\n",
      "3    Male    < 1 Year             No\n",
      "4  Female    < 1 Year             No\n"
     ]
    }
   ],
   "source": [
    "categorical_df = df.select_dtypes(include=['O'])\n",
    "print(categorical_df.head(5))"
   ]
  },
  {
   "cell_type": "code",
   "execution_count": 7,
   "metadata": {
    "execution": {
     "iopub.execute_input": "2023-02-26T05:59:09.064145Z",
     "iopub.status.busy": "2023-02-26T05:59:09.063109Z",
     "iopub.status.idle": "2023-02-26T05:59:09.093503Z",
     "shell.execute_reply": "2023-02-26T05:59:09.092051Z",
     "shell.execute_reply.started": "2023-02-26T05:59:09.064098Z"
    }
   },
   "outputs": [
    {
     "data": {
      "text/plain": [
       "Male      206089\n",
       "Female    175020\n",
       "Name: Gender, dtype: int64"
      ]
     },
     "execution_count": 7,
     "metadata": {},
     "output_type": "execute_result"
    }
   ],
   "source": [
    "df['Gender'].value_counts()"
   ]
  },
  {
   "cell_type": "code",
   "execution_count": 8,
   "metadata": {
    "execution": {
     "iopub.execute_input": "2023-02-26T05:59:09.096546Z",
     "iopub.status.busy": "2023-02-26T05:59:09.095304Z",
     "iopub.status.idle": "2023-02-26T05:59:09.127387Z",
     "shell.execute_reply": "2023-02-26T05:59:09.126235Z",
     "shell.execute_reply.started": "2023-02-26T05:59:09.096492Z"
    }
   },
   "outputs": [
    {
     "data": {
      "text/plain": [
       "1-2 Year     200316\n",
       "< 1 Year     164786\n",
       "> 2 Years     16007\n",
       "Name: Vehicle_Age, dtype: int64"
      ]
     },
     "execution_count": 8,
     "metadata": {},
     "output_type": "execute_result"
    }
   ],
   "source": [
    "df['Vehicle_Age'].value_counts()"
   ]
  },
  {
   "cell_type": "code",
   "execution_count": 9,
   "metadata": {
    "execution": {
     "iopub.execute_input": "2023-02-26T05:59:09.129713Z",
     "iopub.status.busy": "2023-02-26T05:59:09.129055Z",
     "iopub.status.idle": "2023-02-26T05:59:09.158326Z",
     "shell.execute_reply": "2023-02-26T05:59:09.157128Z",
     "shell.execute_reply.started": "2023-02-26T05:59:09.129671Z"
    }
   },
   "outputs": [
    {
     "data": {
      "text/plain": [
       "Yes    192413\n",
       "No     188696\n",
       "Name: Vehicle_Damage, dtype: int64"
      ]
     },
     "execution_count": 9,
     "metadata": {},
     "output_type": "execute_result"
    }
   ],
   "source": [
    "df['Vehicle_Damage'].value_counts()"
   ]
  },
  {
   "cell_type": "markdown",
   "metadata": {},
   "source": [
    "## Map this object types columns"
   ]
  },
  {
   "cell_type": "code",
   "execution_count": null,
   "metadata": {
    "execution": {
     "iopub.execute_input": "2023-02-26T05:59:09.161199Z",
     "iopub.status.busy": "2023-02-26T05:59:09.160294Z",
     "iopub.status.idle": "2023-02-26T05:59:09.209704Z",
     "shell.execute_reply": "2023-02-26T05:59:09.208429Z",
     "shell.execute_reply.started": "2023-02-26T05:59:09.161143Z"
    }
   },
   "outputs": [],
   "source": [
    "df['Vehicle_Damage'] = df['Vehicle_Damage'].map({\"Yes\":0,\"No\":1})\n",
    "df['Vehicle_Damage'].value_counts()"
   ]
  },
  {
   "cell_type": "code",
   "execution_count": null,
   "metadata": {
    "execution": {
     "iopub.execute_input": "2023-02-26T05:59:09.212167Z",
     "iopub.status.busy": "2023-02-26T05:59:09.211753Z",
     "iopub.status.idle": "2023-02-26T05:59:09.255058Z",
     "shell.execute_reply": "2023-02-26T05:59:09.254026Z",
     "shell.execute_reply.started": "2023-02-26T05:59:09.212127Z"
    }
   },
   "outputs": [],
   "source": [
    "df['Gender'] = df['Gender'].map({\"Male\":0,\"Female\":1})\n",
    "df['Gender'].value_counts()"
   ]
  },
  {
   "cell_type": "code",
   "execution_count": null,
   "metadata": {
    "execution": {
     "iopub.execute_input": "2023-02-26T05:59:09.257118Z",
     "iopub.status.busy": "2023-02-26T05:59:09.256577Z",
     "iopub.status.idle": "2023-02-26T05:59:09.298038Z",
     "shell.execute_reply": "2023-02-26T05:59:09.296961Z",
     "shell.execute_reply.started": "2023-02-26T05:59:09.25707Z"
    }
   },
   "outputs": [],
   "source": [
    "df['Vehicle_Age'] = df['Vehicle_Age'].map({\"< 1 Year\":0,\"1-2 Year\":1,\"> 2 Years\":2})\n",
    "df['Vehicle_Age'].value_counts()"
   ]
  },
  {
   "cell_type": "markdown",
   "metadata": {},
   "source": [
    "## Now lets take a look into our converted dataset\n",
    "After all the mappings of categorical varibales"
   ]
  },
  {
   "cell_type": "code",
   "execution_count": null,
   "metadata": {
    "execution": {
     "iopub.execute_input": "2023-02-26T05:59:09.304236Z",
     "iopub.status.busy": "2023-02-26T05:59:09.303874Z",
     "iopub.status.idle": "2023-02-26T05:59:09.324089Z",
     "shell.execute_reply": "2023-02-26T05:59:09.322817Z",
     "shell.execute_reply.started": "2023-02-26T05:59:09.304206Z"
    }
   },
   "outputs": [],
   "source": [
    "df.head()"
   ]
  },
  {
   "cell_type": "markdown",
   "metadata": {},
   "source": [
    "# Mean encoding\n",
    "Mean encoding (also known as target encoding) is a technique for encoding categorical variables as numerical variables based on the mean of the target variable for each category.\n",
    "\n",
    "<p>The basic idea of mean encoding is to replace each category of a categorical variable with the mean value of the target variable for that category. This can help capture the relationship between the categorical variable and the target variable, especially when the categorical variable has a large number of unique categories.</p>"
   ]
  },
  {
   "cell_type": "markdown",
   "metadata": {},
   "source": [
    "### Gender "
   ]
  },
  {
   "cell_type": "code",
   "execution_count": null,
   "metadata": {
    "execution": {
     "iopub.execute_input": "2023-02-26T05:59:09.32656Z",
     "iopub.status.busy": "2023-02-26T05:59:09.325811Z",
     "iopub.status.idle": "2023-02-26T05:59:09.353534Z",
     "shell.execute_reply": "2023-02-26T05:59:09.352479Z",
     "shell.execute_reply.started": "2023-02-26T05:59:09.326502Z"
    }
   },
   "outputs": [],
   "source": [
    "means_g = df.groupby(\"Gender\")[\"Response\"].mean()\n",
    "print(means_g)\n",
    "df['gender_encoded'] = df[\"Gender\"].map(means_g)"
   ]
  },
  {
   "cell_type": "markdown",
   "metadata": {},
   "source": [
    "### Driving licence"
   ]
  },
  {
   "cell_type": "code",
   "execution_count": null,
   "metadata": {
    "execution": {
     "iopub.execute_input": "2023-02-26T05:59:09.356162Z",
     "iopub.status.busy": "2023-02-26T05:59:09.355253Z",
     "iopub.status.idle": "2023-02-26T05:59:09.376967Z",
     "shell.execute_reply": "2023-02-26T05:59:09.375757Z",
     "shell.execute_reply.started": "2023-02-26T05:59:09.35612Z"
    }
   },
   "outputs": [],
   "source": [
    "means_driving = df.groupby(\"Driving_License\")[\"Response\"].mean()\n",
    "print(means_driving)\n",
    "df['driving_license_encoded'] = df[\"Driving_License\"].map(means_driving)"
   ]
  },
  {
   "cell_type": "markdown",
   "metadata": {},
   "source": [
    "### Previously_Insured"
   ]
  },
  {
   "cell_type": "code",
   "execution_count": null,
   "metadata": {
    "execution": {
     "iopub.execute_input": "2023-02-26T05:59:09.380741Z",
     "iopub.status.busy": "2023-02-26T05:59:09.378579Z",
     "iopub.status.idle": "2023-02-26T05:59:09.402997Z",
     "shell.execute_reply": "2023-02-26T05:59:09.401771Z",
     "shell.execute_reply.started": "2023-02-26T05:59:09.380694Z"
    }
   },
   "outputs": [],
   "source": [
    "means_Insured= df.groupby(\"Previously_Insured\")[\"Response\"].mean()\n",
    "print(means_driving)\n",
    "df['Previously_Insured_encoded'] = df[\"Previously_Insured\"].map(means_Insured)"
   ]
  },
  {
   "cell_type": "markdown",
   "metadata": {},
   "source": [
    "### Vehicle_Damage"
   ]
  },
  {
   "cell_type": "code",
   "execution_count": null,
   "metadata": {
    "execution": {
     "iopub.execute_input": "2023-02-26T05:59:09.405146Z",
     "iopub.status.busy": "2023-02-26T05:59:09.404727Z",
     "iopub.status.idle": "2023-02-26T05:59:09.428405Z",
     "shell.execute_reply": "2023-02-26T05:59:09.427153Z",
     "shell.execute_reply.started": "2023-02-26T05:59:09.405105Z"
    }
   },
   "outputs": [],
   "source": [
    "Vehicle_Damage= df.groupby(\"Vehicle_Damage\")[\"Response\"].mean()\n",
    "print(Vehicle_Damage)\n",
    "df['Vehicle_Damage_encoded'] = df[\"Vehicle_Damage\"].map(Vehicle_Damage)"
   ]
  },
  {
   "cell_type": "markdown",
   "metadata": {},
   "source": [
    "### Vehicle_Age"
   ]
  },
  {
   "cell_type": "code",
   "execution_count": null,
   "metadata": {
    "execution": {
     "iopub.execute_input": "2023-02-26T05:59:09.430862Z",
     "iopub.status.busy": "2023-02-26T05:59:09.42987Z",
     "iopub.status.idle": "2023-02-26T05:59:09.454335Z",
     "shell.execute_reply": "2023-02-26T05:59:09.453351Z",
     "shell.execute_reply.started": "2023-02-26T05:59:09.43082Z"
    }
   },
   "outputs": [],
   "source": [
    "Vehicle_Age= df.groupby(\"Vehicle_Age\")[\"Response\"].mean()\n",
    "print(Vehicle_Age)\n",
    "df['Vehicle_Age_encoded'] = df[\"Vehicle_Age\"].map(Vehicle_Age)"
   ]
  },
  {
   "cell_type": "markdown",
   "metadata": {},
   "source": [
    "## Target column\n",
    "For the value counts it's clear that we have an imbalance classification problem here. 87.74% people are not interested to take a vehicle insurence and only 12.25% people are interested.\n",
    " So we need to use some undersampling or oversampling technique here to solve this imbalance problem."
   ]
  },
  {
   "cell_type": "code",
   "execution_count": null,
   "metadata": {
    "execution": {
     "iopub.execute_input": "2023-02-26T05:59:09.45616Z",
     "iopub.status.busy": "2023-02-26T05:59:09.455759Z",
     "iopub.status.idle": "2023-02-26T05:59:09.472641Z",
     "shell.execute_reply": "2023-02-26T05:59:09.471385Z",
     "shell.execute_reply.started": "2023-02-26T05:59:09.45612Z"
    }
   },
   "outputs": [],
   "source": [
    "print(df['Response'].value_counts())\n",
    "print(df['Response'].value_counts(normalize=True))"
   ]
  },
  {
   "cell_type": "markdown",
   "metadata": {},
   "source": [
    "## Over sampling\n",
    "Synthetic Minority Oversampling Technique (SMOTE) is a statistical technique for increasing the number of cases in your dataset in a balanced way. The component works by generating new instances from existing minority cases that you supply as input.\n",
    "<p>ADASYN (Adaptive Synthetic) is an algorithm that generates synthetic data, and its greatest advantages are not copying the same minority data, and generating more data for “harder to learn” examples.</p>"
   ]
  },
  {
   "cell_type": "code",
   "execution_count": null,
   "metadata": {
    "execution": {
     "iopub.execute_input": "2023-02-26T05:59:09.475452Z",
     "iopub.status.busy": "2023-02-26T05:59:09.47504Z",
     "iopub.status.idle": "2023-02-26T05:59:09.534937Z",
     "shell.execute_reply": "2023-02-26T05:59:09.533794Z",
     "shell.execute_reply.started": "2023-02-26T05:59:09.475409Z"
    }
   },
   "outputs": [],
   "source": [
    "X = df.drop('Response', axis=1)\n",
    "y = df['Response']"
   ]
  },
  {
   "cell_type": "code",
   "execution_count": null,
   "metadata": {
    "execution": {
     "iopub.execute_input": "2023-02-26T05:59:09.537412Z",
     "iopub.status.busy": "2023-02-26T05:59:09.536938Z",
     "iopub.status.idle": "2023-02-26T05:59:09.932046Z",
     "shell.execute_reply": "2023-02-26T05:59:09.930944Z",
     "shell.execute_reply.started": "2023-02-26T05:59:09.537366Z"
    }
   },
   "outputs": [],
   "source": [
    "sns.countplot(y=y, data=df)\n",
    "plt.show()"
   ]
  },
  {
   "cell_type": "code",
   "execution_count": null,
   "metadata": {
    "execution": {
     "iopub.execute_input": "2023-02-26T05:59:09.934022Z",
     "iopub.status.busy": "2023-02-26T05:59:09.933604Z",
     "iopub.status.idle": "2023-02-26T06:05:56.880394Z",
     "shell.execute_reply": "2023-02-26T06:05:56.879259Z",
     "shell.execute_reply.started": "2023-02-26T05:59:09.933981Z"
    }
   },
   "outputs": [],
   "source": [
    "from imblearn.under_sampling import RandomUnderSampler,EditedNearestNeighbours\n",
    "from imblearn.over_sampling import SMOTE, ADASYN\n",
    "sampling = ADASYN()\n",
    "X, y = sampling.fit_resample(X, y)"
   ]
  },
  {
   "cell_type": "code",
   "execution_count": null,
   "metadata": {
    "execution": {
     "iopub.execute_input": "2023-02-26T06:05:56.882654Z",
     "iopub.status.busy": "2023-02-26T06:05:56.88193Z",
     "iopub.status.idle": "2023-02-26T06:05:57.36095Z",
     "shell.execute_reply": "2023-02-26T06:05:57.359821Z",
     "shell.execute_reply.started": "2023-02-26T06:05:56.882614Z"
    }
   },
   "outputs": [],
   "source": [
    "sns.countplot(y=y, data=df)\n",
    "plt.show()"
   ]
  },
  {
   "cell_type": "markdown",
   "metadata": {},
   "source": [
    "## Train test split"
   ]
  },
  {
   "cell_type": "code",
   "execution_count": null,
   "metadata": {
    "execution": {
     "iopub.execute_input": "2023-02-26T06:05:57.363622Z",
     "iopub.status.busy": "2023-02-26T06:05:57.36244Z",
     "iopub.status.idle": "2023-02-26T06:05:57.711663Z",
     "shell.execute_reply": "2023-02-26T06:05:57.710514Z",
     "shell.execute_reply.started": "2023-02-26T06:05:57.363576Z"
    }
   },
   "outputs": [],
   "source": [
    "X_train, X_test, y_train, y_test = train_test_split(X, y, test_size=0.33, \n",
    "                                                    stratify=y, random_state=42)"
   ]
  },
  {
   "cell_type": "markdown",
   "metadata": {},
   "source": [
    "## Scaling"
   ]
  },
  {
   "cell_type": "code",
   "execution_count": null,
   "metadata": {
    "execution": {
     "iopub.execute_input": "2023-02-26T06:05:57.713911Z",
     "iopub.status.busy": "2023-02-26T06:05:57.713156Z",
     "iopub.status.idle": "2023-02-26T06:05:57.843602Z",
     "shell.execute_reply": "2023-02-26T06:05:57.842479Z",
     "shell.execute_reply.started": "2023-02-26T06:05:57.713846Z"
    }
   },
   "outputs": [],
   "source": [
    "scaler = MinMaxScaler()\n",
    "X_train = scaler.fit_transform(X_train)\n",
    "X_test = scaler.transform(X_test)"
   ]
  },
  {
   "cell_type": "code",
   "execution_count": null,
   "metadata": {
    "execution": {
     "iopub.execute_input": "2023-02-26T06:05:57.845819Z",
     "iopub.status.busy": "2023-02-26T06:05:57.845382Z",
     "iopub.status.idle": "2023-02-26T06:06:03.558343Z",
     "shell.execute_reply": "2023-02-26T06:06:03.556796Z",
     "shell.execute_reply.started": "2023-02-26T06:05:57.845772Z"
    }
   },
   "outputs": [],
   "source": [
    "from sklearn.ensemble import RandomForestClassifier\n",
    "from sklearn.linear_model import LogisticRegression\n",
    "from sklearn.neighbors import KNeighborsClassifier\n",
    "from sklearn.svm import SVC\n",
    "clf = LogisticRegression()\n",
    "clf.fit(X_train, y_train)\n",
    "y_pred = clf.predict(X_test)\n",
    "y_train_pred = clf.predict(X_train)"
   ]
  },
  {
   "cell_type": "markdown",
   "metadata": {},
   "source": [
    "## Training vs testing accuracy"
   ]
  },
  {
   "cell_type": "code",
   "execution_count": null,
   "metadata": {
    "execution": {
     "iopub.execute_input": "2023-02-26T06:11:13.734825Z",
     "iopub.status.busy": "2023-02-26T06:11:13.733857Z",
     "iopub.status.idle": "2023-02-26T06:11:13.789485Z",
     "shell.execute_reply": "2023-02-26T06:11:13.788226Z",
     "shell.execute_reply.started": "2023-02-26T06:11:13.734782Z"
    }
   },
   "outputs": [],
   "source": [
    "print(f\"Training score: {accuracy_score(y_train,y_train_pred)*100:.2f}%\")\n",
    "print(f\"Testing score: {accuracy_score(y_test,y_pred)*100:.2f}%\") "
   ]
  },
  {
   "cell_type": "markdown",
   "metadata": {},
   "source": [
    "## Classification report"
   ]
  },
  {
   "cell_type": "code",
   "execution_count": null,
   "metadata": {
    "execution": {
     "iopub.execute_input": "2023-02-26T06:06:03.684292Z",
     "iopub.status.busy": "2023-02-26T06:06:03.68023Z",
     "iopub.status.idle": "2023-02-26T06:06:03.982587Z",
     "shell.execute_reply": "2023-02-26T06:06:03.980574Z",
     "shell.execute_reply.started": "2023-02-26T06:06:03.684229Z"
    }
   },
   "outputs": [],
   "source": [
    "print(classification_report(y_test,y_pred))"
   ]
  },
  {
   "cell_type": "markdown",
   "metadata": {},
   "source": [
    "## Confusion matrix"
   ]
  },
  {
   "cell_type": "code",
   "execution_count": null,
   "metadata": {
    "execution": {
     "iopub.execute_input": "2023-02-26T06:06:03.985186Z",
     "iopub.status.busy": "2023-02-26T06:06:03.984725Z",
     "iopub.status.idle": "2023-02-26T06:06:04.244052Z",
     "shell.execute_reply": "2023-02-26T06:06:04.242932Z",
     "shell.execute_reply.started": "2023-02-26T06:06:03.985144Z"
    }
   },
   "outputs": [],
   "source": [
    "cn = confusion_matrix(y_test,y_pred)\n",
    "sns.heatmap(cn, annot=True, fmt = 'g')\n",
    "plt.show()"
   ]
  },
  {
   "cell_type": "markdown",
   "metadata": {},
   "source": [
    "## AUC ROC score and curve"
   ]
  },
  {
   "cell_type": "code",
   "execution_count": null,
   "metadata": {
    "execution": {
     "iopub.execute_input": "2023-02-26T06:11:38.524139Z",
     "iopub.status.busy": "2023-02-26T06:11:38.523014Z",
     "iopub.status.idle": "2023-02-26T06:11:38.569515Z",
     "shell.execute_reply": "2023-02-26T06:11:38.568248Z",
     "shell.execute_reply.started": "2023-02-26T06:11:38.524086Z"
    }
   },
   "outputs": [],
   "source": [
    "auc_roc_score = roc_auc_score(y_test, y_pred)\n",
    "print(f\"{auc_roc_score*100:.2f}\")"
   ]
  },
  {
   "cell_type": "code",
   "execution_count": null,
   "metadata": {
    "execution": {
     "iopub.execute_input": "2023-02-26T06:06:04.295963Z",
     "iopub.status.busy": "2023-02-26T06:06:04.295173Z",
     "iopub.status.idle": "2023-02-26T06:06:04.520077Z",
     "shell.execute_reply": "2023-02-26T06:06:04.518926Z",
     "shell.execute_reply.started": "2023-02-26T06:06:04.295914Z"
    }
   },
   "outputs": [],
   "source": [
    "fpr, tpr, thresholds = roc_curve(y_test, y_pred)\n",
    "\n",
    "# Plot ROC curve\n",
    "plt.plot(fpr, tpr)\n",
    "plt.plot([0, 1], [0, 1], '--')\n",
    "plt.title('Receiver Operating Characteristic (ROC) Curve')\n",
    "plt.xlabel('False Positive Rate')\n",
    "plt.ylabel('True Positive Rate')\n",
    "plt.show()"
   ]
  },
  {
   "cell_type": "code",
   "execution_count": null,
   "metadata": {
    "execution": {
     "iopub.execute_input": "2023-02-26T06:06:04.522202Z",
     "iopub.status.busy": "2023-02-26T06:06:04.521802Z",
     "iopub.status.idle": "2023-02-26T06:08:26.689079Z",
     "shell.execute_reply": "2023-02-26T06:08:26.687708Z",
     "shell.execute_reply.started": "2023-02-26T06:06:04.522163Z"
    }
   },
   "outputs": [],
   "source": [
    "train_sizes, train_scores, test_scores = learning_curve(clf, X_train, y_train, cv=10, scoring='accuracy')\n",
    "\n",
    "train_mean = np.mean(train_scores, axis=1)\n",
    "train_std = np.std(train_scores, axis=1)\n",
    "test_mean = np.mean(test_scores, axis=1)\n",
    "test_std = np.std(test_scores, axis=1)\n",
    "\n",
    "plt.plot(train_sizes, train_mean, label='Training Score')\n",
    "plt.plot(train_sizes, test_mean, label='Cross-Validation Score')\n",
    "plt.fill_between(train_sizes, train_mean - train_std, train_mean + train_std, alpha=0.1)\n",
    "plt.fill_between(train_sizes, test_mean - test_std, test_mean + test_std, alpha=0.1)\n",
    "\n",
    "plt.xlabel('Training Set Size')\n",
    "plt.ylabel('Accuracy')\n",
    "plt.title('Learning Curve')\n",
    "plt.legend(loc='best')\n",
    "\n",
    "plt.show()"
   ]
  }
 ],
 "metadata": {
  "kernelspec": {
   "display_name": "Python 3 (ipykernel)",
   "language": "python",
   "name": "python3"
  },
  "language_info": {
   "codemirror_mode": {
    "name": "ipython",
    "version": 3
   },
   "file_extension": ".py",
   "mimetype": "text/x-python",
   "name": "python",
   "nbconvert_exporter": "python",
   "pygments_lexer": "ipython3",
   "version": "3.10.9"
  }
 },
 "nbformat": 4,
 "nbformat_minor": 4
}
