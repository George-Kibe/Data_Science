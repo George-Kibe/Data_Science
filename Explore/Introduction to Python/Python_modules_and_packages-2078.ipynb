{
 "cells": [
  {
   "cell_type": "markdown",
   "metadata": {
    "colab_type": "text",
    "id": "k52b0R_HjaKt"
   },
   "source": [
    "# Python Modules and Packages\n",
    "© Explore Data Science Academy"
   ]
  },
  {
   "cell_type": "markdown",
   "metadata": {},
   "source": [
    "## Learning Objectives\n",
    "In this train you will learn how to:\n",
    "- Write a module and import all or specific objects from a module; \n",
    "- Import modules using an alias name and explore the use of built-in modules; and,\n",
    "- Define a package and its hierarchical organization.\n",
    "\n",
    "\n",
    "## Outline\n",
    "To do this, we will:\n",
    "- Define the importance of modules and packages in programming;\n",
    "- Review the syntax and conventions for importing modules; \n",
    "- Consider the use of built-in Python modules and packages; and, \n",
    "- Review the standard list of Python libraries/packages and their applications."
   ]
  },
  {
   "cell_type": "code",
   "execution_count": 1,
   "metadata": {},
   "outputs": [
    {
     "data": {
      "image/jpeg": "[encoded data removed]",
      "text/html": [
       "\n",
       "        <iframe\n",
       "            width=\"940\"\n",
       "            height=\"500\"\n",
       "            src=\"https://www.youtube.com/embed/2uVnxFYxroU\"\n",
       "            frameborder=\"0\"\n",
       "            allowfullscreen\n",
       "            \n",
       "        ></iframe>\n",
       "        "
      ],
      "text/plain": [
       "<IPython.lib.display.YouTubeVideo at 0x7f8083db81c0>"
      ]
     },
     "execution_count": 1,
     "metadata": {},
     "output_type": "execute_result"
    }
   ],
   "source": [
    "from IPython.display import YouTubeVideo\n",
    "YouTubeVideo('2uVnxFYxroU', width=940, height=500)"
   ]
  },
  {
   "cell_type": "markdown",
   "metadata": {},
   "source": [
    "## Introduction\n",
    "Modular programming is a style of programming that promotes code reusability; allowing us to generate single pieces of code which can be used in multiple parts of a project - thus saving time and resources. The resulting code can be simpler to understand and maintain since components can be considered in isolation. In Python, **modularization** is implemented using functions, modules and packages.\n",
    "\n",
    "A **module** is a file consisting of Python code. A module can define functions, classes, variables and runnable code. These modules can be imported and referenced from other python code. A **python package** (also referred to as a library) is a collection of hierarchically structured directories of python code consisting of sub-packages and modules.\n",
    "\n",
    "Modules and packages are two mechanisms that facilitate modular programming. \n",
    "\n",
    "## Why modularization? \n",
    "\n",
    "* **Reusability**: Eliminates the need to write new code, as functionality defined in a single module can be easily reused.\n",
    "\n",
    "\n",
    "* **Simplicity**: Modules generally tend to focus on a selected area of the problem which is usually small, rather than focusing on the entire problem at hand. Integrating the use of selected modules will result in you systematically dealing with each small problem in your code making development easier and less error-prone.\n",
    "\n",
    "\n",
    "* **Maintainability**: Modules in Python are often designed to be self-supporting. In this sense, one module does not depend entirely upon other modules to work. Therefore it is unlikely that modifying a single module of a program will affect other parts of the program. This allows a team of many programmers or data scientists to work collaboratively on a large application."
   ]
  },
  {
   "cell_type": "markdown",
   "metadata": {},
   "source": [
    "## Working with modules  \n",
    "\n",
    "### Creating modules\n",
    "Creating a module is as simply as saving a Python script with functions, classes, variables and running code. The file name is the module name with the suffix `.py` appended.\n",
    "\n",
    "### Importing modules \n",
    "We can access this module and its elements from a different python file by using the `import` statement. \n",
    "* We can import a single module/package:\n",
    "\n",
    "    ```python\n",
    "    import <module_name>\n",
    "    ```\n",
    "\n",
    "* import multiple modules using individual import statements:\n",
    "\n",
    "    ```python\n",
    "    import <module_1_name>\n",
    "    import <module_2_name>\n",
    "    import <module_3_name>\n",
    "    ...```\n",
    "    \n",
    "    \n",
    "                      \n",
    "The same rules apply when dealing with packages. We can import specific modules within a package by using dot notation. For this to work, we have to structure packages and modules in a way that reflects the hierarchy in the package directory.\n",
    "\n",
    "   ```python\n",
    "    import <package_name>.<sub_package_name>.<module_name>.<...>\n",
    "   ```\n",
    "\n",
    "Let's go ahead and create our own module, with the following 3 types of elements:\n",
    "\n",
    "*   A variable `s`\n",
    "*   A function `say_hi()`\n",
    "*   A class `Greet`"
   ]
  },
  {
   "cell_type": "code",
   "execution_count": 8,
   "metadata": {
    "collapsed": true
   },
   "outputs": [],
   "source": [
    "# Contents of the module we are creating \n",
    "content = \"\"\"\n",
    "s = 'Hello ' \n",
    "\n",
    "def say_hi(name):\n",
    "    print(s+name)\n",
    "\n",
    "class Greet:\n",
    "    pass\n",
    "\"\"\"\n",
    "\n",
    "# Write the above text to a file called my_module.py\n",
    "# within our current working directory. \n",
    "with open('./my_module.py', 'w') as fp:\n",
    "    fp.write(content)"
   ]
  },
  {
   "cell_type": "code",
   "execution_count": 9,
   "metadata": {
    "collapsed": true
   },
   "outputs": [],
   "source": [
    "#Import the module we've just made! \n",
    "import my_module "
   ]
  },
  {
   "cell_type": "markdown",
   "metadata": {},
   "source": [
    "Even though we've imported our module, note that its contents (the variables and functions we've defined within the module) are not directly accessible to us. As such, attempting to access these elements will result in (namespace) errors being thrown. We can safely see such errors using a `try-except` block:"
   ]
  },
  {
   "cell_type": "code",
   "execution_count": 10,
   "metadata": {},
   "outputs": [
    {
     "name": "stdout",
     "output_type": "stream",
     "text": [
      "Variable 's' does not exist!\n"
     ]
    }
   ],
   "source": [
    "try:\n",
    "    # Try to print the variable s\n",
    "    print(s)\n",
    "except NameError:\n",
    "    # We've caught a NameError exception (error!)\n",
    "    # We inform the programmer (you) that the variable does not exist\n",
    "    print(\"Variable 's' does not exist!\")"
   ]
  },
  {
   "cell_type": "markdown",
   "metadata": {},
   "source": [
    "Learning from this experience, it is important to know that objects in a module are only accessible when prefixed with via dot notation, as illustrated below. "
   ]
  },
  {
   "cell_type": "code",
   "execution_count": 11,
   "metadata": {},
   "outputs": [
    {
     "data": {
      "text/plain": [
       "'Hello '"
      ]
     },
     "execution_count": 11,
     "metadata": {},
     "output_type": "execute_result"
    }
   ],
   "source": [
    "#(2)\n",
    "my_module.s "
   ]
  },
  {
   "cell_type": "code",
   "execution_count": 12,
   "metadata": {},
   "outputs": [
    {
     "name": "stdout",
     "output_type": "stream",
     "text": [
      "Hello Nelson\n"
     ]
    }
   ],
   "source": [
    "#(3)\n",
    "my_module.say_hi('Nelson')"
   ]
  },
  {
   "cell_type": "markdown",
   "metadata": {},
   "source": [
    "## Importing modules using an alias\n",
    "The `import` statement in python also allows for the use of aliases when referencing a module. Using the `as` keyword, we can save ourselves from having to type otherwise long package names each time we need to access an object from a given module/package. This usually follows the following syntax:\n",
    "\n",
    "```python\n",
    "import <module_name> as <new_model_name>\n",
    "```\n",
    "or \n",
    "\n",
    "```python \n",
    "from <package_name> import <module_name> as <new_model_name>\n",
    "```\n",
    "\n",
    "for example:"
   ]
  },
  {
   "cell_type": "code",
   "execution_count": 13,
   "metadata": {
    "collapsed": true
   },
   "outputs": [],
   "source": [
    "#(4)\n",
    "import my_module as md"
   ]
  },
  {
   "cell_type": "markdown",
   "metadata": {},
   "source": [
    "We can thus treat the alias as the new name for the module. "
   ]
  },
  {
   "cell_type": "code",
   "execution_count": 14,
   "metadata": {},
   "outputs": [
    {
     "data": {
      "text/plain": [
       "'Hello '"
      ]
     },
     "execution_count": 14,
     "metadata": {},
     "output_type": "execute_result"
    }
   ],
   "source": [
    "md.s"
   ]
  },
  {
   "cell_type": "code",
   "execution_count": 15,
   "metadata": {},
   "outputs": [
    {
     "name": "stdout",
     "output_type": "stream",
     "text": [
      "Hello Jabulani\n"
     ]
    }
   ],
   "source": [
    "md.say_hi('Jabulani')"
   ]
  },
  {
   "cell_type": "code",
   "execution_count": 16,
   "metadata": {},
   "outputs": [
    {
     "data": {
      "text/plain": [
       "my_module.Greet"
      ]
     },
     "execution_count": 16,
     "metadata": {},
     "output_type": "execute_result"
    }
   ],
   "source": [
    "md.Greet"
   ]
  },
  {
   "cell_type": "markdown",
   "metadata": {},
   "source": [
    "Another way to access specific objects in a module is to use the `from` keyword and import them directly:\n",
    "\n",
    "```python \n",
    "from <module_name> import <x, y, z>\n",
    "``` "
   ]
  },
  {
   "cell_type": "code",
   "execution_count": 17,
   "metadata": {
    "collapsed": true
   },
   "outputs": [],
   "source": [
    "from my_module import s, say_hi, Greet"
   ]
  },
  {
   "cell_type": "code",
   "execution_count": 18,
   "metadata": {},
   "outputs": [
    {
     "data": {
      "text/plain": [
       "'Hello '"
      ]
     },
     "execution_count": 18,
     "metadata": {},
     "output_type": "execute_result"
    }
   ],
   "source": [
    "s"
   ]
  },
  {
   "cell_type": "code",
   "execution_count": 19,
   "metadata": {},
   "outputs": [
    {
     "name": "stdout",
     "output_type": "stream",
     "text": [
      "Hello Jabulani\n"
     ]
    }
   ],
   "source": [
    "say_hi('Jabulani')"
   ]
  },
  {
   "cell_type": "code",
   "execution_count": 20,
   "metadata": {},
   "outputs": [
    {
     "data": {
      "text/plain": [
       "my_module.Greet"
      ]
     },
     "execution_count": 20,
     "metadata": {},
     "output_type": "execute_result"
    }
   ],
   "source": [
    "Greet"
   ]
  },
  {
   "cell_type": "markdown",
   "metadata": {},
   "source": [
    "To select all objects from a module you can use the following command, where the asterisk **( * )** *signifies all* :\n",
    "\n",
    "```python\n",
    "from <module_name> import*\n",
    "```\n",
    "Let's see this in practice one more time: "
   ]
  },
  {
   "cell_type": "code",
   "execution_count": 21,
   "metadata": {
    "collapsed": true
   },
   "outputs": [],
   "source": [
    "from my_module import * "
   ]
  },
  {
   "cell_type": "markdown",
   "metadata": {},
   "source": [
    "Now we have access to all our module contents"
   ]
  },
  {
   "cell_type": "code",
   "execution_count": 23,
   "metadata": {},
   "outputs": [
    {
     "name": "stdout",
     "output_type": "stream",
     "text": [
      "Hello Joanne\n"
     ]
    }
   ],
   "source": [
    "say_hi('Joanne')"
   ]
  },
  {
   "cell_type": "code",
   "execution_count": 22,
   "metadata": {},
   "outputs": [
    {
     "data": {
      "text/plain": [
       "my_module.Greet"
      ]
     },
     "execution_count": 22,
     "metadata": {},
     "output_type": "execute_result"
    }
   ],
   "source": [
    "Greet"
   ]
  },
  {
   "cell_type": "markdown",
   "metadata": {},
   "source": [
    "## Built-in modules \n",
    "Python contains a large number of what are known as 'built-in' modules. These modules can be accessed in Python programs by simply importing them using their name preceded by the keyword `import`. \n",
    "\n",
    "Each built-in module contains resources for certain system-specific functionalities such as Operating System management, disk Input-Output, etc. Python scripts(with the **.py** extension) containing useful utilities are embedded within the standard library. \n",
    "\n",
    "To **display a list of all available modules**, use the following command:\n",
    "\n",
    "`help('modules')`"
   ]
  },
  {
   "cell_type": "code",
   "execution_count": null,
   "metadata": {
    "collapsed": true
   },
   "outputs": [],
   "source": [
    "help('modules')"
   ]
  },
  {
   "cell_type": "markdown",
   "metadata": {},
   "source": [
    "Alternatively, the `dir()` function is a built-in function that can be used to **list all the function names (or variable names) in a module**:\n",
    "\n",
    "`dir(module_name)`"
   ]
  },
  {
   "cell_type": "code",
   "execution_count": 26,
   "metadata": {},
   "outputs": [
    {
     "name": "stdout",
     "output_type": "stream",
     "text": [
      "The square root of 81 is equal to 9.0\n",
      "Functions in the math module: ['__doc__', '__file__', '__loader__', '__name__', '__package__', '__spec__', 'acos', 'acosh', 'asin', 'asinh', 'atan', 'atan2', 'atanh', 'ceil', 'copysign', 'cos', 'cosh', 'degrees', 'e', 'erf', 'erfc', 'exp', 'expm1', 'fabs', 'factorial', 'floor', 'fmod', 'frexp', 'fsum', 'gamma', 'gcd', 'hypot', 'inf', 'isclose', 'isfinite', 'isinf', 'isnan', 'ldexp', 'lgamma', 'log', 'log10', 'log1p', 'log2', 'modf', 'nan', 'pi', 'pow', 'radians', 'remainder', 'sin', 'sinh', 'sqrt', 'tan', 'tanh', 'tau', 'trunc']\n"
     ]
    }
   ],
   "source": [
    "# Import math module \n",
    "import math \n",
    "\n",
    "# Use the sqrt function in the math module\n",
    "x = math.sqrt(81)\n",
    "print('The square root of 81 is equal to {}'.format(x))\n",
    "\n",
    "# List all functions in math module \n",
    "list_all= dir(math)\n",
    "print('Functions in the math module: {}'.format(list_all))"
   ]
  },
  {
   "cell_type": "markdown",
   "metadata": {},
   "source": [
    "## What are Packages in Python?\n",
    "\n",
    "For obvious reasons, we can't really store all of our files on our computer in the same location. We, therefore, make use of well-organized directory structures for easier accessibility.\n",
    "\n",
    "A specific directory is designated to files that share similarities, for example, we may keep all the photos in the \"Pictures\" directory. In this same way, **directories are considered as Python packages** and **files as modules**. \n",
    "\n",
    "As our program grows larger in size with an increased number of modules, we can cluster similar modules in one package and other clusters of similar modules in different packages. This in turn will allow for the efficient management of our project (program), making it conceptually clear. Similarly, as a directory can contain subdirectories and files, a Python package can also contain sub-packages and modules.\n",
    "\n",
    "In order for a directory to be considered as a package by Python, it must contain a file named `__init__.py`. This file can be left empty but the initialization code for that package is generally placed in this file.\n",
    "\n",
    "The figure below presents a possible organization of packages and modules present if we were developing a game:"
   ]
  },
  {
   "cell_type": "markdown",
   "metadata": {},
   "source": [
    "<br></br>\n",
    "\n",
    "<div align=\"center\" style=\"width: 800px; font-size: 80%; text-align: center; margin: -20 auto\">\n",
    "<img src=\"https://github.com/Explore-AI/Pictures/blob/master/python_modules_and_packages.png?raw=true\"\n",
    "     alt=\"Python modules for a hypothetical game\"\n",
    "     style=\"float: center; padding-bottom=0.5em\"\n",
    "     width=800px/>\n",
    "   \n",
    "Using a game to represent the package structure which can be used in Python to logically structure our code as it grows in complexity. \n",
    "</div>"
   ]
  },
  {
   "cell_type": "markdown",
   "metadata": {},
   "source": [
    "## Standard Python Packages\n",
    "\n",
    "Python distributions are shipped with a standard list of libraries/packages, some of these include:\n",
    "\n",
    "**NB! You do not need to know any of these packages or what they do right now, but can be referenced later on!**\n",
    "\n",
    "**Text Processing Services**\n",
    "\n",
    "* string — Common string operations\n",
    "* re — Regular expression operations\n",
    "* unicodedata — Unicode Database\n",
    "\n",
    "**Data Types**\n",
    "\n",
    "* datetime — Basic date and time types\n",
    "* calendar — General calendar-related functions\n",
    "* array — Efficient arrays of numeric values\n",
    "* copy — Shallow and deep copy operations\n",
    "* pprint — Data pretty printer\n",
    "\n",
    "**Numeric and Mathematical Modules**\n",
    "\n",
    "* numbers — Numeric abstract base classes\n",
    "* math — Mathematical functions\n",
    "* cmath — Mathematical functions for complex numbers\n",
    "* decimal — Decimal fixed point and floating point arithmetic\n",
    "* fractions — Rational numbers\n",
    "* random — Generate pseudo-random numbers\n",
    "* statistics — Mathematical statistics functions\n",
    "\n",
    "**File and Directory Access**\n",
    "\n",
    "* pathlib — Object-oriented filesystem paths\n",
    "* fileinput — Iterate over lines from multiple input streams\n",
    "* stat — Interpreting stat() results\n",
    "* filecmp — File and Directory Comparisons\n",
    "* tempfile — Generate temporary files and directories\n",
    "* shutil — High-level file operations\n",
    "\n",
    "**Data Persistence**\n",
    "\n",
    "* pickle — Python object serialization\n",
    "* copyreg — Register pickle support functions\n",
    "* shelve — Python object persistence\n",
    "* marshal — Internal Python object serialization\n",
    "* dbm — Interfaces to Unix “databases”\n",
    "* sqlite3 — DB-API 2.0 interface for SQLite databases\n",
    "\n",
    "**Data Compression and Archiving**\n",
    "\n",
    "* zlib — Compression compatible with gzip\n",
    "* gzip — Support for gzip files\n",
    "* bz2 — Support for bzip2 compression\n",
    "* lzma — Compression using the LZMA algorithm\n",
    "* zipfile — Work with ZIP archives\n",
    "* tarfile — Read and write tar archive files\n",
    "\n",
    "**File Formats**\n",
    "\n",
    "* csv — CSV File Reading and Writing\n",
    "* configparser — Configuration file parser\n",
    "* netrc — netrc file processing\n",
    "* xdrlib — Encode and decode XDR data\n",
    "* plistlib — Generate and parse Mac OS X .plist files\n",
    "\n",
    "**Cryptographic Services**\n",
    "\n",
    "* hashlib — Secure hashes and message digests\n",
    "* hmac — Keyed-Hashing for Message Authentication\n",
    "* secrets — Generate secure random numbers for managing secrets\n",
    "\n",
    "**Generic Operating System Services**\n",
    "\n",
    "* os — Miscellaneous operating system interfaces\n",
    "* io — Core tools for working with streams\n",
    "* time — Time access and conversions\n",
    "* errno — Standard errno system symbols\n",
    "* ctypes — A foreign function library for Python\n",
    "\n",
    "**Concurrent Execution**\n",
    "\n",
    "* threading — Thread-based parallelism\n",
    "* multiprocessing — Process-based parallelism\n",
    "* subprocess — Subprocess management\n",
    "\n",
    "**Networking and Interprocess Communication**\n",
    "\n",
    "* asyncio — Asynchronous I/O\n",
    "* socket — Low-level networking interface\n",
    "* ssl — TLS/SSL wrapper for socket objects\n",
    "* signal — Set handlers for asynchronous events\n",
    "* mmap — Memory-mapped file support\n",
    "\n",
    "**Internet Data Handling**\n",
    "\n",
    "* email — An email and MIME handling package\n",
    "* json — JSON encoder and decoder\n",
    "* mailcap — Mailcap file handling\n",
    "* mailbox — Manipulate mailboxes in various formats\n",
    "* Graphical User Interfaces with Tk\n",
    "\n",
    "* tkinter — Python interface to Tcl/Tk\n",
    "\n",
    "Python packages can also be installed from local or online repositories such as the **Package Index (PyPI)**, this is a repository of software for the Python programming language. \n",
    "\n",
    "PyPI helps you find and install software developed and shared by the Python community. For specific applications such as scientific computing, packages can be installed using package managers such as [anaconda](https://www.anaconda.com/products/individual)."
   ]
  },
  {
   "cell_type": "markdown",
   "metadata": {
    "colab_type": "text",
    "id": "MgArG2NQjaM3"
   },
   "source": [
    "## Conclusion\n",
    "\n",
    "In this train, we learned how to create, import and use modules. We also explored the use of built-in modules in Python and how to determine what functions are present within modules. We further looked at Python packages; their creation and hierarchical organization. There are endless uses of modules and packages and each can be tailored to your area of expertise and shared along with other programmers. \n",
    "\n",
    "You can apply the skills you have gained from this train to create your own custom built modules and packages. You can go ahead and create a package that may assist you with data analysis, or you can even be adventurous and create your very own data-driven game!"
   ]
  },
  {
   "cell_type": "markdown",
   "metadata": {},
   "source": [
    "## Appendix\n",
    "\n",
    "Below are additional useful resources to help you further under python modules and packages:\n",
    "\n",
    "-  [Official Python Tutorial for Modules](https://docs.python.org/3/tutorial/modules.html)"
   ]
  }
 ],
 "metadata": {
  "colab": {
   "name": "12_kmeans_clustering.ipynb",
   "provenance": []
  },
  "kernelspec": {
   "display_name": "Python 3 (ipykernel)",
   "language": "python",
   "name": "python3"
  },
  "language_info": {
   "codemirror_mode": {
    "name": "ipython",
    "version": 3
   },
   "file_extension": ".py",
   "mimetype": "text/x-python",
   "name": "python",
   "nbconvert_exporter": "python",
   "pygments_lexer": "ipython3",
   "version": "3.10.9"
  }
 },
 "nbformat": 4,
 "nbformat_minor": 4
}
